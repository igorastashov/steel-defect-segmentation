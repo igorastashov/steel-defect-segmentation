{
 "cells": [
  {
   "cell_type": "markdown",
   "metadata": {},
   "source": [
    "# 1 Бинарная классфикация"
   ]
  },
  {
   "cell_type": "markdown",
   "metadata": {
    "id": "Fv2oEO1ggVbM"
   },
   "source": [
    "## 1 Загрузка бибилиотек"
   ]
  },
  {
   "cell_type": "code",
   "execution_count": 2,
   "metadata": {
    "executionInfo": {
     "elapsed": 7078,
     "status": "ok",
     "timestamp": 1717681784463,
     "user": {
      "displayName": "Igor Astashov",
      "userId": "07071031154975841447"
     },
     "user_tz": -420
    },
    "id": "OdBAaYTxVYm6"
   },
   "outputs": [],
   "source": [
    "import os\n",
    "\n",
    "import cv2\n",
    "import matplotlib.pyplot as plt\n",
    "import numpy as np\n",
    "import pandas as pd\n",
    "from IPython.display import SVG\n",
    "from tqdm import tqdm\n",
    "\n",
    "from torch.utils.data import Dataset, DataLoader\n",
    "import torchvision\n",
    "from PIL import Image\n",
    "\n",
    "import random\n",
    "import torch\n",
    "\n",
    "import copy\n",
    "\n",
    "import albumentations as A\n",
    "from albumentations import CropNonEmptyMaskIfExists\n",
    "from typing import List, Optional, Tuple\n",
    "\n",
    "import time\n",
    "from tqdm import tqdm\n",
    "\n",
    "from sklearn.metrics import confusion_matrix, f1_score, precision_score, recall_score, accuracy_score"
   ]
  },
  {
   "cell_type": "markdown",
   "metadata": {
    "id": "vFxkVYxP1T95"
   },
   "source": [
    "## 2 Загрузка данных"
   ]
  },
  {
   "cell_type": "code",
   "execution_count": 3,
   "metadata": {
    "colab": {
     "base_uri": "https://localhost:8080/"
    },
    "executionInfo": {
     "elapsed": 37010,
     "status": "ok",
     "timestamp": 1717671386583,
     "user": {
      "displayName": "Igor Astashov",
      "userId": "07071031154975841447"
     },
     "user_tz": -420
    },
    "id": "LA4i4xr-UgqJ",
    "outputId": "5f4fa269-848c-4447-c8a0-9f24d843ca79"
   },
   "outputs": [],
   "source": [
    "# from google.colab import drive, files\n",
    "# drive.mount('/content/drive')"
   ]
  },
  {
   "cell_type": "code",
   "execution_count": 4,
   "metadata": {
    "colab": {
     "base_uri": "https://localhost:8080/",
     "height": 89
    },
    "executionInfo": {
     "elapsed": 25686,
     "status": "ok",
     "timestamp": 1717671412262,
     "user": {
      "displayName": "Igor Astashov",
      "userId": "07071031154975841447"
     },
     "user_tz": -420
    },
    "id": "O3PxjXehSGdQ",
    "outputId": "3300440e-f508-42e3-8997-59f4c7b554c7"
   },
   "outputs": [],
   "source": [
    "# files.upload()"
   ]
  },
  {
   "cell_type": "code",
   "execution_count": 5,
   "metadata": {
    "colab": {
     "base_uri": "https://localhost:8080/"
    },
    "executionInfo": {
     "elapsed": 127831,
     "status": "ok",
     "timestamp": 1717671545375,
     "user": {
      "displayName": "Igor Astashov",
      "userId": "07071031154975841447"
     },
     "user_tz": -420
    },
    "id": "NKbY6e7fSGhQ",
    "outputId": "81ae281b-b457-4116-bd1d-e206b9223739"
   },
   "outputs": [],
   "source": [
    "# !ls -lha kaggle.json\n",
    "\n",
    "# !pip install -q kaggle\n",
    "# !mkdir -p ~/.kaggle\n",
    "# !cp kaggle.json ~/.kaggle/\n",
    "\n",
    "# !chmod 600 /root/.kaggle/kaggle.json\n",
    "\n",
    "# !kaggle competitions download -c severstal-steel-defect-detection\n",
    "\n",
    "# !unzip severstal-steel-defect-detection.zip -d /content/dataset >> None"
   ]
  },
  {
   "cell_type": "code",
   "execution_count": 6,
   "metadata": {
    "executionInfo": {
     "elapsed": 6956,
     "status": "ok",
     "timestamp": 1717671552327,
     "user": {
      "displayName": "Igor Astashov",
      "userId": "07071031154975841447"
     },
     "user_tz": -420
    },
    "id": "V0TCk2nqeglG"
   },
   "outputs": [],
   "source": [
    "# !cp -r /content/drive/MyDrive/kaggle/severstal/dataset/train_defect_flag.csv /content/dataset\n",
    "# !cp -r /content/drive/MyDrive/kaggle/severstal/dataset/full_train_df_folds.csv /content/dataset\n",
    "# !cp -r /content/drive/MyDrive/kaggle/severstal/dataset/train-5-folds.csv /content/dataset\n",
    "# !cp -r /content/drive/MyDrive/kaggle/severstal/dataset/full_train_df_folds.csv /content/dataset"
   ]
  },
  {
   "cell_type": "code",
   "execution_count": 7,
   "metadata": {
    "executionInfo": {
     "elapsed": 7,
     "status": "ok",
     "timestamp": 1717671552327,
     "user": {
      "displayName": "Igor Astashov",
      "userId": "07071031154975841447"
     },
     "user_tz": -420
    },
    "id": "2rLkDwNMvWcO"
   },
   "outputs": [],
   "source": [
    "# !mkdir -p /content/dataset/weights_and_logs"
   ]
  },
  {
   "cell_type": "code",
   "execution_count": 8,
   "metadata": {},
   "outputs": [],
   "source": [
    "# Тренировочные данные Colab\n",
    "# train_df = pd.read_csv(os.path.join('/content/drive/MyDrive/kaggle/severstal/dataset/', 'train.csv'))\n",
    "\n",
    "# Тренировочные данные разбитые по фолдам Colab\n",
    "# folds_ids = pd.read_csv(os.path.join('/content/drive/MyDrive/kaggle/severstal/dataset/', 'full_train_df_folds.csv'))\n",
    "\n",
    "# Базовая директория изображений Colab\n",
    "# BASE_DIR = '/content/drive/MyDrive/kaggle/severstal/dataset/train_images'"
   ]
  },
  {
   "cell_type": "code",
   "execution_count": 9,
   "metadata": {},
   "outputs": [],
   "source": [
    "import os\n",
    "notebook_path = os.path.abspath(\"1-stage-bclass.ipynb\")"
   ]
  },
  {
   "cell_type": "code",
   "execution_count": 10,
   "metadata": {
    "colab": {
     "base_uri": "https://localhost:8080/"
    },
    "executionInfo": {
     "elapsed": 1324,
     "status": "ok",
     "timestamp": 1717681786434,
     "user": {
      "displayName": "Igor Astashov",
      "userId": "07071031154975841447"
     },
     "user_tz": -420
    },
    "id": "CCz0_fAyiDXW",
    "outputId": "71582113-e8ce-47a8-865f-fa56cbc200b1"
   },
   "outputs": [],
   "source": [
    "# Подключим gpu\n",
    "os.environ['CUDA_VISIBLE_DEVICES'] = '0' # gpu №1\n",
    "device = torch.device('cuda:0' if torch.cuda.is_available() else 'cpu')\n",
    "\n",
    "# Тренировочные данные\n",
    "train_df = pd.read_csv(os.path.join(os.path.dirname(notebook_path), 'train.csv'))\n",
    "\n",
    "# Тренировочные данные разбитые по фолдам\n",
    "folds_ids = pd.read_csv(os.path.join(os.path.dirname(notebook_path), 'full_train_df_folds.csv'))"
   ]
  },
  {
   "cell_type": "code",
   "execution_count": 11,
   "metadata": {},
   "outputs": [],
   "source": [
    "# Номер фолда для валидации\n",
    "NUM_FOLD = 0"
   ]
  },
  {
   "cell_type": "code",
   "execution_count": 12,
   "metadata": {},
   "outputs": [
    {
     "data": {
      "text/plain": [
       "((10054,), (2514,))"
      ]
     },
     "execution_count": 12,
     "metadata": {},
     "output_type": "execute_result"
    }
   ],
   "source": [
    "# Разделим даннные на тренировочные (4 фолда) и валидационные (1 фолд)\n",
    "train_files = folds_ids.loc[folds_ids.stratifiedkfold != NUM_FOLD, 'ImageId'].values\n",
    "valid_files = folds_ids.loc[folds_ids.stratifiedkfold == NUM_FOLD, 'ImageId'].values\n",
    "\n",
    "train_files.shape, valid_files.shape"
   ]
  },
  {
   "cell_type": "code",
   "execution_count": 13,
   "metadata": {
    "colab": {
     "base_uri": "https://localhost:8080/",
     "height": 331
    },
    "executionInfo": {
     "elapsed": 6,
     "status": "ok",
     "timestamp": 1717681786434,
     "user": {
      "displayName": "Igor Astashov",
      "userId": "07071031154975841447"
     },
     "user_tz": -420
    },
    "id": "TPMszTIAgfyc",
    "outputId": "7e8771d0-011d-4bca-b8a9-b8d52a447599"
   },
   "outputs": [
    {
     "data": {
      "text/html": [
       "<div>\n",
       "<style scoped>\n",
       "    .dataframe tbody tr th:only-of-type {\n",
       "        vertical-align: middle;\n",
       "    }\n",
       "\n",
       "    .dataframe tbody tr th {\n",
       "        vertical-align: top;\n",
       "    }\n",
       "\n",
       "    .dataframe thead th {\n",
       "        text-align: right;\n",
       "    }\n",
       "</style>\n",
       "<table border=\"1\" class=\"dataframe\">\n",
       "  <thead>\n",
       "    <tr style=\"text-align: right;\">\n",
       "      <th></th>\n",
       "      <th>ImageId</th>\n",
       "      <th>EncodedPixels_0</th>\n",
       "      <th>EncodedPixels_1</th>\n",
       "      <th>EncodedPixels_2</th>\n",
       "      <th>EncodedPixels_3</th>\n",
       "      <th>EncodedPixels_4</th>\n",
       "      <th>class</th>\n",
       "      <th>stratifiedkfold</th>\n",
       "    </tr>\n",
       "  </thead>\n",
       "  <tbody>\n",
       "    <tr>\n",
       "      <th>0</th>\n",
       "      <td>0002cc93b.jpg</td>\n",
       "      <td>NaN</td>\n",
       "      <td>29102 12 29346 24 29602 24 29858 24 30114 24 3...</td>\n",
       "      <td>NaN</td>\n",
       "      <td>NaN</td>\n",
       "      <td>NaN</td>\n",
       "      <td>1</td>\n",
       "      <td>0</td>\n",
       "    </tr>\n",
       "    <tr>\n",
       "      <th>1</th>\n",
       "      <td>00031f466.jpg</td>\n",
       "      <td>0.0</td>\n",
       "      <td>NaN</td>\n",
       "      <td>NaN</td>\n",
       "      <td>NaN</td>\n",
       "      <td>NaN</td>\n",
       "      <td>0</td>\n",
       "      <td>4</td>\n",
       "    </tr>\n",
       "    <tr>\n",
       "      <th>2</th>\n",
       "      <td>000418bfc.jpg</td>\n",
       "      <td>0.0</td>\n",
       "      <td>NaN</td>\n",
       "      <td>NaN</td>\n",
       "      <td>NaN</td>\n",
       "      <td>NaN</td>\n",
       "      <td>0</td>\n",
       "      <td>3</td>\n",
       "    </tr>\n",
       "    <tr>\n",
       "      <th>3</th>\n",
       "      <td>000789191.jpg</td>\n",
       "      <td>0.0</td>\n",
       "      <td>NaN</td>\n",
       "      <td>NaN</td>\n",
       "      <td>NaN</td>\n",
       "      <td>NaN</td>\n",
       "      <td>0</td>\n",
       "      <td>2</td>\n",
       "    </tr>\n",
       "    <tr>\n",
       "      <th>4</th>\n",
       "      <td>0007a71bf.jpg</td>\n",
       "      <td>NaN</td>\n",
       "      <td>NaN</td>\n",
       "      <td>NaN</td>\n",
       "      <td>18661 28 18863 82 19091 110 19347 110 19603 11...</td>\n",
       "      <td>NaN</td>\n",
       "      <td>3</td>\n",
       "      <td>3</td>\n",
       "    </tr>\n",
       "  </tbody>\n",
       "</table>\n",
       "</div>"
      ],
      "text/plain": [
       "         ImageId  EncodedPixels_0  \\\n",
       "0  0002cc93b.jpg              NaN   \n",
       "1  00031f466.jpg              0.0   \n",
       "2  000418bfc.jpg              0.0   \n",
       "3  000789191.jpg              0.0   \n",
       "4  0007a71bf.jpg              NaN   \n",
       "\n",
       "                                     EncodedPixels_1 EncodedPixels_2  \\\n",
       "0  29102 12 29346 24 29602 24 29858 24 30114 24 3...             NaN   \n",
       "1                                                NaN             NaN   \n",
       "2                                                NaN             NaN   \n",
       "3                                                NaN             NaN   \n",
       "4                                                NaN             NaN   \n",
       "\n",
       "                                     EncodedPixels_3 EncodedPixels_4  class  \\\n",
       "0                                                NaN             NaN      1   \n",
       "1                                                NaN             NaN      0   \n",
       "2                                                NaN             NaN      0   \n",
       "3                                                NaN             NaN      0   \n",
       "4  18661 28 18863 82 19091 110 19347 110 19603 11...             NaN      3   \n",
       "\n",
       "   stratifiedkfold  \n",
       "0                0  \n",
       "1                4  \n",
       "2                3  \n",
       "3                2  \n",
       "4                3  "
      ]
     },
     "execution_count": 13,
     "metadata": {},
     "output_type": "execute_result"
    }
   ],
   "source": [
    "folds_ids.head()"
   ]
  },
  {
   "cell_type": "markdown",
   "metadata": {
    "id": "eVUC1RCEAMX2"
   },
   "source": [
    "## 3 Датасет для тренировочных данных"
   ]
  },
  {
   "cell_type": "code",
   "execution_count": 14,
   "metadata": {
    "executionInfo": {
     "elapsed": 16,
     "status": "ok",
     "timestamp": 1717681789074,
     "user": {
      "displayName": "Igor Astashov",
      "userId": "07071031154975841447"
     },
     "user_tz": -420
    },
    "id": "EdarCc7NrBNw"
   },
   "outputs": [],
   "source": [
    "# Базовая директория изображений\n",
    "BASE_DIR = os.path.join(os.path.dirname(notebook_path), 'train_images')\n",
    "\n",
    "# Размер изображения на входе\n",
    "IN_DIM = (256, 1600)\n",
    "\n",
    "# Число каналов маски (4 класса)\n",
    "MASK_CHANELS = 4"
   ]
  },
  {
   "cell_type": "code",
   "execution_count": 15,
   "metadata": {
    "executionInfo": {
     "elapsed": 15,
     "status": "ok",
     "timestamp": 1717681789075,
     "user": {
      "displayName": "Igor Astashov",
      "userId": "07071031154975841447"
     },
     "user_tz": -420
    },
    "id": "dNmmsQqNucqK"
   },
   "outputs": [],
   "source": [
    "# Преобразуем строковые rle (run-length encoding) описания масок в формат изображений\n",
    "def rle2mask(rle, input_shape):\n",
    "    # Ширина и высота из входной формы\n",
    "    width, height = input_shape[:2]\n",
    "\n",
    "    # Пустой массив для маски\n",
    "    mask = np.zeros( width*height ).astype(np.uint8)\n",
    "\n",
    "    # rle стока в массив чисел\n",
    "    array = np.asarray([int(x) for x in rle.split()])\n",
    "    starts = array[0::2]\n",
    "    lengths = array[1::2]\n",
    "\n",
    "    # Заполненим маски значениями 1 в указанных участках\n",
    "    current_position = 0\n",
    "    for index, start in enumerate(starts):\n",
    "        mask[int(start):int(start+lengths[index])] = 1\n",
    "        current_position += lengths[index]\n",
    "\n",
    "    return mask.reshape(height, width).T\n",
    "\n",
    "# Многослойные маски из списка rle строк\n",
    "def build_masks(rles, class_ids, input_shape, num_classes):\n",
    "    masks = np.zeros((*input_shape, num_classes), dtype=np.uint8)\n",
    "\n",
    "    # Преобразование каждой строки rle в маску и добавление в массив масок\n",
    "    for rle, class_id in zip(rles, class_ids):\n",
    "        if isinstance(rle, str):\n",
    "            masks[:, :, class_id - 1] = rle2mask(rle, input_shape)\n",
    "\n",
    "    return masks"
   ]
  },
  {
   "cell_type": "code",
   "execution_count": 16,
   "metadata": {
    "executionInfo": {
     "elapsed": 10,
     "status": "ok",
     "timestamp": 1717681791293,
     "user": {
      "displayName": "Igor Astashov",
      "userId": "07071031154975841447"
     },
     "user_tz": -420
    },
    "id": "tliDSXbtp0lx"
   },
   "outputs": [],
   "source": [
    "# Композиция аугментаций изображений\n",
    "def get_training_augmentation_crop_image():\n",
    "    train_transform = [\n",
    "\n",
    "        # Отразим горизонтально / вериткально\n",
    "        A.HorizontalFlip(p=0.5),\n",
    "        A.VerticalFlip(p=0.5),\n",
    "\n",
    "        # Повернем, добавим искажения\n",
    "        A.Rotate(limit=3, p=0.5),\n",
    "        A.OpticalDistortion(p=0.2),\n",
    "\n",
    "        # Выберем одно из следующих действий\n",
    "        A.OneOf([\n",
    "\n",
    "            # Кроп, если маска непустая (256x320) или случайный кроп\n",
    "            # (может кропнуть участок где нет маскированных пикселей)\n",
    "            CropNonEmptyMaskIfExists(256, 320, p=0.7),\n",
    "            A.RandomCrop(256, 320, p=0.3),\n",
    "        ], p=1.0),\n",
    "\n",
    "        # Дополнение изображения, если необходимо, до размеров (256x320),\n",
    "        # заполняя границы константным значением 0\n",
    "        A.PadIfNeeded(min_height=256, min_width=320,\n",
    "                      border_mode=cv2.BORDER_CONSTANT,\n",
    "                      value=0, p=0.3),\n",
    "        #  Случайный кроп (256x320)\n",
    "        A.RandomCrop(256, 320, p=1.0)\n",
    "    ]\n",
    "    return A.Compose(train_transform)"
   ]
  },
  {
   "cell_type": "code",
   "execution_count": 17,
   "metadata": {
    "executionInfo": {
     "elapsed": 5,
     "status": "ok",
     "timestamp": 1717681792667,
     "user": {
      "displayName": "Igor Astashov",
      "userId": "07071031154975841447"
     },
     "user_tz": -420
    },
    "id": "CnkB4urS1EWa"
   },
   "outputs": [],
   "source": [
    "# Нормализуем каждый канал изображения\n",
    "def get_preprocessing():\n",
    "    _transform = [\n",
    "        A.Normalize(mean=(0.485, 0.456, 0.406),\n",
    "                    std=(0.229, 0.224, 0.225))\n",
    "    ]\n",
    "    return A.Compose(_transform)"
   ]
  },
  {
   "cell_type": "markdown",
   "metadata": {
    "id": "RwzDIB46Zin8"
   },
   "source": [
    "### 3.1 Класс Датасет"
   ]
  },
  {
   "cell_type": "code",
   "execution_count": 18,
   "metadata": {
    "executionInfo": {
     "elapsed": 20,
     "status": "ok",
     "timestamp": 1717681794041,
     "user": {
      "displayName": "Igor Astashov",
      "userId": "07071031154975841447"
     },
     "user_tz": -420
    },
    "id": "fnD0-26UqHEo"
   },
   "outputs": [],
   "source": [
    "# Соберем в класс\n",
    "class Dataset_train:\n",
    "    def __init__(\n",
    "            self,\n",
    "            ids,\n",
    "            df,\n",
    "            images_dir=BASE_DIR,\n",
    "            dim=IN_DIM,\n",
    "            augmentation=None,\n",
    "            preprocessing=None\n",
    "    ):\n",
    "\n",
    "        \"\"\"\n",
    "        Класс для загрузки обучающего набора данных.\n",
    "\n",
    "        :param ids: Список имен изображений.\n",
    "        :param df: DataFrame, с информацией о масках.\n",
    "        :param images_dir: Директория с изображениями.\n",
    "        :param dim: Размер входного изображения.\n",
    "        :param augmentation: Объект аугментации изображения (по умолчанию None).\n",
    "        :param preprocessing: Объект предварительной обработки изображения (по умолчанию None).\n",
    "        \"\"\"\n",
    "\n",
    "        self.ids = ids\n",
    "        self.df=df\n",
    "        self.images_path = [os.path.join(images_dir, image_id) for image_id in self.ids]\n",
    "        self.dim=dim\n",
    "        self.augmentation = augmentation\n",
    "        self.preprocessing = preprocessing\n",
    "\n",
    "    def __getitem__(self, i):\n",
    "        \"\"\"\n",
    "        Возвращает один элемент набора данных.\n",
    "\n",
    "        :param i: Индекс элемента.\n",
    "        :return: Кортеж из изображения и маски в формате тензоров.\n",
    "        \"\"\"\n",
    "        # Прочитаем изображение\n",
    "        image = cv2.imread(self.images_path[i], -1)\n",
    "\n",
    "        # Построим маску\n",
    "        mask_df = self.df[self.df['ImageId'] == self.ids[i]]\n",
    "        rles = mask_df['EncodedPixels'].values\n",
    "        class_ids = mask_df['ClassId'].values\n",
    "        mask = build_masks(rles, class_ids, input_shape=self.dim, num_classes=MASK_CHANELS)\n",
    "        mask = np.asarray(mask, np.uint8)\n",
    "\n",
    "        # Добавим аугментацию\n",
    "        if self.augmentation:\n",
    "            sample = self.augmentation(image=image, mask=mask)\n",
    "            image, mask = sample['image'], sample['mask']\n",
    "\n",
    "        # Добавим препроцессинг\n",
    "        if self.preprocessing:\n",
    "            sample = self.preprocessing(image=image, mask=mask)\n",
    "            image = sample['image']\n",
    "            mask = sample['mask']\n",
    "\n",
    "        # Возвращаем изображение и информацию о присутствии классов\n",
    "        return torch.Tensor(image).permute(2, 0, 1), torch.Tensor(np.max(np.max(mask, axis=(0, 1)), axis=0, keepdims=True))\n",
    "\n",
    "    def __len__(self):\n",
    "        \"\"\"\n",
    "        Возвращает количество элементов в наборе данных.\n",
    "\n",
    "        :return: Количество элементов.\n",
    "        \"\"\"\n",
    "        return len(self.ids)"
   ]
  },
  {
   "cell_type": "code",
   "execution_count": 19,
   "metadata": {
    "executionInfo": {
     "elapsed": 15,
     "status": "ok",
     "timestamp": 1717681794042,
     "user": {
      "displayName": "Igor Astashov",
      "userId": "07071031154975841447"
     },
     "user_tz": -420
    },
    "id": "EL1h1ub3iDZt"
   },
   "outputs": [],
   "source": [
    "train_dataset = Dataset_train(\n",
    "        ids=train_files,\n",
    "        df=train_df,\n",
    "        augmentation=get_training_augmentation_crop_image(),\n",
    "        preprocessing=get_preprocessing()\n",
    ")"
   ]
  },
  {
   "cell_type": "code",
   "execution_count": 20,
   "metadata": {
    "colab": {
     "base_uri": "https://localhost:8080/"
    },
    "executionInfo": {
     "elapsed": 6,
     "status": "ok",
     "timestamp": 1717681794908,
     "user": {
      "displayName": "Igor Astashov",
      "userId": "07071031154975841447"
     },
     "user_tz": -420
    },
    "id": "LN1rtTHgZDWl",
    "outputId": "5bf514fa-fefc-417a-cf4d-359221783da6"
   },
   "outputs": [
    {
     "data": {
      "text/plain": [
       "(tensor([[[-0.7137, -0.7308, -0.7993,  ..., -0.7479, -0.6965, -0.6452],\n",
       "          [-0.7650, -0.7822, -0.8507,  ..., -0.7137, -0.7308, -0.6281],\n",
       "          [-0.8507, -0.8849, -0.9705,  ..., -0.6452, -0.7137, -0.6452],\n",
       "          ...,\n",
       "          [-0.0801, -0.0972, -0.1486,  ...,  0.0398,  0.0741,  0.0741],\n",
       "          [-0.0972, -0.1143, -0.1143,  ...,  0.0398,  0.0741,  0.0741],\n",
       "          [-0.1314, -0.1486, -0.1314,  ...,  0.0741,  0.0569,  0.1083]],\n",
       " \n",
       "         [[-0.6001, -0.6176, -0.6877,  ..., -0.6352, -0.5826, -0.5301],\n",
       "          [-0.6527, -0.6702, -0.7402,  ..., -0.6001, -0.6176, -0.5126],\n",
       "          [-0.7402, -0.7752, -0.8627,  ..., -0.5301, -0.6001, -0.5301],\n",
       "          ...,\n",
       "          [ 0.0476,  0.0301, -0.0224,  ...,  0.1702,  0.2052,  0.2052],\n",
       "          [ 0.0301,  0.0126,  0.0126,  ...,  0.1702,  0.2052,  0.2052],\n",
       "          [-0.0049, -0.0224, -0.0049,  ...,  0.2052,  0.1877,  0.2402]],\n",
       " \n",
       "         [[-0.3753, -0.3927, -0.4624,  ..., -0.4101, -0.3578, -0.3055],\n",
       "          [-0.4275, -0.4450, -0.5147,  ..., -0.3753, -0.3927, -0.2881],\n",
       "          [-0.5147, -0.5495, -0.6367,  ..., -0.3055, -0.3753, -0.3055],\n",
       "          ...,\n",
       "          [ 0.2696,  0.2522,  0.1999,  ...,  0.3916,  0.4265,  0.4265],\n",
       "          [ 0.2522,  0.2348,  0.2348,  ...,  0.3916,  0.4265,  0.4265],\n",
       "          [ 0.2173,  0.1999,  0.2173,  ...,  0.4265,  0.4091,  0.4614]]]),\n",
       " tensor([0.]))"
      ]
     },
     "execution_count": 20,
     "metadata": {},
     "output_type": "execute_result"
    }
   ],
   "source": [
    "next(iter(train_dataset))"
   ]
  },
  {
   "cell_type": "markdown",
   "metadata": {
    "id": "j07yS4NkAuYt"
   },
   "source": [
    "## 4 Датасет для валидационных данных"
   ]
  },
  {
   "cell_type": "code",
   "execution_count": 21,
   "metadata": {
    "executionInfo": {
     "elapsed": 15,
     "status": "ok",
     "timestamp": 1717681801163,
     "user": {
      "displayName": "Igor Astashov",
      "userId": "07071031154975841447"
     },
     "user_tz": -420
    },
    "id": "sKJ4FIlNl0wq"
   },
   "outputs": [],
   "source": [
    "# Число участков\n",
    "N_CROP = 5\n",
    "\n",
    "# Размер участка\n",
    "OUT_DIM = (N_CROP, 256, 320)\n",
    "\n",
    "# Число входных каналов (RGB)\n",
    "IMG_CHANELS = 3"
   ]
  },
  {
   "cell_type": "code",
   "execution_count": 22,
   "metadata": {
    "executionInfo": {
     "elapsed": 3,
     "status": "ok",
     "timestamp": 1717681803389,
     "user": {
      "displayName": "Igor Astashov",
      "userId": "07071031154975841447"
     },
     "user_tz": -420
    },
    "id": "pAnDRSUWYRqA"
   },
   "outputs": [],
   "source": [
    "class Dataset_valid(Dataset):\n",
    "    def __init__(self,\n",
    "                 ids,\n",
    "                 df,\n",
    "                 images_dir=BASE_DIR,\n",
    "                 dim=IN_DIM,\n",
    "                 preprocessing=None):\n",
    "        \"\"\"\n",
    "        Класс для загрузки валидационного набора данных.\n",
    "\n",
    "        :param ids: Список имен изображений.\n",
    "        :param df: DataFrame, с информацией о масках.\n",
    "        :param images_dir: Директория с изображениями.\n",
    "        :param dim: Размер входного изображения.\n",
    "        :param preprocessing: Объект предварительной обработки изображения (по умолчанию None).\n",
    "        \"\"\"\n",
    "        self.ids = ids\n",
    "        self.df = df\n",
    "        self.images_path = [os.path.join(images_dir, image_id) for image_id in self.ids]\n",
    "        self.dim = dim\n",
    "        self.preprocessing = preprocessing\n",
    "\n",
    "    def __getitem__(self, i):\n",
    "        \"\"\"\n",
    "        Возвращает нарезанное изображение и маски на участки.\n",
    "\n",
    "        Args:\n",
    "            i (int): Индекс изображения.\n",
    "\n",
    "        Returns:\n",
    "            torch.Tensor: Нарезанное изображение на учвастки.\n",
    "            torch.Tensor: Нарезанная маска на участки с 4-мя слоями на каждом.\n",
    "        \"\"\"\n",
    "        # Чтение данных\n",
    "        image = cv2.imread(self.images_path[i], -1)\n",
    "\n",
    "        # Создание маски\n",
    "        mask_df = self.df[self.df['ImageId'] == self.ids[i]]\n",
    "        rles = mask_df['EncodedPixels'].values\n",
    "        class_ids = mask_df['ClassId'].values\n",
    "        mask = build_masks(rles, class_ids, input_shape=self.dim, num_classes=MASK_CHANELS)\n",
    "\n",
    "        # Пустые массивы для хранения обрезков\n",
    "        image_crop = np.empty((*OUT_DIM, IMG_CHANELS))\n",
    "        mask_crop = np.empty((*OUT_DIM, MASK_CHANELS))\n",
    "\n",
    "        # Выполнение обрезки\n",
    "        for i in range(N_CROP):\n",
    "            image_crop[i] = image[:, i * OUT_DIM[2] : (i + 1) * OUT_DIM[2], :]\n",
    "            mask_crop[i] = mask[:, i * OUT_DIM[2] : (i + 1) * OUT_DIM[2], :]\n",
    "\n",
    "        # Применение препроцессинга\n",
    "        if self.preprocessing:\n",
    "            sample = self.preprocessing(image=image_crop, mask=mask_crop)\n",
    "            image_crop, mask_crop = sample['image'], sample['mask']\n",
    "\n",
    "        # Преобразование в тензоры\n",
    "        image_crop = torch.Tensor(image_crop).permute(0, 3, 1, 2)\n",
    "        mask_crop = torch.Tensor(np.max(np.max(mask_crop, axis=(1, 2)), axis=1,  keepdims=True))\n",
    "\n",
    "        return image_crop, mask_crop\n",
    "\n",
    "    def __len__(self):\n",
    "        \"\"\"\n",
    "        Возвращает количество изображений в датасете.\n",
    "\n",
    "        Returns:\n",
    "            int: Количество изображений.\n",
    "        \"\"\"\n",
    "        return len(self.ids)"
   ]
  },
  {
   "cell_type": "code",
   "execution_count": 23,
   "metadata": {
    "executionInfo": {
     "elapsed": 2,
     "status": "ok",
     "timestamp": 1717681803389,
     "user": {
      "displayName": "Igor Astashov",
      "userId": "07071031154975841447"
     },
     "user_tz": -420
    },
    "id": "EUQ9ZKXjAyFh"
   },
   "outputs": [],
   "source": [
    "valid_dataset = Dataset_valid(\n",
    "    ids=valid_files,\n",
    "    df=train_df,\n",
    "    preprocessing=get_preprocessing()\n",
    ")"
   ]
  },
  {
   "cell_type": "code",
   "execution_count": 24,
   "metadata": {
    "colab": {
     "base_uri": "https://localhost:8080/"
    },
    "executionInfo": {
     "elapsed": 4,
     "status": "ok",
     "timestamp": 1717681805088,
     "user": {
      "displayName": "Igor Astashov",
      "userId": "07071031154975841447"
     },
     "user_tz": -420
    },
    "id": "PzzfAXXwvq4T",
    "outputId": "7bf6d823-98fe-4c35-d26c-5ba015eb1b8c"
   },
   "outputs": [
    {
     "data": {
      "text/plain": [
       "(tensor([[[[-0.9192, -0.9192, -0.9534,  ..., -1.1418, -0.9020, -0.8164],\n",
       "           [-0.9877, -0.9534, -0.9534,  ..., -0.9020, -0.7993, -0.6794],\n",
       "           [-1.0733, -1.0219, -1.0048,  ..., -0.9705, -0.8849, -0.7822],\n",
       "           ...,\n",
       "           [ 0.5364,  0.1597,  0.1254,  ..., -0.2171,  0.0056, -0.2513],\n",
       "           [ 0.6221, -0.2171, -0.4054,  ..., -0.4054, -0.3369, -0.0629],\n",
       "           [ 0.5364, -0.1657, -0.4397,  ..., -0.3541, -0.2171, -0.0629]],\n",
       " \n",
       "          [[-0.8102, -0.8102, -0.8452,  ..., -1.0378, -0.7927, -0.7052],\n",
       "           [-0.8803, -0.8452, -0.8452,  ..., -0.7927, -0.6877, -0.5651],\n",
       "           [-0.9678, -0.9153, -0.8978,  ..., -0.8627, -0.7752, -0.6702],\n",
       "           ...,\n",
       "           [ 0.6779,  0.2927,  0.2577,  ..., -0.0924,  0.1352, -0.1275],\n",
       "           [ 0.7654, -0.0924, -0.2850,  ..., -0.2850, -0.2150,  0.0651],\n",
       "           [ 0.6779, -0.0399, -0.3200,  ..., -0.2325, -0.0924,  0.0651]],\n",
       " \n",
       "          [[-0.5844, -0.5844, -0.6193,  ..., -0.8110, -0.5670, -0.4798],\n",
       "           [-0.6541, -0.6193, -0.6193,  ..., -0.5670, -0.4624, -0.3404],\n",
       "           [-0.7413, -0.6890, -0.6715,  ..., -0.6367, -0.5495, -0.4450],\n",
       "           ...,\n",
       "           [ 0.8971,  0.5136,  0.4788,  ...,  0.1302,  0.3568,  0.0953],\n",
       "           [ 0.9842,  0.1302, -0.0615,  ..., -0.0615,  0.0082,  0.2871],\n",
       "           [ 0.8971,  0.1825, -0.0964,  ..., -0.0092,  0.1302,  0.2871]]],\n",
       " \n",
       " \n",
       "         [[[-0.5596, -0.5082, -0.9192,  ..., -1.1075, -1.1247, -1.2788],\n",
       "           [-0.6109, -0.5424, -0.8164,  ..., -1.1589, -1.1589, -1.2274],\n",
       "           [-0.6965, -0.6109, -0.7650,  ..., -1.1247, -1.1418, -1.1418],\n",
       "           ...,\n",
       "           [-0.3369, -0.1143, -0.2342,  ...,  1.4783,  0.5364, -0.2171],\n",
       "           [-0.2513, -0.1999, -0.3541,  ...,  0.7077,  1.5297,  1.3413],\n",
       "           [-0.1486, -0.3198, -0.3883,  ...,  0.6221,  1.5639,  1.2899]],\n",
       " \n",
       "          [[-0.4426, -0.3901, -0.8102,  ..., -1.0028, -1.0203, -1.1779],\n",
       "           [-0.4951, -0.4251, -0.7052,  ..., -1.0553, -1.0553, -1.1253],\n",
       "           [-0.5826, -0.4951, -0.6527,  ..., -1.0203, -1.0378, -1.0378],\n",
       "           ...,\n",
       "           [-0.2150,  0.0126, -0.1099,  ...,  1.6408,  0.6779, -0.0924],\n",
       "           [-0.1275, -0.0749, -0.2325,  ...,  0.8529,  1.6933,  1.5007],\n",
       "           [-0.0224, -0.1975, -0.2675,  ...,  0.7654,  1.7283,  1.4482]],\n",
       " \n",
       "          [[-0.2184, -0.1661, -0.5844,  ..., -0.7761, -0.7936, -0.9504],\n",
       "           [-0.2707, -0.2010, -0.4798,  ..., -0.8284, -0.8284, -0.8981],\n",
       "           [-0.3578, -0.2707, -0.4275,  ..., -0.7936, -0.8110, -0.8110],\n",
       "           ...,\n",
       "           [ 0.0082,  0.2348,  0.1128,  ...,  1.8557,  0.8971,  0.1302],\n",
       "           [ 0.0953,  0.1476, -0.0092,  ...,  1.0714,  1.9080,  1.7163],\n",
       "           [ 0.1999,  0.0256, -0.0441,  ...,  0.9842,  1.9428,  1.6640]]],\n",
       " \n",
       " \n",
       "         [[[-1.1589, -1.2103, -1.0390,  ..., -0.8678, -0.5767, -0.7993],\n",
       "           [-1.1247, -1.1932, -1.1075,  ..., -0.8335, -0.8507, -0.7650],\n",
       "           [-1.1760, -1.1418, -1.1589,  ..., -1.0904, -0.6281, -0.7993],\n",
       "           ...,\n",
       "           [ 0.3309,  0.2624,  0.2453,  ...,  0.7591,  0.6563,  0.4851],\n",
       "           [ 0.0741, -0.0801, -0.0629,  ...,  0.4337,  0.6563,  0.8447],\n",
       "           [-0.0116, -0.1143,  0.0398,  ...,  0.4851,  0.6563,  0.8276]],\n",
       " \n",
       "          [[-1.0553, -1.1078, -0.9328,  ..., -0.7577, -0.4601, -0.6877],\n",
       "           [-1.0203, -1.0903, -1.0028,  ..., -0.7227, -0.7402, -0.6527],\n",
       "           [-1.0728, -1.0378, -1.0553,  ..., -0.9853, -0.5126, -0.6877],\n",
       "           ...,\n",
       "           [ 0.4678,  0.3978,  0.3803,  ...,  0.9055,  0.8004,  0.6254],\n",
       "           [ 0.2052,  0.0476,  0.0651,  ...,  0.5728,  0.8004,  0.9930],\n",
       "           [ 0.1176,  0.0126,  0.1702,  ...,  0.6254,  0.8004,  0.9755]],\n",
       " \n",
       "          [[-0.8284, -0.8807, -0.7064,  ..., -0.5321, -0.2358, -0.4624],\n",
       "           [-0.7936, -0.8633, -0.7761,  ..., -0.4973, -0.5147, -0.4275],\n",
       "           [-0.8458, -0.8110, -0.8284,  ..., -0.7587, -0.2881, -0.4624],\n",
       "           ...,\n",
       "           [ 0.6879,  0.6182,  0.6008,  ...,  1.1237,  1.0191,  0.8448],\n",
       "           [ 0.4265,  0.2696,  0.2871,  ...,  0.7925,  1.0191,  1.2108],\n",
       "           [ 0.3393,  0.2348,  0.3916,  ...,  0.8448,  1.0191,  1.1934]]],\n",
       " \n",
       " \n",
       "         [[[-0.6281, -0.3883, -0.6623,  ..., -0.9534, -0.9534, -0.9534],\n",
       "           [-0.7479, -0.7137, -0.5424,  ..., -0.8164, -0.8507, -0.8849],\n",
       "           [-0.5767, -0.5424, -0.4911,  ..., -0.8164, -0.9534, -1.0048],\n",
       "           ...,\n",
       "           [ 0.5707,  0.5536,  0.5878,  ..., -0.1486,  0.0398,  0.1426],\n",
       "           [ 0.5536,  0.4508,  0.6563,  ..., -0.3027, -0.1143, -0.0801],\n",
       "           [ 0.5878,  0.5364,  0.7933,  ..., -0.2513, -0.0629, -0.0972]],\n",
       " \n",
       "          [[-0.5126, -0.2675, -0.5476,  ..., -0.8452, -0.8452, -0.8452],\n",
       "           [-0.6352, -0.6001, -0.4251,  ..., -0.7052, -0.7402, -0.7752],\n",
       "           [-0.4601, -0.4251, -0.3725,  ..., -0.7052, -0.8452, -0.8978],\n",
       "           ...,\n",
       "           [ 0.7129,  0.6954,  0.7304,  ..., -0.0224,  0.1702,  0.2752],\n",
       "           [ 0.6954,  0.5903,  0.8004,  ..., -0.1800,  0.0126,  0.0476],\n",
       "           [ 0.7304,  0.6779,  0.9405,  ..., -0.1275,  0.0651,  0.0301]],\n",
       " \n",
       "          [[-0.2881, -0.0441, -0.3230,  ..., -0.6193, -0.6193, -0.6193],\n",
       "           [-0.4101, -0.3753, -0.2010,  ..., -0.4798, -0.5147, -0.5495],\n",
       "           [-0.2358, -0.2010, -0.1487,  ..., -0.4798, -0.6193, -0.6715],\n",
       "           ...,\n",
       "           [ 0.9319,  0.9145,  0.9494,  ...,  0.1999,  0.3916,  0.4962],\n",
       "           [ 0.9145,  0.8099,  1.0191,  ...,  0.0431,  0.2348,  0.2696],\n",
       "           [ 0.9494,  0.8971,  1.1585,  ...,  0.0953,  0.2871,  0.2522]]],\n",
       " \n",
       " \n",
       "         [[[-0.8507, -1.0390, -0.9534,  ..., -1.2959, -1.2959, -1.2617],\n",
       "           [-0.8507, -0.9534, -0.8678,  ..., -1.2959, -1.2788, -1.2445],\n",
       "           [-0.9363, -0.9534, -0.8678,  ..., -1.2788, -1.2445, -1.1932],\n",
       "           ...,\n",
       "           [ 0.0398,  0.0227, -0.1828,  ..., -1.2445, -1.2445, -1.2617],\n",
       "           [-0.1999, -0.1999, -0.3541,  ..., -1.1760, -1.1932, -1.2959],\n",
       "           [-0.1314, -0.1999, -0.3712,  ..., -1.1247, -1.1247, -1.2617]],\n",
       " \n",
       "          [[-0.7402, -0.9328, -0.8452,  ..., -1.1954, -1.1954, -1.1604],\n",
       "           [-0.7402, -0.8452, -0.7577,  ..., -1.1954, -1.1779, -1.1429],\n",
       "           [-0.8277, -0.8452, -0.7577,  ..., -1.1779, -1.1429, -1.0903],\n",
       "           ...,\n",
       "           [ 0.1702,  0.1527, -0.0574,  ..., -1.1429, -1.1429, -1.1604],\n",
       "           [-0.0749, -0.0749, -0.2325,  ..., -1.0728, -1.0903, -1.1954],\n",
       "           [-0.0049, -0.0749, -0.2500,  ..., -1.0203, -1.0203, -1.1604]],\n",
       " \n",
       "          [[-0.5147, -0.7064, -0.6193,  ..., -0.9678, -0.9678, -0.9330],\n",
       "           [-0.5147, -0.6193, -0.5321,  ..., -0.9678, -0.9504, -0.9156],\n",
       "           [-0.6018, -0.6193, -0.5321,  ..., -0.9504, -0.9156, -0.8633],\n",
       "           ...,\n",
       "           [ 0.3916,  0.3742,  0.1651,  ..., -0.9156, -0.9156, -0.9330],\n",
       "           [ 0.1476,  0.1476, -0.0092,  ..., -0.8458, -0.8633, -0.9678],\n",
       "           [ 0.2173,  0.1476, -0.0267,  ..., -0.7936, -0.7936, -0.9330]]]]),\n",
       " tensor([[1.],\n",
       "         [1.],\n",
       "         [1.],\n",
       "         [0.],\n",
       "         [0.]]))"
      ]
     },
     "execution_count": 24,
     "metadata": {},
     "output_type": "execute_result"
    }
   ],
   "source": [
    "next(iter(valid_dataset))"
   ]
  },
  {
   "cell_type": "markdown",
   "metadata": {
    "id": "e_S1ziXCYVT8"
   },
   "source": [
    "## 5 Даталоадер"
   ]
  },
  {
   "cell_type": "code",
   "execution_count": 25,
   "metadata": {
    "executionInfo": {
     "elapsed": 4,
     "status": "ok",
     "timestamp": 1717681806050,
     "user": {
      "displayName": "Igor Astashov",
      "userId": "07071031154975841447"
     },
     "user_tz": -420
    },
    "id": "ACwCq96lYnEt"
   },
   "outputs": [],
   "source": [
    "BATCH_SIZE = 16"
   ]
  },
  {
   "cell_type": "code",
   "execution_count": 26,
   "metadata": {
    "executionInfo": {
     "elapsed": 3,
     "status": "ok",
     "timestamp": 1717681806051,
     "user": {
      "displayName": "Igor Astashov",
      "userId": "07071031154975841447"
     },
     "user_tz": -420
    },
    "id": "1d2sHuNtvq9h"
   },
   "outputs": [],
   "source": [
    "dataloaders = {'train': torch.utils.data.DataLoader(train_dataset,\n",
    "                                                    shuffle=True,\n",
    "                                                    num_workers=0,\n",
    "                                                    batch_size=BATCH_SIZE,\n",
    "                                                    pin_memory=True),\n",
    "               'val': torch.utils.data.DataLoader(valid_dataset,\n",
    "                                                  shuffle=False,\n",
    "                                                  num_workers=0,\n",
    "                                                  batch_size=1,\n",
    "                                                  pin_memory=True)}"
   ]
  },
  {
   "cell_type": "code",
   "execution_count": 27,
   "metadata": {
    "colab": {
     "base_uri": "https://localhost:8080/"
    },
    "executionInfo": {
     "elapsed": 6324,
     "status": "ok",
     "timestamp": 1717681813832,
     "user": {
      "displayName": "Igor Astashov",
      "userId": "07071031154975841447"
     },
     "user_tz": -420
    },
    "id": "cfKfRplekMZl",
    "outputId": "ccb9464d-b1fc-4f7e-83e4-e67a70f131b3"
   },
   "outputs": [
    {
     "name": "stdout",
     "output_type": "stream",
     "text": [
      "CPU times: total: 172 ms\n",
      "Wall time: 298 ms\n"
     ]
    },
    {
     "data": {
      "text/plain": [
       "tensor([[0.],\n",
       "        [0.],\n",
       "        [1.],\n",
       "        [0.],\n",
       "        [1.],\n",
       "        [1.],\n",
       "        [1.],\n",
       "        [1.],\n",
       "        [1.],\n",
       "        [1.],\n",
       "        [0.],\n",
       "        [0.],\n",
       "        [0.],\n",
       "        [1.],\n",
       "        [0.],\n",
       "        [1.]])"
      ]
     },
     "execution_count": 27,
     "metadata": {},
     "output_type": "execute_result"
    }
   ],
   "source": [
    "%%time\n",
    "next(iter(dataloaders['train']))[1]"
   ]
  },
  {
   "cell_type": "code",
   "execution_count": 28,
   "metadata": {
    "colab": {
     "base_uri": "https://localhost:8080/"
    },
    "executionInfo": {
     "elapsed": 12,
     "status": "ok",
     "timestamp": 1717681813833,
     "user": {
      "displayName": "Igor Astashov",
      "userId": "07071031154975841447"
     },
     "user_tz": -420
    },
    "id": "7L-pUw-CWPJC",
    "outputId": "bc31af14-44ff-4981-b160-16bcde2e115e"
   },
   "outputs": [
    {
     "name": "stdout",
     "output_type": "stream",
     "text": [
      "CPU times: total: 15.6 ms\n",
      "Wall time: 35.1 ms\n"
     ]
    },
    {
     "data": {
      "text/plain": [
       "tensor([[[1.],\n",
       "         [1.],\n",
       "         [1.],\n",
       "         [0.],\n",
       "         [0.]]])"
      ]
     },
     "execution_count": 28,
     "metadata": {},
     "output_type": "execute_result"
    }
   ],
   "source": [
    "%%time\n",
    "next(iter(dataloaders['val']))[1]"
   ]
  },
  {
   "cell_type": "code",
   "execution_count": 29,
   "metadata": {
    "colab": {
     "base_uri": "https://localhost:8080/"
    },
    "executionInfo": {
     "elapsed": 8,
     "status": "ok",
     "timestamp": 1717681813833,
     "user": {
      "displayName": "Igor Astashov",
      "userId": "07071031154975841447"
     },
     "user_tz": -420
    },
    "id": "NL8KvnMnkMcA",
    "outputId": "4401cfac-322a-4f70-ce6a-345b88250522"
   },
   "outputs": [
    {
     "data": {
      "text/plain": [
       "{'train': 10054, 'val': 12570}"
      ]
     },
     "execution_count": 29,
     "metadata": {},
     "output_type": "execute_result"
    }
   ],
   "source": [
    "# Размер тренировочного и валидационного датасета\n",
    "dataset_sizes = {'train': len(train_dataset), 'val': len(valid_dataset)*5}\n",
    "\n",
    "dataset_sizes"
   ]
  },
  {
   "cell_type": "markdown",
   "metadata": {
    "id": "tQhs4xe3g7Gs"
   },
   "source": [
    "## 6 Модель"
   ]
  },
  {
   "cell_type": "code",
   "execution_count": 30,
   "metadata": {
    "executionInfo": {
     "elapsed": 5,
     "status": "ok",
     "timestamp": 1717681813833,
     "user": {
      "displayName": "Igor Astashov",
      "userId": "07071031154975841447"
     },
     "user_tz": -420
    },
    "id": "7j3hGQpcYRsg"
   },
   "outputs": [],
   "source": [
    "class Net(torch.nn.Module):\n",
    "    def __init__(self):\n",
    "        super(Net, self).__init__()\n",
    "        self.effnet = torch.hub.load('rwightman/gen-efficientnet-pytorch', 'efficientnet_b0', pretrained=True)\n",
    "        self.effnet.fc = torch.nn.Sequential()\n",
    "        self.bn0 = torch.nn.BatchNorm1d(num_features=1000)\n",
    "        self.fc1 = torch.nn.Linear(1000, 512)\n",
    "        self.act1 = torch.nn.ReLU()\n",
    "        self.bn1 = torch.nn.BatchNorm1d(num_features=512)\n",
    "        self.fc2 = torch.nn.Linear(512, 1)\n",
    "        self.act2 = torch.nn.Sigmoid()\n",
    "        \n",
    "    \n",
    "    def forward(self, x):\n",
    "        x = self.effnet(x)\n",
    "        x = self.bn0(x)\n",
    "        x = self.fc1(x)\n",
    "        x = self.bn1(x)\n",
    "        x = self.act1(x)\n",
    "        x = self.fc2(x)\n",
    "        x = self.act2(x)\n",
    "        \n",
    "        return x"
   ]
  },
  {
   "cell_type": "code",
   "execution_count": 31,
   "metadata": {
    "colab": {
     "base_uri": "https://localhost:8080/"
    },
    "executionInfo": {
     "elapsed": 1226,
     "status": "ok",
     "timestamp": 1717681815055,
     "user": {
      "displayName": "Igor Astashov",
      "userId": "07071031154975841447"
     },
     "user_tz": -420
    },
    "id": "2SgYxLyCYRu5",
    "outputId": "18d599d7-5ff1-4c2e-cc5e-2b3170342581"
   },
   "outputs": [
    {
     "name": "stderr",
     "output_type": "stream",
     "text": [
      "Using cache found in C:\\Users\\Admin/.cache\\torch\\hub\\rwightman_gen-efficientnet-pytorch_master\n"
     ]
    }
   ],
   "source": [
    "model = Net()\n",
    "model = model.to(device)"
   ]
  },
  {
   "cell_type": "code",
   "execution_count": 32,
   "metadata": {
    "executionInfo": {
     "elapsed": 5,
     "status": "ok",
     "timestamp": 1717679862284,
     "user": {
      "displayName": "Igor Astashov",
      "userId": "07071031154975841447"
     },
     "user_tz": -420
    },
    "id": "V06jljBUYRxM"
   },
   "outputs": [],
   "source": [
    "# # Fine-tuning\n",
    "# # Заморозим веса модели (градиенты вычисляться не будут)\n",
    "# # Для обучения только головы сетки\n",
    "# for param in model.parameters():\n",
    "#     param.requires_grad = False\n",
    "\n",
    "# # # Проверка\n",
    "# # for param in model.parameters():\n",
    "# #     print(param.requires_grad)  # Все параметры должны быть False\n",
    "\n",
    "# # Разморозим последние слои\n",
    "# for param in model.fc1.parameters():\n",
    "#     param.requires_grad = True\n",
    "# for param in model.bn1.parameters():\n",
    "#     param.requires_grad = True\n",
    "# for param in model.fc2.parameters():\n",
    "#     param.requires_grad = True\n",
    "\n",
    "# # Проверка, что параметры новых слоев не заморожены\n",
    "# for param in model.fc1.parameters():\n",
    "#     print(param.requires_grad)  # Все параметры должны быть True\n",
    "# for param in model.bn1.parameters():\n",
    "#     print(param.requires_grad)  # Все параметры должны быть True\n",
    "# for param in model.fc2.parameters():\n",
    "#     print(param.requires_grad)  # Все параметры должны быть True"
   ]
  },
  {
   "cell_type": "markdown",
   "metadata": {
    "id": "qss7knqX1G5b"
   },
   "source": [
    "## 7 Метрики"
   ]
  },
  {
   "cell_type": "code",
   "execution_count": 33,
   "metadata": {
    "executionInfo": {
     "elapsed": 4,
     "status": "ok",
     "timestamp": 1717681819224,
     "user": {
      "displayName": "Igor Astashov",
      "userId": "07071031154975841447"
     },
     "user_tz": -420
    },
    "id": "UoS9sD2f1I6C"
   },
   "outputs": [],
   "source": [
    "def get_metrics(true, pred):\n",
    "    true = true.flatten()\n",
    "    pred = pred.flatten()\n",
    "    \n",
    "    val_f1, val_precision, val_recall, val_acc = 0, 0, 0, 0\n",
    "\n",
    "    val_f1 = round(f1_score(true, pred, zero_division=0), 3)\n",
    "    val_precision = round(precision_score(true, pred, zero_division=0), 3)\n",
    "    val_recall = round(recall_score(true, pred, zero_division=0), 3)\n",
    "    val_acc = round(accuracy_score(true, pred), 3)\n",
    "\n",
    "    print('f1: {}, \\npresicion: {}, \\nrecall: {}, \\nacc: {}'.format(\n",
    "          val_f1, val_precision, val_recall, val_acc), end=' ')\n",
    "    return val_f1"
   ]
  },
  {
   "cell_type": "markdown",
   "metadata": {
    "id": "OT6BjYUTu45r"
   },
   "source": [
    "## 8 Обучение"
   ]
  },
  {
   "cell_type": "code",
   "execution_count": 34,
   "metadata": {
    "executionInfo": {
     "elapsed": 877,
     "status": "ok",
     "timestamp": 1717680504404,
     "user": {
      "displayName": "Igor Astashov",
      "userId": "07071031154975841447"
     },
     "user_tz": -420
    },
    "id": "MOehe1Xd4ixC"
   },
   "outputs": [],
   "source": [
    "def train_model(model, criterion, optimizer, dataloaders, dataset_sizes,\n",
    "                scheduler, device, num_epochs=25, early_stop_patience=15):\n",
    "    # Временная отметка\n",
    "    since = time.time()\n",
    "\n",
    "    # Глубокая копия весов модели\n",
    "    best_model_wts = copy.deepcopy(model.state_dict())\n",
    "\n",
    "    # Переменная лучшей метрики\n",
    "    best_metrics = 0.0\n",
    "\n",
    "    # Счетчик ранней остановки\n",
    "    early_stoping = 0\n",
    "\n",
    "    for epoch in tqdm(range(num_epochs)):\n",
    "        print('Epoch {}/{}'.format(epoch, num_epochs - 1))\n",
    "        print('-' * 10)\n",
    "\n",
    "        # Переведем модель в режим обучения\n",
    "        model.train()\n",
    "        running_loss = 0.0\n",
    "\n",
    "        # Обучение\n",
    "        # Число батчей для обучения\n",
    "        num_batches_to_process_test = 5 #dataloaders['train'].__len__()\n",
    "        \n",
    "        for i, (inputs, labels) in enumerate(dataloaders['train']):\n",
    "            if i >= num_batches_to_process_test:\n",
    "                break\n",
    "            inputs = inputs.to(device)\n",
    "            labels = labels.to(device)\n",
    "\n",
    "            # Обнулим градиенты\n",
    "            optimizer.zero_grad()\n",
    "\n",
    "            # Режим отслеживания градиентов для последующего бэкпропа\n",
    "            with torch.set_grad_enabled(True):\n",
    "                outputs = model(inputs)\n",
    "\n",
    "                # Бинаризируем по порогу 0.5\n",
    "                preds = (outputs > 0.5).long()\n",
    "\n",
    "                # Вычислим среднюю потерю BCELoss по батчу\n",
    "                loss = criterion(outputs, labels)\n",
    "\n",
    "                # Вычислим градиенты ф. п. ко всем параметрам модели (backprop)\n",
    "                loss.backward()\n",
    "\n",
    "                # Обновим параметры модели на основе вычисленных градиентов\n",
    "                optimizer.step()\n",
    "\n",
    "            # Вычислим общую потерю батча и добавим к потерям всех батчей\n",
    "            running_loss += loss.item() * inputs.size(0)\n",
    "\n",
    "        # Средняя потеря на один объект (изображение)\n",
    "        epoch_loss_train = running_loss / dataset_sizes['train']\n",
    "\n",
    "        # Валидация\n",
    "        model.eval()\n",
    "\n",
    "        running_loss = 0.0\n",
    "\n",
    "        pred, true = [], []\n",
    "\n",
    "        # Число батчей для валидации\n",
    "        num_batches_to_process_val = 5 #dataloaders['val'].__len__()\n",
    "        \n",
    "        for i, (inputs, labels) in enumerate(dataloaders['val']):\n",
    "            if i >= num_batches_to_process_val:\n",
    "                break\n",
    "            inputs = inputs[0].to(device)\n",
    "            labels = labels[0].to(device)\n",
    "\n",
    "            # Прогнозы для участка и его каждого класса без подсчета градиента\n",
    "            with torch.no_grad():\n",
    "                outputs = model(inputs)\n",
    "\n",
    "                # Бинаризируем порог по границе 0.5\n",
    "                preds = (outputs > 0.5).long()\n",
    "\n",
    "                # Вычислим среднюю потерю BCELoss по батчу (по 5 участкам изображения)\n",
    "                loss = criterion(outputs, labels)\n",
    "\n",
    "            # Вычислим общую потерю батча и добавим к потерям всех батчей\n",
    "            running_loss += loss.item() * inputs.size(0)\n",
    "\n",
    "            # Сохраним предсказания и истинные метки в список\n",
    "            true.extend(labels.data.cpu().numpy())\n",
    "            pred.extend(preds.data.cpu().numpy())\n",
    "\n",
    "        # Средняя потеря на один объект (изображение)\n",
    "        epoch_loss_val = running_loss / dataset_sizes['val']\n",
    "\n",
    "        # Выведем потери на одно изображение для трейна и валидации\n",
    "        print('train loss: {:.4f} val loss: {:.4f}'.format(epoch_loss_train, epoch_loss_val))\n",
    "\n",
    "        # Предсказания и действительные метки\n",
    "        pred = np.array(pred)\n",
    "        true = np.array(true)\n",
    "\n",
    "        # Посчитаем основные метрики\n",
    "        metrics_val = get_metrics(true, pred)\n",
    "\n",
    "        # Будем сохранять каждую эпоху веса модели если метрика лучше предыдущей\n",
    "        if metrics_val > best_metrics:\n",
    "            print('*')\n",
    "            best_metrics = metrics_val # Смотрим по f1\n",
    "\n",
    "            # Делаем глубокое копирование словаря с парметрами модели\n",
    "            best_model_wts = copy.deepcopy(model.state_dict())\n",
    "            torch.save(best_model_wts, PATH_WEIGTS)\n",
    "            early_stoping = 0\n",
    "        else:\n",
    "            print('-')\n",
    "            # Если модель не улучшает скор на эпохе то знач. счетчика += 1\n",
    "            early_stoping += 1\n",
    "\n",
    "        # Условие ранней остановки\n",
    "        if early_stoping > early_stop_patience:\n",
    "            break\n",
    "\n",
    "        # Шаг шедуллера для отслеживания метрики см. EARLY_STOP_PATIENCE\n",
    "        scheduler.step(metrics_val)\n",
    "\n",
    "        # Запишем логи\n",
    "        with open('./weights_and_logs/1-stage-bclass-logs4.txt','a') as f:\n",
    "            f.write('''train_loss: {:.4f} val_loss: {:.4f} val_metrics: {:.4f}\\n'''.format(epoch_loss_train,\n",
    "                                                                                           epoch_loss_val,\n",
    "                                                                                           metrics_val))\n",
    "    # Подсчитаем время выполнения\n",
    "    time_elapsed = time.time() - since\n",
    "    print('Training complete in {:.0f}m {:.0f}s'.format(\n",
    "        time_elapsed // 60, time_elapsed % 60))\n",
    "    print('Best val metrics: {:4f}'.format(best_metrics))\n",
    "\n",
    "    # Загрузим веса лучшей модели\n",
    "    model.load_state_dict(best_model_wts)\n",
    "    return model"
   ]
  },
  {
   "cell_type": "markdown",
   "metadata": {
    "id": "TPtNN_Udupv_"
   },
   "source": [
    "## 9 Параметры обучения"
   ]
  },
  {
   "cell_type": "code",
   "execution_count": 35,
   "metadata": {
    "colab": {
     "base_uri": "https://localhost:8080/",
     "height": 211
    },
    "executionInfo": {
     "elapsed": 7,
     "status": "error",
     "timestamp": 1717680506919,
     "user": {
      "displayName": "Igor Astashov",
      "userId": "07071031154975841447"
     },
     "user_tz": -420
    },
    "id": "qxI-Z2L0YR1x",
    "outputId": "bbe0388c-7732-44c6-ecf1-d85b199ed514"
   },
   "outputs": [],
   "source": [
    "# Путь логов для сохранения модели \n",
    "file_weigts_name = '1-stage-bclass-model_fold_%d.h5'%NUM_FOLD\n",
    "PATH_WEIGTS = os.path.join(os.path.join(os.path.dirname(notebook_path), 'weights_and_logs'),  file_weigts_name)\n",
    "\n",
    "\n",
    "# Определим основные параметры обучения\n",
    "LR = 4e-4\n",
    "REDUCE_LR_FACTOR = 0.25\n",
    "REDUCE_LR_PATIENCE = 7\n",
    "REDUCE_LR_MIN = 1e-6\n",
    "\n",
    "criterion = torch.nn.BCELoss()\n",
    "optimizer_ft = torch.optim.Adam(model.parameters(), lr=LR)\n",
    "lr_scheduler = torch.optim.lr_scheduler.ReduceLROnPlateau(optimizer_ft, mode='max',\n",
    "                                                                  factor=REDUCE_LR_FACTOR,\n",
    "                                                                  patience=REDUCE_LR_PATIENCE,\n",
    "                                                                  min_lr=REDUCE_LR_MIN\n",
    "                                                                    )"
   ]
  },
  {
   "cell_type": "markdown",
   "metadata": {
    "id": "T1TcdITfLRFO"
   },
   "source": [
    "## 10 Запуск обучения"
   ]
  },
  {
   "cell_type": "code",
   "execution_count": 278,
   "metadata": {
    "colab": {
     "base_uri": "https://localhost:8080/",
     "height": 408
    },
    "executionInfo": {
     "elapsed": 57767,
     "status": "error",
     "timestamp": 1717679218571,
     "user": {
      "displayName": "Igor Astashov",
      "userId": "07071031154975841447"
     },
     "user_tz": -420
    },
    "id": "h-vcn59aiDiE",
    "outputId": "2010cfe9-f37a-41bc-b179-f509ba959eed",
    "scrolled": true
   },
   "outputs": [
    {
     "name": "stderr",
     "output_type": "stream",
     "text": [
      "  0%|          | 0/100 [00:00<?, ?it/s]"
     ]
    },
    {
     "name": "stdout",
     "output_type": "stream",
     "text": [
      "Epoch 0/99\n",
      "----------\n"
     ]
    },
    {
     "name": "stderr",
     "output_type": "stream",
     "text": [
      "  1%|          | 1/100 [05:26<8:59:05, 326.72s/it]"
     ]
    },
    {
     "name": "stdout",
     "output_type": "stream",
     "text": [
      "train loss: 0.3099 val loss: 0.2047\n",
      "f1: 0.831, \n",
      "presicion: 0.82, \n",
      "recall: 0.843, \n",
      "acc: 0.92 *\n",
      "Epoch 1/99\n",
      "----------\n"
     ]
    },
    {
     "name": "stderr",
     "output_type": "stream",
     "text": [
      "  2%|▏         | 2/100 [10:54<8:54:12, 327.06s/it]"
     ]
    },
    {
     "name": "stdout",
     "output_type": "stream",
     "text": [
      "train loss: 0.2606 val loss: 0.2152\n",
      "f1: 0.834, \n",
      "presicion: 0.823, \n",
      "recall: 0.845, \n",
      "acc: 0.921 *\n",
      "Epoch 2/99\n",
      "----------\n"
     ]
    },
    {
     "name": "stderr",
     "output_type": "stream",
     "text": [
      "  3%|▎         | 3/100 [16:21<8:49:20, 327.43s/it]"
     ]
    },
    {
     "name": "stdout",
     "output_type": "stream",
     "text": [
      "train loss: 0.2439 val loss: 0.2118\n",
      "f1: 0.852, \n",
      "presicion: 0.818, \n",
      "recall: 0.89, \n",
      "acc: 0.927 *\n",
      "Epoch 3/99\n",
      "----------\n"
     ]
    },
    {
     "name": "stderr",
     "output_type": "stream",
     "text": [
      "  4%|▍         | 4/100 [21:49<8:44:02, 327.53s/it]"
     ]
    },
    {
     "name": "stdout",
     "output_type": "stream",
     "text": [
      "train loss: 0.2293 val loss: 0.1985\n",
      "f1: 0.843, \n",
      "presicion: 0.791, \n",
      "recall: 0.902, \n",
      "acc: 0.921 -\n",
      "Epoch 4/99\n",
      "----------\n"
     ]
    },
    {
     "name": "stderr",
     "output_type": "stream",
     "text": [
      "  5%|▌         | 5/100 [27:16<8:38:27, 327.44s/it]"
     ]
    },
    {
     "name": "stdout",
     "output_type": "stream",
     "text": [
      "train loss: 0.2194 val loss: 0.1856\n",
      "f1: 0.859, \n",
      "presicion: 0.838, \n",
      "recall: 0.88, \n",
      "acc: 0.932 *\n",
      "Epoch 5/99\n",
      "----------\n"
     ]
    },
    {
     "name": "stderr",
     "output_type": "stream",
     "text": [
      "  6%|▌         | 6/100 [32:33<8:27:23, 323.86s/it]"
     ]
    },
    {
     "name": "stdout",
     "output_type": "stream",
     "text": [
      "train loss: 0.2185 val loss: 0.1648\n",
      "f1: 0.871, \n",
      "presicion: 0.875, \n",
      "recall: 0.866, \n",
      "acc: 0.939 *\n",
      "Epoch 6/99\n",
      "----------\n"
     ]
    },
    {
     "name": "stderr",
     "output_type": "stream",
     "text": [
      "  7%|▋         | 7/100 [38:02<8:24:22, 325.40s/it]"
     ]
    },
    {
     "name": "stdout",
     "output_type": "stream",
     "text": [
      "train loss: 0.1923 val loss: 0.1758\n",
      "f1: 0.858, \n",
      "presicion: 0.881, \n",
      "recall: 0.836, \n",
      "acc: 0.935 -\n",
      "Epoch 7/99\n",
      "----------\n"
     ]
    },
    {
     "name": "stderr",
     "output_type": "stream",
     "text": [
      "  8%|▊         | 8/100 [43:29<8:19:48, 325.97s/it]"
     ]
    },
    {
     "name": "stdout",
     "output_type": "stream",
     "text": [
      "train loss: 0.2022 val loss: 0.1657\n",
      "f1: 0.875, \n",
      "presicion: 0.884, \n",
      "recall: 0.866, \n",
      "acc: 0.942 *\n",
      "Epoch 8/99\n",
      "----------\n"
     ]
    },
    {
     "name": "stderr",
     "output_type": "stream",
     "text": [
      "  9%|▉         | 9/100 [48:55<8:14:26, 326.00s/it]"
     ]
    },
    {
     "name": "stdout",
     "output_type": "stream",
     "text": [
      "train loss: 0.1857 val loss: 0.1971\n",
      "f1: 0.855, \n",
      "presicion: 0.906, \n",
      "recall: 0.81, \n",
      "acc: 0.935 -\n",
      "Epoch 9/99\n",
      "----------\n"
     ]
    },
    {
     "name": "stderr",
     "output_type": "stream",
     "text": [
      " 10%|█         | 10/100 [54:21<8:08:52, 325.92s/it]"
     ]
    },
    {
     "name": "stdout",
     "output_type": "stream",
     "text": [
      "train loss: 0.1829 val loss: 0.1728\n",
      "f1: 0.871, \n",
      "presicion: 0.884, \n",
      "recall: 0.858, \n",
      "acc: 0.94 -\n",
      "Epoch 10/99\n",
      "----------\n"
     ]
    },
    {
     "name": "stderr",
     "output_type": "stream",
     "text": [
      " 11%|█         | 11/100 [59:47<8:03:42, 326.09s/it]"
     ]
    },
    {
     "name": "stdout",
     "output_type": "stream",
     "text": [
      "train loss: 0.1835 val loss: 0.1617\n",
      "f1: 0.87, \n",
      "presicion: 0.869, \n",
      "recall: 0.87, \n",
      "acc: 0.939 -\n",
      "Epoch 11/99\n",
      "----------\n"
     ]
    },
    {
     "name": "stderr",
     "output_type": "stream",
     "text": [
      " 12%|█▏        | 12/100 [1:05:14<7:58:33, 326.29s/it]"
     ]
    },
    {
     "name": "stdout",
     "output_type": "stream",
     "text": [
      "train loss: 0.1834 val loss: 0.1600\n",
      "f1: 0.871, \n",
      "presicion: 0.853, \n",
      "recall: 0.89, \n",
      "acc: 0.938 -\n",
      "Epoch 12/99\n",
      "----------\n"
     ]
    },
    {
     "name": "stderr",
     "output_type": "stream",
     "text": [
      " 13%|█▎        | 13/100 [1:10:40<7:52:49, 326.09s/it]"
     ]
    },
    {
     "name": "stdout",
     "output_type": "stream",
     "text": [
      "train loss: 0.1797 val loss: 0.1574\n",
      "f1: 0.873, \n",
      "presicion: 0.873, \n",
      "recall: 0.873, \n",
      "acc: 0.94 -\n",
      "Epoch 13/99\n",
      "----------\n"
     ]
    },
    {
     "name": "stderr",
     "output_type": "stream",
     "text": [
      " 14%|█▍        | 14/100 [1:16:05<7:47:08, 325.91s/it]"
     ]
    },
    {
     "name": "stdout",
     "output_type": "stream",
     "text": [
      "train loss: 0.1757 val loss: 0.1522\n",
      "f1: 0.874, \n",
      "presicion: 0.864, \n",
      "recall: 0.884, \n",
      "acc: 0.94 -\n",
      "Epoch 14/99\n",
      "----------\n"
     ]
    },
    {
     "name": "stderr",
     "output_type": "stream",
     "text": [
      " 15%|█▌        | 15/100 [1:21:32<7:41:57, 326.09s/it]"
     ]
    },
    {
     "name": "stdout",
     "output_type": "stream",
     "text": [
      "train loss: 0.1767 val loss: 0.1509\n",
      "f1: 0.877, \n",
      "presicion: 0.86, \n",
      "recall: 0.895, \n",
      "acc: 0.941 *\n",
      "Epoch 15/99\n",
      "----------\n"
     ]
    },
    {
     "name": "stderr",
     "output_type": "stream",
     "text": [
      " 16%|█▌        | 16/100 [1:26:58<7:36:27, 326.04s/it]"
     ]
    },
    {
     "name": "stdout",
     "output_type": "stream",
     "text": [
      "train loss: 0.1759 val loss: 0.1704\n",
      "f1: 0.866, \n",
      "presicion: 0.852, \n",
      "recall: 0.88, \n",
      "acc: 0.936 -\n",
      "Epoch 16/99\n",
      "----------\n"
     ]
    },
    {
     "name": "stderr",
     "output_type": "stream",
     "text": [
      " 17%|█▋        | 17/100 [1:32:24<7:31:05, 326.10s/it]"
     ]
    },
    {
     "name": "stdout",
     "output_type": "stream",
     "text": [
      "train loss: 0.1702 val loss: 0.1610\n",
      "f1: 0.869, \n",
      "presicion: 0.846, \n",
      "recall: 0.894, \n",
      "acc: 0.937 -\n",
      "Epoch 17/99\n",
      "----------\n"
     ]
    },
    {
     "name": "stderr",
     "output_type": "stream",
     "text": [
      " 18%|█▊        | 18/100 [1:37:50<7:25:41, 326.11s/it]"
     ]
    },
    {
     "name": "stdout",
     "output_type": "stream",
     "text": [
      "train loss: 0.1631 val loss: 0.1625\n",
      "f1: 0.868, \n",
      "presicion: 0.86, \n",
      "recall: 0.877, \n",
      "acc: 0.937 -\n",
      "Epoch 18/99\n",
      "----------\n",
      "train loss: 0.1664 val loss: 0.1546\n",
      "f1: 0.878, \n",
      "presicion: 0.868, \n",
      "recall: 0.888, \n",
      "acc: 0.942 *\n"
     ]
    },
    {
     "name": "stderr",
     "output_type": "stream",
     "text": [
      " 19%|█▉        | 19/100 [1:43:16<7:20:15, 326.12s/it]"
     ]
    },
    {
     "name": "stdout",
     "output_type": "stream",
     "text": [
      "Epoch 19/99\n",
      "----------\n"
     ]
    },
    {
     "name": "stderr",
     "output_type": "stream",
     "text": [
      " 20%|██        | 20/100 [1:48:43<7:15:11, 326.39s/it]"
     ]
    },
    {
     "name": "stdout",
     "output_type": "stream",
     "text": [
      "train loss: 0.1606 val loss: 0.1684\n",
      "f1: 0.871, \n",
      "presicion: 0.829, \n",
      "recall: 0.917, \n",
      "acc: 0.936 -\n",
      "Epoch 20/99\n",
      "----------\n"
     ]
    },
    {
     "name": "stderr",
     "output_type": "stream",
     "text": [
      " 21%|██        | 21/100 [1:54:10<7:10:02, 326.61s/it]"
     ]
    },
    {
     "name": "stdout",
     "output_type": "stream",
     "text": [
      "train loss: 0.1667 val loss: 0.1471\n",
      "f1: 0.883, \n",
      "presicion: 0.898, \n",
      "recall: 0.87, \n",
      "acc: 0.946 *\n",
      "Epoch 21/99\n",
      "----------\n"
     ]
    },
    {
     "name": "stderr",
     "output_type": "stream",
     "text": [
      " 22%|██▏       | 22/100 [1:59:37<7:04:45, 326.74s/it]"
     ]
    },
    {
     "name": "stdout",
     "output_type": "stream",
     "text": [
      "train loss: 0.1655 val loss: 0.1450\n",
      "f1: 0.883, \n",
      "presicion: 0.88, \n",
      "recall: 0.886, \n",
      "acc: 0.945 -\n",
      "Epoch 22/99\n",
      "----------\n"
     ]
    },
    {
     "name": "stderr",
     "output_type": "stream",
     "text": [
      " 23%|██▎       | 23/100 [2:05:04<6:59:08, 326.60s/it]"
     ]
    },
    {
     "name": "stdout",
     "output_type": "stream",
     "text": [
      "train loss: 0.1610 val loss: 0.1498\n",
      "f1: 0.878, \n",
      "presicion: 0.867, \n",
      "recall: 0.89, \n",
      "acc: 0.942 -\n",
      "Epoch 23/99\n",
      "----------\n"
     ]
    },
    {
     "name": "stderr",
     "output_type": "stream",
     "text": [
      " 24%|██▍       | 24/100 [2:10:30<6:53:39, 326.58s/it]"
     ]
    },
    {
     "name": "stdout",
     "output_type": "stream",
     "text": [
      "train loss: 0.1385 val loss: 0.1484\n",
      "f1: 0.876, \n",
      "presicion: 0.881, \n",
      "recall: 0.871, \n",
      "acc: 0.942 -\n",
      "Epoch 24/99\n",
      "----------\n"
     ]
    },
    {
     "name": "stderr",
     "output_type": "stream",
     "text": [
      " 25%|██▌       | 25/100 [2:15:57<6:48:10, 326.54s/it]"
     ]
    },
    {
     "name": "stdout",
     "output_type": "stream",
     "text": [
      "train loss: 0.1606 val loss: 0.1456\n",
      "f1: 0.879, \n",
      "presicion: 0.846, \n",
      "recall: 0.915, \n",
      "acc: 0.941 -\n",
      "Epoch 25/99\n",
      "----------\n"
     ]
    },
    {
     "name": "stderr",
     "output_type": "stream",
     "text": [
      " 26%|██▌       | 26/100 [2:21:24<6:42:53, 326.67s/it]"
     ]
    },
    {
     "name": "stdout",
     "output_type": "stream",
     "text": [
      "train loss: 0.1510 val loss: 0.1646\n",
      "f1: 0.866, \n",
      "presicion: 0.827, \n",
      "recall: 0.908, \n",
      "acc: 0.934 -\n",
      "Epoch 26/99\n",
      "----------\n"
     ]
    },
    {
     "name": "stderr",
     "output_type": "stream",
     "text": [
      " 27%|██▋       | 27/100 [2:26:51<6:37:54, 327.04s/it]"
     ]
    },
    {
     "name": "stdout",
     "output_type": "stream",
     "text": [
      "train loss: 0.1666 val loss: 0.1452\n",
      "f1: 0.882, \n",
      "presicion: 0.88, \n",
      "recall: 0.884, \n",
      "acc: 0.944 -\n",
      "Epoch 27/99\n",
      "----------\n"
     ]
    },
    {
     "name": "stderr",
     "output_type": "stream",
     "text": [
      " 28%|██▊       | 28/100 [2:32:20<6:33:06, 327.58s/it]"
     ]
    },
    {
     "name": "stdout",
     "output_type": "stream",
     "text": [
      "train loss: 0.1494 val loss: 0.1679\n",
      "f1: 0.864, \n",
      "presicion: 0.851, \n",
      "recall: 0.877, \n",
      "acc: 0.935 -\n",
      "Epoch 28/99\n",
      "----------\n"
     ]
    },
    {
     "name": "stderr",
     "output_type": "stream",
     "text": [
      " 29%|██▉       | 29/100 [2:37:50<6:28:33, 328.36s/it]"
     ]
    },
    {
     "name": "stdout",
     "output_type": "stream",
     "text": [
      "train loss: 0.1562 val loss: 0.1442\n",
      "f1: 0.88, \n",
      "presicion: 0.891, \n",
      "recall: 0.871, \n",
      "acc: 0.944 -\n",
      "Epoch 29/99\n",
      "----------\n"
     ]
    },
    {
     "name": "stderr",
     "output_type": "stream",
     "text": [
      " 30%|███       | 30/100 [2:43:17<6:22:32, 327.89s/it]"
     ]
    },
    {
     "name": "stdout",
     "output_type": "stream",
     "text": [
      "train loss: 0.1286 val loss: 0.1385\n",
      "f1: 0.886, \n",
      "presicion: 0.879, \n",
      "recall: 0.892, \n",
      "acc: 0.946 *\n",
      "Epoch 30/99\n",
      "----------\n"
     ]
    },
    {
     "name": "stderr",
     "output_type": "stream",
     "text": [
      " 31%|███       | 31/100 [2:48:43<6:16:24, 327.31s/it]"
     ]
    },
    {
     "name": "stdout",
     "output_type": "stream",
     "text": [
      "train loss: 0.1197 val loss: 0.1327\n",
      "f1: 0.894, \n",
      "presicion: 0.907, \n",
      "recall: 0.882, \n",
      "acc: 0.951 *\n",
      "Epoch 31/99\n",
      "----------\n"
     ]
    },
    {
     "name": "stderr",
     "output_type": "stream",
     "text": [
      " 32%|███▏      | 32/100 [2:54:11<6:11:02, 327.39s/it]"
     ]
    },
    {
     "name": "stdout",
     "output_type": "stream",
     "text": [
      "train loss: 0.1197 val loss: 0.1341\n",
      "f1: 0.891, \n",
      "presicion: 0.874, \n",
      "recall: 0.907, \n",
      "acc: 0.947 -\n",
      "Epoch 32/99\n",
      "----------\n"
     ]
    },
    {
     "name": "stderr",
     "output_type": "stream",
     "text": [
      " 33%|███▎      | 33/100 [2:59:38<6:05:23, 327.21s/it]"
     ]
    },
    {
     "name": "stdout",
     "output_type": "stream",
     "text": [
      "train loss: 0.1129 val loss: 0.1313\n",
      "f1: 0.898, \n",
      "presicion: 0.898, \n",
      "recall: 0.898, \n",
      "acc: 0.952 *\n",
      "Epoch 33/99\n",
      "----------\n"
     ]
    },
    {
     "name": "stderr",
     "output_type": "stream",
     "text": [
      " 34%|███▍      | 34/100 [3:05:04<5:59:37, 326.94s/it]"
     ]
    },
    {
     "name": "stdout",
     "output_type": "stream",
     "text": [
      "train loss: 0.1125 val loss: 0.1351\n",
      "f1: 0.894, \n",
      "presicion: 0.882, \n",
      "recall: 0.906, \n",
      "acc: 0.949 -\n",
      "Epoch 34/99\n",
      "----------\n"
     ]
    },
    {
     "name": "stderr",
     "output_type": "stream",
     "text": [
      " 35%|███▌      | 35/100 [3:10:30<5:54:00, 326.77s/it]"
     ]
    },
    {
     "name": "stdout",
     "output_type": "stream",
     "text": [
      "train loss: 0.1119 val loss: 0.1280\n",
      "f1: 0.897, \n",
      "presicion: 0.9, \n",
      "recall: 0.894, \n",
      "acc: 0.952 -\n",
      "Epoch 35/99\n",
      "----------\n"
     ]
    },
    {
     "name": "stderr",
     "output_type": "stream",
     "text": [
      " 36%|███▌      | 36/100 [3:15:57<5:48:39, 326.87s/it]"
     ]
    },
    {
     "name": "stdout",
     "output_type": "stream",
     "text": [
      "train loss: 0.1124 val loss: 0.1319\n",
      "f1: 0.894, \n",
      "presicion: 0.906, \n",
      "recall: 0.881, \n",
      "acc: 0.951 -\n",
      "Epoch 36/99\n",
      "----------\n"
     ]
    },
    {
     "name": "stderr",
     "output_type": "stream",
     "text": [
      " 37%|███▋      | 37/100 [3:21:28<5:44:25, 328.02s/it]"
     ]
    },
    {
     "name": "stdout",
     "output_type": "stream",
     "text": [
      "train loss: 0.1105 val loss: 0.1312\n",
      "f1: 0.895, \n",
      "presicion: 0.89, \n",
      "recall: 0.9, \n",
      "acc: 0.95 -\n",
      "Epoch 37/99\n",
      "----------\n"
     ]
    },
    {
     "name": "stderr",
     "output_type": "stream",
     "text": [
      " 38%|███▊      | 38/100 [3:27:01<5:40:35, 329.61s/it]"
     ]
    },
    {
     "name": "stdout",
     "output_type": "stream",
     "text": [
      "train loss: 0.1102 val loss: 0.1306\n",
      "f1: 0.897, \n",
      "presicion: 0.89, \n",
      "recall: 0.904, \n",
      "acc: 0.951 -\n",
      "Epoch 38/99\n",
      "----------\n"
     ]
    },
    {
     "name": "stderr",
     "output_type": "stream",
     "text": [
      " 39%|███▉      | 39/100 [3:32:30<5:34:46, 329.29s/it]"
     ]
    },
    {
     "name": "stdout",
     "output_type": "stream",
     "text": [
      "train loss: 0.1033 val loss: 0.1259\n",
      "f1: 0.896, \n",
      "presicion: 0.913, \n",
      "recall: 0.88, \n",
      "acc: 0.952 -\n",
      "Epoch 39/99\n",
      "----------\n"
     ]
    },
    {
     "name": "stderr",
     "output_type": "stream",
     "text": [
      " 40%|████      | 40/100 [3:37:57<5:28:38, 328.64s/it]"
     ]
    },
    {
     "name": "stdout",
     "output_type": "stream",
     "text": [
      "train loss: 0.1061 val loss: 0.1307\n",
      "f1: 0.895, \n",
      "presicion: 0.901, \n",
      "recall: 0.889, \n",
      "acc: 0.951 -\n",
      "Epoch 40/99\n",
      "----------\n"
     ]
    },
    {
     "name": "stderr",
     "output_type": "stream",
     "text": [
      " 41%|████      | 41/100 [3:43:24<5:22:38, 328.11s/it]"
     ]
    },
    {
     "name": "stdout",
     "output_type": "stream",
     "text": [
      "train loss: 0.1180 val loss: 0.1282\n",
      "f1: 0.897, \n",
      "presicion: 0.903, \n",
      "recall: 0.89, \n",
      "acc: 0.952 -\n",
      "Epoch 41/99\n",
      "----------\n"
     ]
    },
    {
     "name": "stderr",
     "output_type": "stream",
     "text": [
      " 42%|████▏     | 42/100 [3:48:51<5:16:47, 327.72s/it]"
     ]
    },
    {
     "name": "stdout",
     "output_type": "stream",
     "text": [
      "train loss: 0.1015 val loss: 0.1276\n",
      "f1: 0.899, \n",
      "presicion: 0.904, \n",
      "recall: 0.893, \n",
      "acc: 0.953 *\n",
      "Epoch 42/99\n",
      "----------\n"
     ]
    },
    {
     "name": "stderr",
     "output_type": "stream",
     "text": [
      " 43%|████▎     | 43/100 [3:54:19<5:11:23, 327.77s/it]"
     ]
    },
    {
     "name": "stdout",
     "output_type": "stream",
     "text": [
      "train loss: 0.1036 val loss: 0.1245\n",
      "f1: 0.9, \n",
      "presicion: 0.913, \n",
      "recall: 0.887, \n",
      "acc: 0.954 *\n",
      "Epoch 43/99\n",
      "----------\n"
     ]
    },
    {
     "name": "stderr",
     "output_type": "stream",
     "text": [
      " 44%|████▍     | 44/100 [3:59:46<5:05:53, 327.74s/it]"
     ]
    },
    {
     "name": "stdout",
     "output_type": "stream",
     "text": [
      "train loss: 0.0955 val loss: 0.1292\n",
      "f1: 0.901, \n",
      "presicion: 0.902, \n",
      "recall: 0.901, \n",
      "acc: 0.954 *\n",
      "Epoch 44/99\n",
      "----------\n"
     ]
    },
    {
     "name": "stderr",
     "output_type": "stream",
     "text": [
      " 45%|████▌     | 45/100 [4:05:13<5:00:16, 327.57s/it]"
     ]
    },
    {
     "name": "stdout",
     "output_type": "stream",
     "text": [
      "train loss: 0.1009 val loss: 0.1256\n",
      "f1: 0.903, \n",
      "presicion: 0.907, \n",
      "recall: 0.899, \n",
      "acc: 0.954 *\n",
      "Epoch 45/99\n",
      "----------\n"
     ]
    },
    {
     "name": "stderr",
     "output_type": "stream",
     "text": [
      " 46%|████▌     | 46/100 [4:10:42<4:55:03, 327.84s/it]"
     ]
    },
    {
     "name": "stdout",
     "output_type": "stream",
     "text": [
      "train loss: 0.1011 val loss: 0.1283\n",
      "f1: 0.9, \n",
      "presicion: 0.896, \n",
      "recall: 0.904, \n",
      "acc: 0.953 -\n",
      "Epoch 46/99\n",
      "----------\n"
     ]
    },
    {
     "name": "stderr",
     "output_type": "stream",
     "text": [
      " 47%|████▋     | 47/100 [4:16:11<4:49:57, 328.26s/it]"
     ]
    },
    {
     "name": "stdout",
     "output_type": "stream",
     "text": [
      "train loss: 0.1046 val loss: 0.1238\n",
      "f1: 0.902, \n",
      "presicion: 0.913, \n",
      "recall: 0.892, \n",
      "acc: 0.955 -\n",
      "Epoch 47/99\n",
      "----------\n"
     ]
    },
    {
     "name": "stderr",
     "output_type": "stream",
     "text": [
      " 48%|████▊     | 48/100 [4:21:39<4:44:16, 328.01s/it]"
     ]
    },
    {
     "name": "stdout",
     "output_type": "stream",
     "text": [
      "train loss: 0.1010 val loss: 0.1260\n",
      "f1: 0.904, \n",
      "presicion: 0.911, \n",
      "recall: 0.897, \n",
      "acc: 0.955 *\n",
      "Epoch 48/99\n",
      "----------\n"
     ]
    },
    {
     "name": "stderr",
     "output_type": "stream",
     "text": [
      " 49%|████▉     | 49/100 [4:27:06<4:38:37, 327.79s/it]"
     ]
    },
    {
     "name": "stdout",
     "output_type": "stream",
     "text": [
      "train loss: 0.0944 val loss: 0.1288\n",
      "f1: 0.898, \n",
      "presicion: 0.895, \n",
      "recall: 0.902, \n",
      "acc: 0.952 -\n",
      "Epoch 49/99\n",
      "----------\n"
     ]
    },
    {
     "name": "stderr",
     "output_type": "stream",
     "text": [
      " 50%|█████     | 50/100 [4:32:32<4:32:48, 327.36s/it]"
     ]
    },
    {
     "name": "stdout",
     "output_type": "stream",
     "text": [
      "train loss: 0.0967 val loss: 0.1291\n",
      "f1: 0.898, \n",
      "presicion: 0.89, \n",
      "recall: 0.907, \n",
      "acc: 0.952 -\n",
      "Epoch 50/99\n",
      "----------\n"
     ]
    },
    {
     "name": "stderr",
     "output_type": "stream",
     "text": [
      " 51%|█████     | 51/100 [4:37:59<4:27:16, 327.28s/it]"
     ]
    },
    {
     "name": "stdout",
     "output_type": "stream",
     "text": [
      "train loss: 0.0987 val loss: 0.1274\n",
      "f1: 0.902, \n",
      "presicion: 0.897, \n",
      "recall: 0.906, \n",
      "acc: 0.954 -\n",
      "Epoch 51/99\n",
      "----------\n"
     ]
    },
    {
     "name": "stderr",
     "output_type": "stream",
     "text": [
      " 52%|█████▏    | 52/100 [4:43:26<4:21:40, 327.09s/it]"
     ]
    },
    {
     "name": "stdout",
     "output_type": "stream",
     "text": [
      "train loss: 0.0911 val loss: 0.1315\n",
      "f1: 0.9, \n",
      "presicion: 0.884, \n",
      "recall: 0.915, \n",
      "acc: 0.952 -\n",
      "Epoch 52/99\n",
      "----------\n"
     ]
    },
    {
     "name": "stderr",
     "output_type": "stream",
     "text": [
      " 53%|█████▎    | 53/100 [4:48:55<4:16:44, 327.76s/it]"
     ]
    },
    {
     "name": "stdout",
     "output_type": "stream",
     "text": [
      "train loss: 0.0925 val loss: 0.1274\n",
      "f1: 0.899, \n",
      "presicion: 0.897, \n",
      "recall: 0.901, \n",
      "acc: 0.952 -\n",
      "Epoch 53/99\n",
      "----------\n"
     ]
    },
    {
     "name": "stderr",
     "output_type": "stream",
     "text": [
      " 54%|█████▍    | 54/100 [4:54:26<4:11:55, 328.60s/it]"
     ]
    },
    {
     "name": "stdout",
     "output_type": "stream",
     "text": [
      "train loss: 0.0969 val loss: 0.1251\n",
      "f1: 0.902, \n",
      "presicion: 0.906, \n",
      "recall: 0.899, \n",
      "acc: 0.954 -\n",
      "Epoch 54/99\n",
      "----------\n"
     ]
    },
    {
     "name": "stderr",
     "output_type": "stream",
     "text": [
      " 55%|█████▌    | 55/100 [4:59:54<4:06:24, 328.54s/it]"
     ]
    },
    {
     "name": "stdout",
     "output_type": "stream",
     "text": [
      "train loss: 0.0993 val loss: 0.1292\n",
      "f1: 0.901, \n",
      "presicion: 0.894, \n",
      "recall: 0.908, \n",
      "acc: 0.953 -\n",
      "Epoch 55/99\n",
      "----------\n"
     ]
    },
    {
     "name": "stderr",
     "output_type": "stream",
     "text": [
      " 56%|█████▌    | 56/100 [5:05:21<4:00:28, 327.93s/it]"
     ]
    },
    {
     "name": "stdout",
     "output_type": "stream",
     "text": [
      "train loss: 0.0969 val loss: 0.1279\n",
      "f1: 0.901, \n",
      "presicion: 0.916, \n",
      "recall: 0.886, \n",
      "acc: 0.954 -\n",
      "Epoch 56/99\n",
      "----------\n"
     ]
    },
    {
     "name": "stderr",
     "output_type": "stream",
     "text": [
      " 57%|█████▋    | 57/100 [5:10:48<3:54:55, 327.80s/it]"
     ]
    },
    {
     "name": "stdout",
     "output_type": "stream",
     "text": [
      "train loss: 0.0921 val loss: 0.1300\n",
      "f1: 0.899, \n",
      "presicion: 0.906, \n",
      "recall: 0.891, \n",
      "acc: 0.953 -\n",
      "Epoch 57/99\n",
      "----------\n"
     ]
    },
    {
     "name": "stderr",
     "output_type": "stream",
     "text": [
      " 58%|█████▊    | 58/100 [5:16:14<3:49:04, 327.26s/it]"
     ]
    },
    {
     "name": "stdout",
     "output_type": "stream",
     "text": [
      "train loss: 0.0942 val loss: 0.1267\n",
      "f1: 0.9, \n",
      "presicion: 0.908, \n",
      "recall: 0.892, \n",
      "acc: 0.953 -\n",
      "Epoch 58/99\n",
      "----------\n"
     ]
    },
    {
     "name": "stderr",
     "output_type": "stream",
     "text": [
      " 59%|█████▉    | 59/100 [5:21:40<3:43:21, 326.88s/it]"
     ]
    },
    {
     "name": "stdout",
     "output_type": "stream",
     "text": [
      "train loss: 0.0909 val loss: 0.1250\n",
      "f1: 0.902, \n",
      "presicion: 0.915, \n",
      "recall: 0.889, \n",
      "acc: 0.955 -\n",
      "Epoch 59/99\n",
      "----------\n"
     ]
    },
    {
     "name": "stderr",
     "output_type": "stream",
     "text": [
      " 60%|██████    | 60/100 [5:27:09<3:38:12, 327.32s/it]"
     ]
    },
    {
     "name": "stdout",
     "output_type": "stream",
     "text": [
      "train loss: 0.0975 val loss: 0.1248\n",
      "f1: 0.901, \n",
      "presicion: 0.908, \n",
      "recall: 0.894, \n",
      "acc: 0.954 -\n",
      "Epoch 60/99\n",
      "----------\n"
     ]
    },
    {
     "name": "stderr",
     "output_type": "stream",
     "text": [
      " 61%|██████    | 61/100 [5:32:37<3:33:01, 327.73s/it]"
     ]
    },
    {
     "name": "stdout",
     "output_type": "stream",
     "text": [
      "train loss: 0.0975 val loss: 0.1254\n",
      "f1: 0.902, \n",
      "presicion: 0.903, \n",
      "recall: 0.901, \n",
      "acc: 0.954 -\n",
      "Epoch 61/99\n",
      "----------\n"
     ]
    },
    {
     "name": "stderr",
     "output_type": "stream",
     "text": [
      " 62%|██████▏   | 62/100 [5:38:04<3:27:21, 327.42s/it]"
     ]
    },
    {
     "name": "stdout",
     "output_type": "stream",
     "text": [
      "train loss: 0.0955 val loss: 0.1252\n",
      "f1: 0.901, \n",
      "presicion: 0.905, \n",
      "recall: 0.897, \n",
      "acc: 0.954 -\n",
      "Epoch 62/99\n",
      "----------\n"
     ]
    },
    {
     "name": "stderr",
     "output_type": "stream",
     "text": [
      " 63%|██████▎   | 63/100 [5:43:30<3:21:36, 326.93s/it]"
     ]
    },
    {
     "name": "stdout",
     "output_type": "stream",
     "text": [
      "train loss: 0.0997 val loss: 0.1260\n",
      "f1: 0.901, \n",
      "presicion: 0.911, \n",
      "recall: 0.891, \n",
      "acc: 0.954 -\n",
      "Epoch 63/99\n",
      "----------\n"
     ]
    },
    {
     "name": "stderr",
     "output_type": "stream",
     "text": [
      " 63%|██████▎   | 63/100 [5:48:59<3:24:57, 332.37s/it]"
     ]
    },
    {
     "name": "stdout",
     "output_type": "stream",
     "text": [
      "train loss: 0.0892 val loss: 0.1264\n",
      "f1: 0.901, \n",
      "presicion: 0.903, \n",
      "recall: 0.899, \n",
      "acc: 0.954 -\n",
      "Training complete in 348m 59s\n",
      "Best val metrics: 0.904000\n"
     ]
    },
    {
     "name": "stderr",
     "output_type": "stream",
     "text": [
      "\n"
     ]
    }
   ],
   "source": [
    "EPOCHS = 100\n",
    "EARLY_STOP_PATIENCE = 15\n",
    "\n",
    "model = train_model(model, criterion, optimizer_ft, dataloaders,\n",
    "                        dataset_sizes, lr_scheduler, device,\n",
    "                        num_epochs=EPOCHS, early_stop_patience=EARLY_STOP_PATIENCE)"
   ]
  },
  {
   "cell_type": "markdown",
   "metadata": {},
   "source": [
    "## 11 Результаты"
   ]
  },
  {
   "cell_type": "code",
   "execution_count": 49,
   "metadata": {},
   "outputs": [],
   "source": [
    "with open(os.path.join(os.path.join(os.path.dirname(notebook_path), 'weights_and_logs'),  '1-stage-bclass-logs4.txt'),'r') as f:\n",
    "    logs = f.read()\n",
    "\n",
    "logs = logs.split('\\n')\n",
    "\n",
    "metrics_4 = [float(x.split(' ')[-1]) for x in logs[:-1]]\n",
    "train_loss_4 = [float(x.split(' ')[1]) for x in logs[:-1]]\n",
    "val_loss_4 = [float(x.split(' ')[3]) for x in logs[:-1]]"
   ]
  },
  {
   "cell_type": "code",
   "execution_count": 50,
   "metadata": {},
   "outputs": [
    {
     "data": {
      "image/png": "[encoded data removed]",
      "text/plain": [
       "<Figure size 1400x300 with 2 Axes>"
      ]
     },
     "metadata": {},
     "output_type": "display_data"
    }
   ],
   "source": [
    "# Визуализация потерь и f1 - метрики\n",
    "plt.figure(figsize=(14, 3))\n",
    "\n",
    "# График f1 - метрики\n",
    "plt.subplot(1, 2, 1)\n",
    "plt.plot(metrics_4, '.-', label='f1 на валидации', color='blue')\n",
    "plt.xlabel('Эпоха')\n",
    "plt.ylabel('f1 - метрика')\n",
    "plt.title('f1 - метрика по эпохам')\n",
    "plt.legend()\n",
    "plt.grid(True)\n",
    "\n",
    "# График потерь\n",
    "plt.subplot(1, 2, 2)\n",
    "plt.plot(train_loss_4, '.-', label='тест', color='orange')\n",
    "plt.plot(val_loss_4, '.-', label='валидация', color='red')\n",
    "plt.xlabel('Эпоха')\n",
    "plt.ylabel('Потери')\n",
    "plt.title('Потери на обучении и валидации по эпохам')\n",
    "plt.legend()\n",
    "plt.grid(True)\n",
    "\n",
    "plt.tight_layout()\n",
    "plt.show()"
   ]
  },
  {
   "cell_type": "markdown",
   "metadata": {},
   "source": [
    "__`efficientnet_b0` по f1 на валидации 48 эпохи: `0.904`. Модель предсказывала наличие или отсутствия дефекта на изображении.__\n",
    "\n",
    "~**1 (проверить) 25 - 30 эпоха: вероятно сработал шедуллер, и за счет снижения шага обучения модель вышла из локального минимума**~\n",
    "\n",
    "~**2 (проверить) попробовать другой фолд для валидации**~\n",
    "\n",
    "EPOCHS = 100\n",
    "\n",
    "EARLY_STOP_PATIENCE = 15\n",
    "\n",
    "BCELoss(),\n",
    "\n",
    "Adam(4e-4),\n",
    "\n",
    "ReduceLROnPlateau(REDUCE_LR_FACTOR = 0.25, REDUCE_LR_PATIENCE = 7, REDUCE_LR_MIN = 1e-6)"
   ]
  },
  {
   "cell_type": "code",
   "execution_count": null,
   "metadata": {},
   "outputs": [],
   "source": []
  }
 ],
 "metadata": {
  "accelerator": "GPU",
  "colab": {
   "authorship_tag": "ABX9TyMq5U5JusYnjyzNK43bPXBq",
   "gpuType": "T4",
   "provenance": [],
   "toc_visible": true
  },
  "kernelspec": {
   "display_name": "Python 3 (ipykernel)",
   "language": "python",
   "name": "python3"
  },
  "language_info": {
   "codemirror_mode": {
    "name": "ipython",
    "version": 3
   },
   "file_extension": ".py",
   "mimetype": "text/x-python",
   "name": "python",
   "nbconvert_exporter": "python",
   "pygments_lexer": "ipython3",
   "version": "3.11.9"
  }
 },
 "nbformat": 4,
 "nbformat_minor": 4
}
