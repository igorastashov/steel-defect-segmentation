{
 "cells": [
  {
   "cell_type": "markdown",
   "metadata": {},
   "source": [
    "# 2 Многоклассовая классификация"
   ]
  },
  {
   "cell_type": "markdown",
   "metadata": {
    "id": "Fv2oEO1ggVbM"
   },
   "source": [
    "## 1 Загрузка бибилиотек"
   ]
  },
  {
   "cell_type": "code",
   "execution_count": 2,
   "metadata": {
    "executionInfo": {
     "elapsed": 7078,
     "status": "ok",
     "timestamp": 1717681784463,
     "user": {
      "displayName": "Igor Astashov",
      "userId": "07071031154975841447"
     },
     "user_tz": -420
    },
    "id": "OdBAaYTxVYm6"
   },
   "outputs": [],
   "source": [
    "import os\n",
    "\n",
    "import cv2\n",
    "import matplotlib.pyplot as plt\n",
    "import numpy as np\n",
    "import pandas as pd\n",
    "from IPython.display import SVG\n",
    "from tqdm import tqdm\n",
    "\n",
    "from torch.utils.data import Dataset, DataLoader\n",
    "import torchvision\n",
    "from PIL import Image\n",
    "\n",
    "import random\n",
    "import torch\n",
    "\n",
    "import copy\n",
    "\n",
    "import albumentations as A\n",
    "from albumentations import CropNonEmptyMaskIfExists\n",
    "from typing import List, Optional, Tuple\n",
    "\n",
    "import time\n",
    "from tqdm import tqdm\n",
    "\n",
    "from sklearn.metrics import roc_auc_score, f1_score, precision_score, recall_score, accuracy_score"
   ]
  },
  {
   "cell_type": "markdown",
   "metadata": {
    "id": "vFxkVYxP1T95"
   },
   "source": [
    "## 2 Загрузка данных"
   ]
  },
  {
   "cell_type": "code",
   "execution_count": 3,
   "metadata": {},
   "outputs": [],
   "source": [
    "import os\n",
    "notebook_path = os.path.abspath(\"2st-nb-multi-class.ipynb\")"
   ]
  },
  {
   "cell_type": "code",
   "execution_count": 4,
   "metadata": {
    "colab": {
     "base_uri": "https://localhost:8080/"
    },
    "executionInfo": {
     "elapsed": 1324,
     "status": "ok",
     "timestamp": 1717681786434,
     "user": {
      "displayName": "Igor Astashov",
      "userId": "07071031154975841447"
     },
     "user_tz": -420
    },
    "id": "CCz0_fAyiDXW",
    "outputId": "71582113-e8ce-47a8-865f-fa56cbc200b1"
   },
   "outputs": [],
   "source": [
    "# Подключим gpu\n",
    "os.environ['CUDA_VISIBLE_DEVICES'] = '0' # gpu №1\n",
    "device = torch.device('cuda:0' if torch.cuda.is_available() else 'cpu')\n",
    "\n",
    "# Тренировочные данные\n",
    "train_df = pd.read_csv(os.path.join(os.path.dirname(notebook_path), 'train.csv'))\n",
    "\n",
    "# Тренировочные данные разбитые по фолдам\n",
    "folds_ids = pd.read_csv(os.path.join(os.path.dirname(notebook_path), 'full_train_df_folds.csv'))"
   ]
  },
  {
   "cell_type": "code",
   "execution_count": 5,
   "metadata": {},
   "outputs": [],
   "source": [
    "# Номер фолда для валидации\n",
    "NUM_FOLD = 0"
   ]
  },
  {
   "cell_type": "code",
   "execution_count": 6,
   "metadata": {},
   "outputs": [
    {
     "data": {
      "text/plain": [
       "((10054,), (2514,))"
      ]
     },
     "execution_count": 6,
     "metadata": {},
     "output_type": "execute_result"
    }
   ],
   "source": [
    "# Разделим даннные на тренировочные (4 фолда) и валидационные (1 фолд)\n",
    "train_files = folds_ids.loc[folds_ids.stratifiedkfold != NUM_FOLD, 'ImageId'].values\n",
    "valid_files = folds_ids.loc[folds_ids.stratifiedkfold == NUM_FOLD, 'ImageId'].values\n",
    "\n",
    "train_files.shape, valid_files.shape"
   ]
  },
  {
   "cell_type": "markdown",
   "metadata": {
    "id": "eVUC1RCEAMX2"
   },
   "source": [
    "## 3 Датасет для тренировочных данных"
   ]
  },
  {
   "cell_type": "markdown",
   "metadata": {
    "id": "xmpVEQV29FB8"
   },
   "source": [
    "Переменные величины:"
   ]
  },
  {
   "cell_type": "code",
   "execution_count": 7,
   "metadata": {
    "executionInfo": {
     "elapsed": 16,
     "status": "ok",
     "timestamp": 1717681789074,
     "user": {
      "displayName": "Igor Astashov",
      "userId": "07071031154975841447"
     },
     "user_tz": -420
    },
    "id": "EdarCc7NrBNw"
   },
   "outputs": [],
   "source": [
    "# Базовая директория изображений\n",
    "BASE_DIR = os.path.join(os.path.dirname(notebook_path), 'train_images')\n",
    "\n",
    "# Размер изображения на входе\n",
    "IN_DIM = (256, 1600)\n",
    "\n",
    "# Число каналов маски (4 класса)\n",
    "MASK_CHANELS = 4"
   ]
  },
  {
   "cell_type": "markdown",
   "metadata": {
    "id": "PJcqQYKb9w7i"
   },
   "source": [
    "Обработаем маску:"
   ]
  },
  {
   "cell_type": "code",
   "execution_count": 9,
   "metadata": {
    "colab": {
     "base_uri": "https://localhost:8080/",
     "height": 112
    },
    "executionInfo": {
     "elapsed": 16,
     "status": "ok",
     "timestamp": 1717681789075,
     "user": {
      "displayName": "Igor Astashov",
      "userId": "07071031154975841447"
     },
     "user_tz": -420
    },
    "id": "ts6ZczXKrIuz",
    "outputId": "3be6b7dd-2ab5-4df1-f9c0-a1fe81c68c68"
   },
   "outputs": [
    {
     "data": {
      "text/html": [
       "<div>\n",
       "<style scoped>\n",
       "    .dataframe tbody tr th:only-of-type {\n",
       "        vertical-align: middle;\n",
       "    }\n",
       "\n",
       "    .dataframe tbody tr th {\n",
       "        vertical-align: top;\n",
       "    }\n",
       "\n",
       "    .dataframe thead th {\n",
       "        text-align: right;\n",
       "    }\n",
       "</style>\n",
       "<table border=\"1\" class=\"dataframe\">\n",
       "  <thead>\n",
       "    <tr style=\"text-align: right;\">\n",
       "      <th></th>\n",
       "      <th>ImageId</th>\n",
       "      <th>ClassId</th>\n",
       "      <th>EncodedPixels</th>\n",
       "    </tr>\n",
       "  </thead>\n",
       "  <tbody>\n",
       "    <tr>\n",
       "      <th>1</th>\n",
       "      <td>0007a71bf.jpg</td>\n",
       "      <td>3</td>\n",
       "      <td>18661 28 18863 82 19091 110 19347 110 19603 11...</td>\n",
       "    </tr>\n",
       "  </tbody>\n",
       "</table>\n",
       "</div>"
      ],
      "text/plain": [
       "         ImageId  ClassId                                      EncodedPixels\n",
       "1  0007a71bf.jpg        3  18661 28 18863 82 19091 110 19347 110 19603 11..."
      ]
     },
     "metadata": {},
     "output_type": "display_data"
    },
    {
     "name": "stdout",
     "output_type": "stream",
     "text": [
      "Класс дефекта: [3]\n"
     ]
    }
   ],
   "source": [
    "# Определим маску для 12-го индекса\n",
    "mask_df = train_df[train_df['ImageId'] == train_files[3]]\n",
    "rles = mask_df['EncodedPixels'].values\n",
    "class_ids = mask_df['ClassId'].values\n",
    "\n",
    "display(mask_df)\n",
    "print(f'Класс дефекта: {class_ids}')"
   ]
  },
  {
   "cell_type": "code",
   "execution_count": 10,
   "metadata": {
    "executionInfo": {
     "elapsed": 15,
     "status": "ok",
     "timestamp": 1717681789075,
     "user": {
      "displayName": "Igor Astashov",
      "userId": "07071031154975841447"
     },
     "user_tz": -420
    },
    "id": "dNmmsQqNucqK"
   },
   "outputs": [],
   "source": [
    "# Преобразуем строковые rle (run-length encoding) описания масок в формат изображений\n",
    "def rle2mask(rle, input_shape):\n",
    "    # Ширина и высота из входной формы\n",
    "    width, height = input_shape[:2]\n",
    "\n",
    "    # Пустой массив для маски\n",
    "    mask = np.zeros( width*height ).astype(np.uint8)\n",
    "\n",
    "    # rle стока в массив чисел\n",
    "    array = np.asarray([int(x) for x in rle.split()])\n",
    "    starts = array[0::2]\n",
    "    lengths = array[1::2]\n",
    "\n",
    "    # Заполненим маски значениями 1 в указанных участках\n",
    "    current_position = 0\n",
    "    for index, start in enumerate(starts):\n",
    "        mask[int(start):int(start+lengths[index])] = 1\n",
    "        current_position += lengths[index]\n",
    "\n",
    "    return mask.reshape(height, width).T\n",
    "\n",
    "# Многослойные маски из списка rle строк\n",
    "def build_masks(rles, class_ids, input_shape, num_classes):\n",
    "    masks = np.zeros((*input_shape, num_classes), dtype=np.uint8)\n",
    "\n",
    "    # Преобразование каждой строки rle в маску и добавление в массив масок\n",
    "    for rle, class_id in zip(rles, class_ids):\n",
    "        if isinstance(rle, str):\n",
    "            masks[:, :, class_id - 1] = rle2mask(rle, input_shape)\n",
    "\n",
    "    return masks"
   ]
  },
  {
   "cell_type": "code",
   "execution_count": 11,
   "metadata": {
    "colab": {
     "base_uri": "https://localhost:8080/"
    },
    "executionInfo": {
     "elapsed": 15,
     "status": "ok",
     "timestamp": 1717681789075,
     "user": {
      "displayName": "Igor Astashov",
      "userId": "07071031154975841447"
     },
     "user_tz": -420
    },
    "id": "Yu7Gs8fttJ4y",
    "outputId": "3dca20af-742f-4346-9ca0-d962c35f761d"
   },
   "outputs": [
    {
     "data": {
      "text/plain": [
       "(256, 1600, 4)"
      ]
     },
     "execution_count": 11,
     "metadata": {},
     "output_type": "execute_result"
    }
   ],
   "source": [
    "# Массив многослойных масок (в случае с несколькими классами) из списка rle строк\n",
    "mask = build_masks(rles, class_ids, input_shape=IN_DIM, num_classes=MASK_CHANELS)\n",
    "mask = np.asarray(mask, np.uint8)\n",
    "\n",
    "mask.shape"
   ]
  },
  {
   "cell_type": "code",
   "execution_count": 12,
   "metadata": {
    "executionInfo": {
     "elapsed": 12,
     "status": "ok",
     "timestamp": 1717681789076,
     "user": {
      "displayName": "Igor Astashov",
      "userId": "07071031154975841447"
     },
     "user_tz": -420
    },
    "id": "5kghvhJWDSjk"
   },
   "outputs": [],
   "source": [
    "# Отобразим полученные маски\n",
    "def display_masks(masks):\n",
    "    fig, axes = plt.subplots(1, masks.shape[2], figsize=(17, 10))\n",
    "\n",
    "    for i in range(masks.shape[2]):\n",
    "        ax = axes[i]\n",
    "        ax.imshow(masks[:, :, i], cmap='gray')\n",
    "        ax.set_title(f'Канал маски {i + 1}')\n",
    "        ax.axis('off')\n",
    "\n",
    "    plt.show()"
   ]
  },
  {
   "cell_type": "code",
   "execution_count": 13,
   "metadata": {
    "colab": {
     "base_uri": "https://localhost:8080/",
     "height": 68
    },
    "executionInfo": {
     "elapsed": 868,
     "status": "ok",
     "timestamp": 1717681789936,
     "user": {
      "displayName": "Igor Astashov",
      "userId": "07071031154975841447"
     },
     "user_tz": -420
    },
    "id": "fvJiXIwCPl7W",
    "outputId": "75baa595-7e83-435a-b0c2-010107cbb205"
   },
   "outputs": [
    {
     "data": {
      "image/png": "[encoded data removed]",
      "text/plain": [
       "<Figure size 1700x1000 with 4 Axes>"
      ]
     },
     "metadata": {},
     "output_type": "display_data"
    }
   ],
   "source": [
    "display_masks(mask)"
   ]
  },
  {
   "cell_type": "markdown",
   "metadata": {
    "id": "FjfCUbLC-Fn7"
   },
   "source": [
    "Аугментация маски и изображения. Препроцессинг. Перевод в тензор:"
   ]
  },
  {
   "cell_type": "code",
   "execution_count": 14,
   "metadata": {
    "executionInfo": {
     "elapsed": 7,
     "status": "ok",
     "timestamp": 1717681789936,
     "user": {
      "displayName": "Igor Astashov",
      "userId": "07071031154975841447"
     },
     "user_tz": -420
    },
    "id": "u5qtf8yDqaaf"
   },
   "outputs": [],
   "source": [
    "# Полные пути до каждого изображения\n",
    "images_path = [os.path.join(BASE_DIR, image_id) for image_id in train_files]"
   ]
  },
  {
   "cell_type": "code",
   "execution_count": 15,
   "metadata": {
    "colab": {
     "base_uri": "https://localhost:8080/"
    },
    "executionInfo": {
     "elapsed": 6,
     "status": "ok",
     "timestamp": 1717681789936,
     "user": {
      "displayName": "Igor Astashov",
      "userId": "07071031154975841447"
     },
     "user_tz": -420
    },
    "id": "verrk88SrIr9",
    "outputId": "458e94a5-281f-4d9b-a292-6222230fca59"
   },
   "outputs": [
    {
     "data": {
      "text/plain": [
       "(256, 1600, 3)"
      ]
     },
     "execution_count": 15,
     "metadata": {},
     "output_type": "execute_result"
    }
   ],
   "source": [
    "# Откроем одно изображение\n",
    "image = cv2.imread(images_path[12], -1)\n",
    "image.shape"
   ]
  },
  {
   "cell_type": "code",
   "execution_count": 16,
   "metadata": {
    "colab": {
     "base_uri": "https://localhost:8080/",
     "height": 156
    },
    "executionInfo": {
     "elapsed": 1360,
     "status": "ok",
     "timestamp": 1717681791292,
     "user": {
      "displayName": "Igor Astashov",
      "userId": "07071031154975841447"
     },
     "user_tz": -420
    },
    "id": "eu46jDzZIZUV",
    "outputId": "90f14026-3951-4f1d-ea3c-8b3dcd25dfeb"
   },
   "outputs": [
    {
     "data": {
      "image/png": "[encoded data removed]",
      "text/plain": [
       "<Figure size 1000x1000 with 1 Axes>"
      ]
     },
     "metadata": {},
     "output_type": "display_data"
    }
   ],
   "source": [
    "# Отобразим изображение\n",
    "def display_image(img):\n",
    "    plt.figure(figsize=(10, 10))\n",
    "    plt.imshow(img)\n",
    "    plt.axis('off')\n",
    "    plt.show()\n",
    "\n",
    "display_image(image)"
   ]
  },
  {
   "cell_type": "code",
   "execution_count": 17,
   "metadata": {
    "executionInfo": {
     "elapsed": 10,
     "status": "ok",
     "timestamp": 1717681791293,
     "user": {
      "displayName": "Igor Astashov",
      "userId": "07071031154975841447"
     },
     "user_tz": -420
    },
    "id": "tliDSXbtp0lx"
   },
   "outputs": [],
   "source": [
    "# Композиция аугментаций изображений\n",
    "def get_training_augmentation_crop_image():\n",
    "    train_transform = [\n",
    "\n",
    "        # Отразим горизонтально / вериткально\n",
    "        A.HorizontalFlip(p=0.5),\n",
    "        A.VerticalFlip(p=0.5),\n",
    "\n",
    "        # Повернем, добавим искажения\n",
    "        A.Rotate(limit=3, p=0.5),\n",
    "        A.OpticalDistortion(p=0.2),\n",
    "\n",
    "        # Выберем одно из следующих действий\n",
    "        A.OneOf([\n",
    "\n",
    "            # Кроп, если маска непустая (256x320) или случайный кроп\n",
    "            # (может кропнуть участок где нет маскированных пикселей)\n",
    "            CropNonEmptyMaskIfExists(256, 320, p=0.3),\n",
    "            A.RandomCrop(256, 320, p=0.7),\n",
    "        ], p=1.0),\n",
    "\n",
    "        # Дополнение изображения, если необходимо, до размеров (256x320),\n",
    "        # заполняя границы константным значением 0\n",
    "        A.PadIfNeeded(min_height=256, min_width=320,\n",
    "                      border_mode=cv2.BORDER_CONSTANT,\n",
    "                      value=0, p=0.3),\n",
    "        #  Случайный кроп (256x320)\n",
    "        A.RandomCrop(256, 320, p=1.0)\n",
    "    ]\n",
    "    return A.Compose(train_transform)"
   ]
  },
  {
   "cell_type": "code",
   "execution_count": 18,
   "metadata": {
    "colab": {
     "base_uri": "https://localhost:8080/"
    },
    "executionInfo": {
     "elapsed": 9,
     "status": "ok",
     "timestamp": 1717681791293,
     "user": {
      "displayName": "Igor Astashov",
      "userId": "07071031154975841447"
     },
     "user_tz": -420
    },
    "id": "kNCS-VmVzQMm",
    "outputId": "71f002ad-1a84-401c-b80e-3f4263e56b6e"
   },
   "outputs": [
    {
     "data": {
      "text/plain": [
       "((256, 320, 3), (256, 320, 4))"
      ]
     },
     "execution_count": 18,
     "metadata": {},
     "output_type": "execute_result"
    }
   ],
   "source": [
    "# Аугментация маски и изображения\n",
    "sample = get_training_augmentation_crop_image()(image=image, mask=mask)\n",
    "image, mask = sample['image'], sample['mask']\n",
    "\n",
    "image.shape, mask.shape"
   ]
  },
  {
   "cell_type": "code",
   "execution_count": 19,
   "metadata": {
    "executionInfo": {
     "elapsed": 7,
     "status": "ok",
     "timestamp": 1717681791293,
     "user": {
      "displayName": "Igor Astashov",
      "userId": "07071031154975841447"
     },
     "user_tz": -420
    },
    "id": "AsB76CtgLYRX"
   },
   "outputs": [],
   "source": [
    "def display_image_and_mask(img, msk):\n",
    "    fig, axes = plt.subplots(1, msk.shape[2] + 1, figsize=(17, 5))\n",
    "\n",
    "    # Отображение изображения\n",
    "    ax = axes[0]\n",
    "    ax.imshow(img)\n",
    "    ax.set_title('Аугм. изображение')\n",
    "    ax.axis('off')\n",
    "\n",
    "    for i in range(msk.shape[2]):\n",
    "        ax = axes[i + 1]\n",
    "        ax.imshow(msk[:, :, i], cmap='gray')\n",
    "        ax.set_title(f'Аугм. канал маски {i + 1}') # Канал соответствует классу\n",
    "        ax.axis('off')\n",
    "\n",
    "    plt.show()"
   ]
  },
  {
   "cell_type": "code",
   "execution_count": 20,
   "metadata": {
    "colab": {
     "base_uri": "https://localhost:8080/",
     "height": 147
    },
    "executionInfo": {
     "elapsed": 1380,
     "status": "ok",
     "timestamp": 1717681792667,
     "user": {
      "displayName": "Igor Astashov",
      "userId": "07071031154975841447"
     },
     "user_tz": -420
    },
    "id": "zPelB1CBOvlU",
    "outputId": "2707e2ca-a5d2-4a97-cbff-57b5c9eb1288"
   },
   "outputs": [
    {
     "data": {
      "image/png": "[encoded data removed]",
      "text/plain": [
       "<Figure size 1700x500 with 5 Axes>"
      ]
     },
     "metadata": {},
     "output_type": "display_data"
    }
   ],
   "source": [
    "display_image_and_mask(image, mask)"
   ]
  },
  {
   "cell_type": "code",
   "execution_count": 21,
   "metadata": {
    "executionInfo": {
     "elapsed": 5,
     "status": "ok",
     "timestamp": 1717681792667,
     "user": {
      "displayName": "Igor Astashov",
      "userId": "07071031154975841447"
     },
     "user_tz": -420
    },
    "id": "CnkB4urS1EWa"
   },
   "outputs": [],
   "source": [
    "# Нормализуем каждый канал изображения\n",
    "def get_preprocessing():\n",
    "    _transform = [\n",
    "        A.Normalize(mean=(0.485, 0.456, 0.406),\n",
    "                    std=(0.229, 0.224, 0.225))\n",
    "    ]\n",
    "    return A.Compose(_transform)"
   ]
  },
  {
   "cell_type": "code",
   "execution_count": 22,
   "metadata": {
    "executionInfo": {
     "elapsed": 33,
     "status": "ok",
     "timestamp": 1717681794035,
     "user": {
      "displayName": "Igor Astashov",
      "userId": "07071031154975841447"
     },
     "user_tz": -420
    },
    "id": "oi-ryDKVujZr"
   },
   "outputs": [],
   "source": [
    "# Нормализуем изображение и маску\n",
    "sample = get_preprocessing()(image=image, mask=mask)\n",
    "\n",
    "image = sample['image']\n",
    "mask = sample['mask']"
   ]
  },
  {
   "cell_type": "code",
   "execution_count": 23,
   "metadata": {
    "colab": {
     "base_uri": "https://localhost:8080/"
    },
    "executionInfo": {
     "elapsed": 26,
     "status": "ok",
     "timestamp": 1717681794036,
     "user": {
      "displayName": "Igor Astashov",
      "userId": "07071031154975841447"
     },
     "user_tz": -420
    },
    "id": "pA6gxpZa1L0p",
    "outputId": "e5e5cc70-8571-47bd-b632-c87c9d4c93a7"
   },
   "outputs": [
    {
     "data": {
      "text/plain": [
       "torch.Size([3, 256, 320])"
      ]
     },
     "execution_count": 23,
     "metadata": {},
     "output_type": "execute_result"
    }
   ],
   "source": [
    "# Переведем изображение в тензор, переставим размерность\n",
    "image_tensor = torch.Tensor(image).permute(2, 0, 1)\n",
    "image_tensor.shape"
   ]
  },
  {
   "cell_type": "code",
   "execution_count": 24,
   "metadata": {
    "colab": {
     "base_uri": "https://localhost:8080/"
    },
    "executionInfo": {
     "elapsed": 24,
     "status": "ok",
     "timestamp": 1717681794041,
     "user": {
      "displayName": "Igor Astashov",
      "userId": "07071031154975841447"
     },
     "user_tz": -420
    },
    "id": "RaJcLa1H1L3D",
    "outputId": "1d8ac3e6-fb8c-49cf-8b5d-81e35a67a4a4"
   },
   "outputs": [
    {
     "data": {
      "text/plain": [
       "torch.Size([4])"
      ]
     },
     "execution_count": 24,
     "metadata": {},
     "output_type": "execute_result"
    }
   ],
   "source": [
    "# Переведем маску в тензор, переставим размерность\n",
    "# Cоздадим метки, которые указывают на присутствие классов\n",
    "# В итоге получим тензор из меток дефекта для каждого класса - tensor([0., 0., 1., 0.])\n",
    "mask_tensor = torch.Tensor(np.max(mask, axis=(0, 1)))\n",
    "mask_tensor.shape # torch.Size([4])"
   ]
  },
  {
   "cell_type": "code",
   "execution_count": 25,
   "metadata": {},
   "outputs": [],
   "source": [
    "# Соберем в класс\n",
    "class Dataset_train:\n",
    "    def __init__(\n",
    "            self,\n",
    "            ids,\n",
    "            df,\n",
    "            images_dir=BASE_DIR,\n",
    "            dim=IN_DIM,\n",
    "            augmentation=None,\n",
    "            preprocessing=None\n",
    "    ):\n",
    "\n",
    "        \"\"\"\n",
    "        Класс для загрузки обучающего набора данных.\n",
    "\n",
    "        :param ids: Список имен изображений.\n",
    "        :param df: DataFrame, с информацией о масках.\n",
    "        :param images_dir: Директория с изображениями.\n",
    "        :param dim: Размер входного изображения.\n",
    "        :param augmentation: Объект аугментации изображения (по умолчанию None).\n",
    "        :param preprocessing: Объект предварительной обработки изображения (по умолчанию None).\n",
    "        \"\"\"\n",
    "\n",
    "        self.ids = ids\n",
    "        self.df=df\n",
    "        self.images_path = [os.path.join(images_dir, image_id) for image_id in self.ids]\n",
    "        self.dim=dim\n",
    "        self.augmentation = augmentation\n",
    "        self.preprocessing = preprocessing\n",
    "\n",
    "    def __getitem__(self, i):\n",
    "        \"\"\"\n",
    "        Возвращает один элемент набора данных.\n",
    "\n",
    "        :param i: Индекс элемента.\n",
    "        :return: Кортеж из изображения и маски в формате тензоров.\n",
    "        \"\"\"\n",
    "        # Прочитаем изображение\n",
    "        image = cv2.imread(self.images_path[i], -1)\n",
    "\n",
    "        # Построим маску\n",
    "        mask_df = self.df[self.df['ImageId'] == self.ids[i]]\n",
    "        rles = mask_df['EncodedPixels'].values\n",
    "        class_ids = mask_df['ClassId'].values\n",
    "        mask = build_masks(rles, class_ids, input_shape=self.dim, num_classes=MASK_CHANELS)\n",
    "        mask = np.asarray(mask, np.uint8)\n",
    "\n",
    "        # Добавим аугментацию\n",
    "        if self.augmentation:\n",
    "            sample = self.augmentation(image=image, mask=mask)\n",
    "            image, mask = sample['image'], sample['mask']\n",
    "\n",
    "        # Добавим препроцессинг\n",
    "        if self.preprocessing:\n",
    "            sample = self.preprocessing(image=image, mask=mask)\n",
    "            image = sample['image']\n",
    "            mask = sample['mask']\n",
    "\n",
    "        # Возвращаем изображение и информацию о присутствии классов\n",
    "        return torch.Tensor(image).permute(2, 0, 1), torch.Tensor(np.max(mask, axis=(0,1)))\n",
    "\n",
    "    def __len__(self):\n",
    "        \"\"\"\n",
    "        Возвращает количество элементов в наборе данных.\n",
    "\n",
    "        :return: Количество элементов.\n",
    "        \"\"\"\n",
    "        return len(self.ids)"
   ]
  },
  {
   "cell_type": "code",
   "execution_count": 26,
   "metadata": {},
   "outputs": [],
   "source": [
    "train_dataset = Dataset_train(\n",
    "        ids=train_files,\n",
    "        df=train_df,\n",
    "        augmentation=get_training_augmentation_crop_image(),\n",
    "        preprocessing=get_preprocessing()\n",
    ")"
   ]
  },
  {
   "cell_type": "code",
   "execution_count": 27,
   "metadata": {},
   "outputs": [
    {
     "data": {
      "text/plain": [
       "tensor([0., 0., 0., 0.])"
      ]
     },
     "execution_count": 27,
     "metadata": {},
     "output_type": "execute_result"
    }
   ],
   "source": [
    "train_dataset[12][1]"
   ]
  },
  {
   "cell_type": "markdown",
   "metadata": {
    "id": "j07yS4NkAuYt"
   },
   "source": [
    "## 4 Датасет для валидационных данных"
   ]
  },
  {
   "cell_type": "markdown",
   "metadata": {},
   "source": [
    "Еще немного поработаем с изображением и поделим его на 5 участков по ширине"
   ]
  },
  {
   "cell_type": "markdown",
   "metadata": {},
   "source": [
    "Следующее предположение по разделению каждой валидационной картинки на участки:\n",
    "\n",
    "- Возможно повышение производительности;\n",
    "- Учет пространственных особенностей (модель лучше должна работать на участках с меньшим числом пикселей);\n",
    "- Учет особенности сеток по входному размеру данных."
   ]
  },
  {
   "cell_type": "code",
   "execution_count": 28,
   "metadata": {
    "colab": {
     "base_uri": "https://localhost:8080/"
    },
    "executionInfo": {
     "elapsed": 5,
     "status": "ok",
     "timestamp": 1717681794908,
     "user": {
      "displayName": "Igor Astashov",
      "userId": "07071031154975841447"
     },
     "user_tz": -420
    },
    "id": "S01ojWXuYswe",
    "outputId": "1253a3f1-e9eb-47ca-fe0a-4f811a9aca76"
   },
   "outputs": [
    {
     "name": "stdout",
     "output_type": "stream",
     "text": [
      "Список названий изображений для валидации: ['0002cc93b.jpg' '000a4bcdd.jpg' '005da33cf.jpg' ... 'ffb48ee43.jpg'\n",
      " 'ffe93442c.jpg' 'fffe98443.jpg']\n"
     ]
    }
   ],
   "source": [
    "print(f'Список названий изображений для валидации: {valid_files}')"
   ]
  },
  {
   "cell_type": "markdown",
   "metadata": {
    "id": "IUirI1VIkudR"
   },
   "source": [
    "Обработаем маску:"
   ]
  },
  {
   "cell_type": "code",
   "execution_count": 29,
   "metadata": {
    "colab": {
     "base_uri": "https://localhost:8080/",
     "height": 112
    },
    "executionInfo": {
     "elapsed": 12,
     "status": "ok",
     "timestamp": 1717681797228,
     "user": {
      "displayName": "Igor Astashov",
      "userId": "07071031154975841447"
     },
     "user_tz": -420
    },
    "id": "JxkRy97wkWwT",
    "outputId": "f89c6819-a192-4c99-bbf8-bb4a4690ebba"
   },
   "outputs": [
    {
     "data": {
      "text/html": [
       "<div>\n",
       "<style scoped>\n",
       "    .dataframe tbody tr th:only-of-type {\n",
       "        vertical-align: middle;\n",
       "    }\n",
       "\n",
       "    .dataframe tbody tr th {\n",
       "        vertical-align: top;\n",
       "    }\n",
       "\n",
       "    .dataframe thead th {\n",
       "        text-align: right;\n",
       "    }\n",
       "</style>\n",
       "<table border=\"1\" class=\"dataframe\">\n",
       "  <thead>\n",
       "    <tr style=\"text-align: right;\">\n",
       "      <th></th>\n",
       "      <th>ImageId</th>\n",
       "      <th>ClassId</th>\n",
       "      <th>EncodedPixels</th>\n",
       "    </tr>\n",
       "  </thead>\n",
       "  <tbody>\n",
       "    <tr>\n",
       "      <th>38</th>\n",
       "      <td>012f26693.jpg</td>\n",
       "      <td>3</td>\n",
       "      <td>4396 14 4632 42 4878 61 5133 70 5388 76 5643 7...</td>\n",
       "    </tr>\n",
       "    <tr>\n",
       "      <th>39</th>\n",
       "      <td>012f26693.jpg</td>\n",
       "      <td>4</td>\n",
       "      <td>35258 2 35513 5 35768 8 36023 11 36277 15 3653...</td>\n",
       "    </tr>\n",
       "  </tbody>\n",
       "</table>\n",
       "</div>"
      ],
      "text/plain": [
       "          ImageId  ClassId                                      EncodedPixels\n",
       "38  012f26693.jpg        3  4396 14 4632 42 4878 61 5133 70 5388 76 5643 7...\n",
       "39  012f26693.jpg        4  35258 2 35513 5 35768 8 36023 11 36277 15 3653..."
      ]
     },
     "metadata": {},
     "output_type": "display_data"
    },
    {
     "name": "stdout",
     "output_type": "stream",
     "text": [
      "Класс дефекта: [3 4]\n"
     ]
    }
   ],
   "source": [
    "# Определим маску для 15-го индекса\n",
    "mask_df = train_df[train_df['ImageId'] == valid_files[15]]\n",
    "rles = mask_df['EncodedPixels'].values\n",
    "class_ids = mask_df['ClassId'].values\n",
    "\n",
    "display(mask_df)\n",
    "print(f'Класс дефекта: {class_ids}')"
   ]
  },
  {
   "cell_type": "code",
   "execution_count": 30,
   "metadata": {
    "colab": {
     "base_uri": "https://localhost:8080/"
    },
    "executionInfo": {
     "elapsed": 11,
     "status": "ok",
     "timestamp": 1717681797229,
     "user": {
      "displayName": "Igor Astashov",
      "userId": "07071031154975841447"
     },
     "user_tz": -420
    },
    "id": "5r_xNC4NkWyn",
    "outputId": "aec933b3-8470-4a56-a01e-a689d6c2497a"
   },
   "outputs": [
    {
     "data": {
      "text/plain": [
       "(256, 1600, 4)"
      ]
     },
     "execution_count": 30,
     "metadata": {},
     "output_type": "execute_result"
    }
   ],
   "source": [
    "# Массив многослойных масок (в случае с несколькими классами) из списка rle строк\n",
    "mask = build_masks(rles, class_ids, input_shape=IN_DIM, num_classes=MASK_CHANELS)\n",
    "mask = np.asarray(mask, np.uint8)\n",
    "\n",
    "mask.shape"
   ]
  },
  {
   "cell_type": "code",
   "execution_count": 31,
   "metadata": {
    "colab": {
     "base_uri": "https://localhost:8080/",
     "height": 97
    },
    "executionInfo": {
     "elapsed": 8,
     "status": "ok",
     "timestamp": 1717681797229,
     "user": {
      "displayName": "Igor Astashov",
      "userId": "07071031154975841447"
     },
     "user_tz": -420
    },
    "id": "0WNrfsP9kW07",
    "outputId": "15d4b3dd-82e6-4dfb-cedf-f8bbc946eb49"
   },
   "outputs": [
    {
     "data": {
      "image/png": "[encoded data removed]",
      "text/plain": [
       "<Figure size 1700x1000 with 4 Axes>"
      ]
     },
     "metadata": {},
     "output_type": "display_data"
    }
   ],
   "source": [
    "# Отобразим маски\n",
    "display_masks(mask)"
   ]
  },
  {
   "cell_type": "markdown",
   "metadata": {
    "id": "7MCkkxc4pMBd"
   },
   "source": [
    "Прочитаем изображение"
   ]
  },
  {
   "cell_type": "code",
   "execution_count": 32,
   "metadata": {
    "executionInfo": {
     "elapsed": 8,
     "status": "ok",
     "timestamp": 1717681797230,
     "user": {
      "displayName": "Igor Astashov",
      "userId": "07071031154975841447"
     },
     "user_tz": -420
    },
    "id": "kwGWehD1lJtR"
   },
   "outputs": [],
   "source": [
    "# Пути до каждого изображения\n",
    "images_path = [os.path.join(BASE_DIR, image_id) for image_id in valid_files]"
   ]
  },
  {
   "cell_type": "code",
   "execution_count": 33,
   "metadata": {
    "colab": {
     "base_uri": "https://localhost:8080/"
    },
    "executionInfo": {
     "elapsed": 7,
     "status": "ok",
     "timestamp": 1717681799381,
     "user": {
      "displayName": "Igor Astashov",
      "userId": "07071031154975841447"
     },
     "user_tz": -420
    },
    "id": "OZpMHulAj6VE",
    "outputId": "1014a59f-e3fe-454e-eb82-b1ec5c0a66a6"
   },
   "outputs": [
    {
     "data": {
      "text/plain": [
       "(256, 1600, 3)"
      ]
     },
     "execution_count": 33,
     "metadata": {},
     "output_type": "execute_result"
    }
   ],
   "source": [
    "# Откроем одно изображение\n",
    "image = cv2.imread(images_path[15], -1)\n",
    "image.shape"
   ]
  },
  {
   "cell_type": "code",
   "execution_count": 34,
   "metadata": {
    "colab": {
     "base_uri": "https://localhost:8080/",
     "height": 156
    },
    "executionInfo": {
     "elapsed": 5,
     "status": "ok",
     "timestamp": 1717681799381,
     "user": {
      "displayName": "Igor Astashov",
      "userId": "07071031154975841447"
     },
     "user_tz": -420
    },
    "id": "TCloeKGSj6VF",
    "outputId": "654f6ac3-0467-469d-b155-0fcf10b497ed"
   },
   "outputs": [
    {
     "data": {
      "image/png": "[encoded data removed]",
      "text/plain": [
       "<Figure size 1000x1000 with 1 Axes>"
      ]
     },
     "metadata": {},
     "output_type": "display_data"
    }
   ],
   "source": [
    "# Отобразим изображение\n",
    "display_image(image)"
   ]
  },
  {
   "cell_type": "code",
   "execution_count": 35,
   "metadata": {
    "executionInfo": {
     "elapsed": 15,
     "status": "ok",
     "timestamp": 1717681801163,
     "user": {
      "displayName": "Igor Astashov",
      "userId": "07071031154975841447"
     },
     "user_tz": -420
    },
    "id": "sKJ4FIlNl0wq"
   },
   "outputs": [],
   "source": [
    "# Число участков\n",
    "N_CROP = 5\n",
    "\n",
    "# Размер участка\n",
    "OUT_DIM = (N_CROP, 256, 320)\n",
    "\n",
    "# Число входных каналов (RGB)\n",
    "IMG_CHANELS = 3"
   ]
  },
  {
   "cell_type": "code",
   "execution_count": 36,
   "metadata": {},
   "outputs": [
    {
     "data": {
      "text/plain": [
       "((5, 256, 320, 3), (5, 256, 320, 4))"
      ]
     },
     "execution_count": 36,
     "metadata": {},
     "output_type": "execute_result"
    }
   ],
   "source": [
    "# Пустые массивы для хранения участков\n",
    "image_crop = np.empty((*OUT_DIM, IMG_CHANELS))\n",
    "mask_crop = np.empty((*OUT_DIM, MASK_CHANELS))\n",
    "\n",
    "image_crop.shape, mask_crop.shape"
   ]
  },
  {
   "cell_type": "code",
   "execution_count": 37,
   "metadata": {},
   "outputs": [
    {
     "data": {
      "text/plain": [
       "((5, 256, 320, 3), (5, 256, 320, 4))"
      ]
     },
     "execution_count": 37,
     "metadata": {},
     "output_type": "execute_result"
    }
   ],
   "source": [
    "# В цикле пройдем по каждому из 5 участков и извлечем обрезок сохранив в _empt\n",
    "for i in range(N_CROP):\n",
    "    image_crop[i] = image[:, i * OUT_DIM[2] : (i + 1) * OUT_DIM[2], :]\n",
    "    mask_crop[i] = mask[:, i * OUT_DIM[2] : (i + 1) * OUT_DIM[2], :]\n",
    "\n",
    "image_crop.shape, mask_crop.shape"
   ]
  },
  {
   "cell_type": "code",
   "execution_count": 38,
   "metadata": {},
   "outputs": [
    {
     "data": {
      "image/png": "[encoded data removed]",
      "text/plain": [
       "<Figure size 1700x500 with 5 Axes>"
      ]
     },
     "metadata": {},
     "output_type": "display_data"
    },
    {
     "data": {
      "image/png": "[encoded data removed]",
      "text/plain": [
       "<Figure size 1700x500 with 5 Axes>"
      ]
     },
     "metadata": {},
     "output_type": "display_data"
    },
    {
     "data": {
      "image/png": "[encoded data removed]",
      "text/plain": [
       "<Figure size 1700x500 with 5 Axes>"
      ]
     },
     "metadata": {},
     "output_type": "display_data"
    },
    {
     "data": {
      "image/png": "[encoded data removed]",
      "text/plain": [
       "<Figure size 1700x500 with 5 Axes>"
      ]
     },
     "metadata": {},
     "output_type": "display_data"
    },
    {
     "data": {
      "image/png": "[encoded data removed]",
      "text/plain": [
       "<Figure size 1700x500 with 5 Axes>"
      ]
     },
     "metadata": {},
     "output_type": "display_data"
    }
   ],
   "source": [
    "# Отобразим все изображения и все каналы маски\n",
    "def show_image_and_mask(image, mask, crop):\n",
    "    fig, axes = plt.subplots(1, MASK_CHANELS + 1, figsize=(17, 5))\n",
    "    axes[0].imshow(image[:, :, 0], cmap='gray')\n",
    "    axes[0].set_title(f'{i}-й участок изображения')\n",
    "    for j in range(MASK_CHANELS):\n",
    "        axes[j + 1].imshow(mask[:, :, j], cmap='gray')\n",
    "        axes[j + 1].set_title(f'Канал маски {j + 1}')\n",
    "        axes[j + 1].axis('off')\n",
    "    axes[0].axis('off')\n",
    "    plt.show()\n",
    "\n",
    "# Отображение всех участков\n",
    "for i in range(N_CROP):\n",
    "    show_image_and_mask(image_crop[i], mask_crop[i], i)"
   ]
  },
  {
   "cell_type": "code",
   "execution_count": 39,
   "metadata": {},
   "outputs": [],
   "source": [
    "# Нормализуем изображение\n",
    "sample = get_preprocessing()(image=image_crop, mask=mask_crop)\n",
    "image_crop = sample['image']\n",
    "mask_crop = sample['mask']"
   ]
  },
  {
   "cell_type": "code",
   "execution_count": 40,
   "metadata": {},
   "outputs": [
    {
     "data": {
      "text/plain": [
       "torch.Size([5, 3, 256, 320])"
      ]
     },
     "execution_count": 40,
     "metadata": {},
     "output_type": "execute_result"
    }
   ],
   "source": [
    "# Переведем изображение в тензор, переставим размерность\n",
    "image_tensor = torch.Tensor(image_crop).permute(0, 3, 1, 2)\n",
    "image_tensor.shape"
   ]
  },
  {
   "cell_type": "code",
   "execution_count": 41,
   "metadata": {},
   "outputs": [
    {
     "data": {
      "text/plain": [
       "torch.Size([5, 4])"
      ]
     },
     "execution_count": 41,
     "metadata": {},
     "output_type": "execute_result"
    }
   ],
   "source": [
    "# Переведем маску в тензор, переставим размерность\n",
    "# Cоздадим метки, которые указывают на присутствие классов\n",
    "# tensor([[0., 0., 1., 1.],\n",
    "        # [0., 0., 0., 0.],\n",
    "        # [0., 0., 0., 0.],\n",
    "        # [0., 0., 0., 0.],\n",
    "        # [0., 0., 0., 0.]])\n",
    "mask_tensor = torch.Tensor(np.max(mask_crop, axis=(1, 2)))\n",
    "mask_tensor.shape # torch.Size([5, 4])"
   ]
  },
  {
   "cell_type": "code",
   "execution_count": 42,
   "metadata": {},
   "outputs": [
    {
     "data": {
      "text/plain": [
       "tensor([[0., 0., 1., 1.],\n",
       "        [0., 0., 0., 0.],\n",
       "        [0., 0., 0., 0.],\n",
       "        [0., 0., 0., 0.],\n",
       "        [0., 0., 0., 0.]])"
      ]
     },
     "execution_count": 42,
     "metadata": {},
     "output_type": "execute_result"
    }
   ],
   "source": [
    "mask_tensor"
   ]
  },
  {
   "cell_type": "code",
   "execution_count": 43,
   "metadata": {
    "executionInfo": {
     "elapsed": 3,
     "status": "ok",
     "timestamp": 1717681803389,
     "user": {
      "displayName": "Igor Astashov",
      "userId": "07071031154975841447"
     },
     "user_tz": -420
    },
    "id": "pAnDRSUWYRqA"
   },
   "outputs": [],
   "source": [
    "class Dataset_valid(Dataset):\n",
    "    def __init__(self,\n",
    "                 ids,\n",
    "                 df,\n",
    "                 images_dir=BASE_DIR,\n",
    "                 dim=IN_DIM,\n",
    "                 preprocessing=None):\n",
    "        \"\"\"\n",
    "        Класс для загрузки валидационного набора данных.\n",
    "\n",
    "        :param ids: Список имен изображений.\n",
    "        :param df: DataFrame, с информацией о масках.\n",
    "        :param images_dir: Директория с изображениями.\n",
    "        :param dim: Размер входного изображения.\n",
    "        :param preprocessing: Объект предварительной обработки изображения (по умолчанию None).\n",
    "        \"\"\"\n",
    "        self.ids = ids\n",
    "        self.df = df\n",
    "        self.images_path = [os.path.join(images_dir, image_id) for image_id in self.ids]\n",
    "        self.dim = dim\n",
    "        self.preprocessing = preprocessing\n",
    "\n",
    "    def __getitem__(self, i):\n",
    "        \"\"\"\n",
    "        Возвращает нарезанное изображение и маски на участки.\n",
    "\n",
    "        Args:\n",
    "            i (int): Индекс изображения.\n",
    "\n",
    "        Returns:\n",
    "            torch.Tensor: Нарезанное изображение на учвастки.\n",
    "            torch.Tensor: Нарезанная маска на участки с 4-мя слоями на каждом.\n",
    "        \"\"\"\n",
    "        # Чтение данных\n",
    "        image = cv2.imread(self.images_path[i], -1)\n",
    "\n",
    "        # Создание маски\n",
    "        mask_df = self.df[self.df['ImageId'] == self.ids[i]]\n",
    "        rles = mask_df['EncodedPixels'].values\n",
    "        class_ids = mask_df['ClassId'].values\n",
    "        mask = build_masks(rles, class_ids, input_shape=self.dim, num_classes=MASK_CHANELS)\n",
    "\n",
    "        # Пустые массивы для хранения обрезков\n",
    "        image_crop = np.empty((*OUT_DIM, IMG_CHANELS))\n",
    "        mask_crop = np.empty((*OUT_DIM, MASK_CHANELS))\n",
    "\n",
    "        # Выполнение обрезки\n",
    "        for i in range(N_CROP):\n",
    "            image_crop[i] = image[:, i * OUT_DIM[2] : (i + 1) * OUT_DIM[2], :]\n",
    "            mask_crop[i] = mask[:, i * OUT_DIM[2] : (i + 1) * OUT_DIM[2], :]\n",
    "\n",
    "        # Применение препроцессинга\n",
    "        if self.preprocessing:\n",
    "            sample = self.preprocessing(image=image_crop, mask=mask_crop)\n",
    "            image_crop, mask_crop = sample['image'], sample['mask']\n",
    "\n",
    "        # Преобразование в тензоры\n",
    "        image_crop = torch.Tensor(image_crop).permute(0, 3, 1, 2)\n",
    "        mask_crop = torch.Tensor(np.max(mask_crop, axis=(1, 2)))\n",
    "\n",
    "        return image_crop, mask_crop\n",
    "\n",
    "    def __len__(self):\n",
    "        \"\"\"\n",
    "        Возвращает количество изображений в датасете.\n",
    "\n",
    "        Returns:\n",
    "            int: Количество изображений.\n",
    "        \"\"\"\n",
    "        return len(self.ids)"
   ]
  },
  {
   "cell_type": "code",
   "execution_count": 44,
   "metadata": {
    "executionInfo": {
     "elapsed": 2,
     "status": "ok",
     "timestamp": 1717681803389,
     "user": {
      "displayName": "Igor Astashov",
      "userId": "07071031154975841447"
     },
     "user_tz": -420
    },
    "id": "EUQ9ZKXjAyFh"
   },
   "outputs": [],
   "source": [
    "valid_dataset = Dataset_valid(\n",
    "    ids=valid_files,\n",
    "    df=train_df,\n",
    "    preprocessing=get_preprocessing()\n",
    ")"
   ]
  },
  {
   "cell_type": "code",
   "execution_count": 45,
   "metadata": {
    "colab": {
     "base_uri": "https://localhost:8080/"
    },
    "executionInfo": {
     "elapsed": 4,
     "status": "ok",
     "timestamp": 1717681805088,
     "user": {
      "displayName": "Igor Astashov",
      "userId": "07071031154975841447"
     },
     "user_tz": -420
    },
    "id": "PzzfAXXwvq4T",
    "outputId": "7bf6d823-98fe-4c35-d26c-5ba015eb1b8c"
   },
   "outputs": [
    {
     "data": {
      "text/plain": [
       "tensor([[0., 0., 1., 1.],\n",
       "        [0., 0., 0., 0.],\n",
       "        [0., 0., 0., 0.],\n",
       "        [0., 0., 0., 0.],\n",
       "        [0., 0., 0., 0.]])"
      ]
     },
     "execution_count": 45,
     "metadata": {},
     "output_type": "execute_result"
    }
   ],
   "source": [
    "valid_dataset[15][1]"
   ]
  },
  {
   "cell_type": "markdown",
   "metadata": {
    "id": "e_S1ziXCYVT8"
   },
   "source": [
    "## 5 Даталоадер"
   ]
  },
  {
   "cell_type": "code",
   "execution_count": 46,
   "metadata": {
    "executionInfo": {
     "elapsed": 4,
     "status": "ok",
     "timestamp": 1717681806050,
     "user": {
      "displayName": "Igor Astashov",
      "userId": "07071031154975841447"
     },
     "user_tz": -420
    },
    "id": "ACwCq96lYnEt"
   },
   "outputs": [],
   "source": [
    "BATCH_SIZE = 16"
   ]
  },
  {
   "cell_type": "code",
   "execution_count": 47,
   "metadata": {
    "executionInfo": {
     "elapsed": 3,
     "status": "ok",
     "timestamp": 1717681806051,
     "user": {
      "displayName": "Igor Astashov",
      "userId": "07071031154975841447"
     },
     "user_tz": -420
    },
    "id": "1d2sHuNtvq9h"
   },
   "outputs": [],
   "source": [
    "dataloaders = {'train': torch.utils.data.DataLoader(train_dataset,\n",
    "                                                    shuffle=True,\n",
    "                                                    num_workers=0,\n",
    "                                                    batch_size=BATCH_SIZE,\n",
    "                                                    pin_memory=True),\n",
    "               'val': torch.utils.data.DataLoader(valid_dataset,\n",
    "                                                  shuffle=False,\n",
    "                                                  num_workers=0,\n",
    "                                                  batch_size=1,\n",
    "                                                  pin_memory=True)}"
   ]
  },
  {
   "cell_type": "code",
   "execution_count": 48,
   "metadata": {
    "colab": {
     "base_uri": "https://localhost:8080/"
    },
    "executionInfo": {
     "elapsed": 6324,
     "status": "ok",
     "timestamp": 1717681813832,
     "user": {
      "displayName": "Igor Astashov",
      "userId": "07071031154975841447"
     },
     "user_tz": -420
    },
    "id": "cfKfRplekMZl",
    "outputId": "ccb9464d-b1fc-4f7e-83e4-e67a70f131b3"
   },
   "outputs": [
    {
     "name": "stdout",
     "output_type": "stream",
     "text": [
      "CPU times: total: 62.5 ms\n",
      "Wall time: 366 ms\n"
     ]
    },
    {
     "data": {
      "text/plain": [
       "tensor([[0., 0., 0., 0.],\n",
       "        [0., 0., 0., 0.],\n",
       "        [0., 0., 0., 0.],\n",
       "        [0., 0., 0., 0.],\n",
       "        [0., 0., 0., 0.],\n",
       "        [0., 0., 1., 0.],\n",
       "        [0., 0., 0., 0.],\n",
       "        [0., 0., 0., 0.],\n",
       "        [0., 0., 0., 0.],\n",
       "        [0., 0., 1., 0.],\n",
       "        [0., 0., 1., 0.],\n",
       "        [1., 1., 0., 0.],\n",
       "        [0., 0., 0., 0.],\n",
       "        [0., 0., 1., 0.],\n",
       "        [1., 0., 0., 0.],\n",
       "        [0., 0., 0., 0.]])"
      ]
     },
     "execution_count": 48,
     "metadata": {},
     "output_type": "execute_result"
    }
   ],
   "source": [
    "%%time\n",
    "next(iter(dataloaders['train']))[1]"
   ]
  },
  {
   "cell_type": "code",
   "execution_count": 49,
   "metadata": {
    "colab": {
     "base_uri": "https://localhost:8080/"
    },
    "executionInfo": {
     "elapsed": 12,
     "status": "ok",
     "timestamp": 1717681813833,
     "user": {
      "displayName": "Igor Astashov",
      "userId": "07071031154975841447"
     },
     "user_tz": -420
    },
    "id": "7L-pUw-CWPJC",
    "outputId": "bc31af14-44ff-4981-b160-16bcde2e115e"
   },
   "outputs": [
    {
     "name": "stdout",
     "output_type": "stream",
     "text": [
      "CPU times: total: 15.6 ms\n",
      "Wall time: 25.8 ms\n"
     ]
    },
    {
     "data": {
      "text/plain": [
       "tensor([[1., 0., 0., 0.],\n",
       "        [1., 0., 0., 0.],\n",
       "        [1., 0., 0., 0.],\n",
       "        [0., 0., 0., 0.],\n",
       "        [0., 0., 0., 0.]])"
      ]
     },
     "execution_count": 49,
     "metadata": {},
     "output_type": "execute_result"
    }
   ],
   "source": [
    "%%time\n",
    "next(iter(dataloaders['val']))[1][0]"
   ]
  },
  {
   "cell_type": "code",
   "execution_count": 50,
   "metadata": {},
   "outputs": [
    {
     "data": {
      "text/plain": [
       "{'train': 10054, 'val': 12570}"
      ]
     },
     "execution_count": 50,
     "metadata": {},
     "output_type": "execute_result"
    }
   ],
   "source": [
    "# Размер тренировочного и валидационного датасета\n",
    "dataset_sizes = {'train': len(train_dataset), 'val': len(valid_dataset)*5}\n",
    "\n",
    "dataset_sizes"
   ]
  },
  {
   "cell_type": "markdown",
   "metadata": {
    "id": "tQhs4xe3g7Gs"
   },
   "source": [
    "## 6 Модель"
   ]
  },
  {
   "cell_type": "code",
   "execution_count": 51,
   "metadata": {
    "executionInfo": {
     "elapsed": 5,
     "status": "ok",
     "timestamp": 1717681813833,
     "user": {
      "displayName": "Igor Astashov",
      "userId": "07071031154975841447"
     },
     "user_tz": -420
    },
    "id": "7j3hGQpcYRsg"
   },
   "outputs": [],
   "source": [
    "class Net(torch.nn.Module):\n",
    "    def __init__(self):\n",
    "        super(Net, self).__init__()\n",
    "        self.effnet = torch.hub.load('rwightman/gen-efficientnet-pytorch', 'efficientnet_b0', pretrained=True)\n",
    "        self.effnet.fc = torch.nn.Sequential()\n",
    "        self.bn0 = torch.nn.BatchNorm1d(num_features=1000)\n",
    "        self.fc1 = torch.nn.Linear(1000, 512)\n",
    "        self.act1 = torch.nn.ReLU()\n",
    "        self.bn1 = torch.nn.BatchNorm1d(num_features=512)\n",
    "        self.fc2 = torch.nn.Linear(512, 4)\n",
    "        self.act2 = torch.nn.Sigmoid()\n",
    "        \n",
    "    \n",
    "    def forward(self, x):\n",
    "        x = self.effnet(x)\n",
    "        x = self.bn0(x)\n",
    "        x = self.fc1(x)\n",
    "        x = self.bn1(x)\n",
    "        x = self.act1(x)\n",
    "        x = self.fc2(x)\n",
    "        x = self.act2(x)\n",
    "        \n",
    "        return x"
   ]
  },
  {
   "cell_type": "code",
   "execution_count": 52,
   "metadata": {
    "colab": {
     "base_uri": "https://localhost:8080/"
    },
    "executionInfo": {
     "elapsed": 1226,
     "status": "ok",
     "timestamp": 1717681815055,
     "user": {
      "displayName": "Igor Astashov",
      "userId": "07071031154975841447"
     },
     "user_tz": -420
    },
    "id": "2SgYxLyCYRu5",
    "outputId": "18d599d7-5ff1-4c2e-cc5e-2b3170342581"
   },
   "outputs": [
    {
     "name": "stderr",
     "output_type": "stream",
     "text": [
      "Using cache found in C:\\Users\\Admin/.cache\\torch\\hub\\rwightman_gen-efficientnet-pytorch_master\n"
     ]
    }
   ],
   "source": [
    "model = Net()\n",
    "model = model.to(device)"
   ]
  },
  {
   "cell_type": "markdown",
   "metadata": {
    "id": "qss7knqX1G5b"
   },
   "source": [
    "## 7 Метрики"
   ]
  },
  {
   "cell_type": "code",
   "execution_count": 53,
   "metadata": {
    "executionInfo": {
     "elapsed": 4,
     "status": "ok",
     "timestamp": 1717681819224,
     "user": {
      "displayName": "Igor Astashov",
      "userId": "07071031154975841447"
     },
     "user_tz": -420
    },
    "id": "UoS9sD2f1I6C"
   },
   "outputs": [],
   "source": [
    "# Считаем основные метрики для каждой маски класса\n",
    "def get_metrics(true, pred):\n",
    "    val_f1, val_precision, val_recall, val_acc = [], [], [], []\n",
    "    for i in range(4):\n",
    "        val_f1.append(round(f1_score(true[:,i], pred[:,i], zero_division=0), 3))\n",
    "        val_precision.append(round(precision_score(true[:,i], pred[:,i], zero_division=0), 3))\n",
    "        val_recall.append(round(recall_score(true[:,i], pred[:,i], zero_division=0), 3))\n",
    "        val_acc.append(round(accuracy_score(true[:,i], pred[:,i]), 3))\n",
    "\n",
    "    val_f1_mean = np.mean(val_f1)\n",
    "\n",
    "    print('f1_mean: {:.3f}, \\nf1: {}, \\npresicion: {}, \\nrecall: {}, \\nacc: {}'.format(\n",
    "          val_f1_mean, val_f1, val_precision, val_recall, val_acc), end=' ')\n",
    "    return val_f1_mean"
   ]
  },
  {
   "cell_type": "markdown",
   "metadata": {
    "id": "OT6BjYUTu45r"
   },
   "source": [
    "## 8 Обучение"
   ]
  },
  {
   "cell_type": "markdown",
   "metadata": {
    "id": "A5aoRwDJo4XH"
   },
   "source": [
    "Прогоним один батч обучения в первой эпохе. Проверим ожидаемые размерности и работоспособность модели."
   ]
  },
  {
   "cell_type": "markdown",
   "metadata": {
    "id": "Ny-U28Cu_5aR"
   },
   "source": [
    "Тренировка"
   ]
  },
  {
   "cell_type": "code",
   "execution_count": 54,
   "metadata": {
    "executionInfo": {
     "elapsed": 833,
     "status": "ok",
     "timestamp": 1717681995168,
     "user": {
      "displayName": "Igor Astashov",
      "userId": "07071031154975841447"
     },
     "user_tz": -420
    },
    "id": "FEh2CToEWt4j"
   },
   "outputs": [],
   "source": [
    "# Шаг обучения\n",
    "LR = 4e-4\n",
    "\n",
    "# Коэф уменьшения шага обучения. Работает по условию уменьшения шага обучения\n",
    "REDUCE_LR_FACTOR = 0.25\n",
    "\n",
    "# Число эпох без улучшения целевой метрики\n",
    "REDUCE_LR_PATIENCE = 7\n",
    "\n",
    "# Минимальный шаг обучения.\n",
    "REDUCE_LR_MIN = 1e-6\n",
    "\n",
    "# ФП для бинарной классификации\n",
    "criterion = torch.nn.BCELoss(reduction='none')\n",
    "\n",
    "# Оптимизатор\n",
    "optimizer_ft = torch.optim.Adam(model.parameters(), lr=LR)\n",
    "\n",
    "# Шедуллер\n",
    "lr_scheduler = torch.optim.lr_scheduler.ReduceLROnPlateau(optimizer_ft, mode='max', # Максимизируем f1\n",
    "                                                                  factor=REDUCE_LR_FACTOR,\n",
    "                                                                  patience=REDUCE_LR_PATIENCE,\n",
    "                                                                  min_lr=REDUCE_LR_MIN\n",
    "                                                                    )"
   ]
  },
  {
   "cell_type": "code",
   "execution_count": 55,
   "metadata": {
    "executionInfo": {
     "elapsed": 807,
     "status": "ok",
     "timestamp": 1717682229524,
     "user": {
      "displayName": "Igor Astashov",
      "userId": "07071031154975841447"
     },
     "user_tz": -420
    },
    "id": "g9rwKHJf-WMC"
   },
   "outputs": [],
   "source": [
    "# Глубокая копия весов модели\n",
    "best_model_wts = copy.deepcopy(model.state_dict())\n",
    "\n",
    "# Переведем модель в режим обучения (для bn и droput)\n",
    "model.train()\n",
    "running_loss = 0.0"
   ]
  },
  {
   "cell_type": "code",
   "execution_count": 56,
   "metadata": {
    "colab": {
     "base_uri": "https://localhost:8080/"
    },
    "executionInfo": {
     "elapsed": 9653,
     "status": "ok",
     "timestamp": 1717682241767,
     "user": {
      "displayName": "Igor Astashov",
      "userId": "07071031154975841447"
     },
     "user_tz": -420
    },
    "id": "sOTdkZMj34aG",
    "outputId": "2d30bac4-d4ec-4c80-a81c-cd88ee403515"
   },
   "outputs": [
    {
     "data": {
      "text/plain": [
       "(torch.Size([16, 3, 256, 320]), torch.Size([16, 4]))"
      ]
     },
     "execution_count": 56,
     "metadata": {},
     "output_type": "execute_result"
    }
   ],
   "source": [
    "# Возьмем один демонстрационный батч\n",
    "for inputs, labels in dataloaders['train']:\n",
    "    inputs = inputs.to(device)\n",
    "    labels = labels.to(device)\n",
    "    break\n",
    "\n",
    "inputs.shape, labels.shape"
   ]
  },
  {
   "cell_type": "code",
   "execution_count": 57,
   "metadata": {
    "colab": {
     "base_uri": "https://localhost:8080/"
    },
    "executionInfo": {
     "elapsed": 29,
     "status": "ok",
     "timestamp": 1717682241767,
     "user": {
      "displayName": "Igor Astashov",
      "userId": "07071031154975841447"
     },
     "user_tz": -420
    },
    "id": "ZA3w2Nom7MOb",
    "outputId": "dfd91deb-4840-4ffa-eee5-80b0c1b0a193"
   },
   "outputs": [
    {
     "data": {
      "text/plain": [
       "tensor([[0., 0., 0., 0.],\n",
       "        [0., 0., 0., 0.],\n",
       "        [0., 0., 1., 0.],\n",
       "        [0., 0., 1., 0.],\n",
       "        [0., 0., 0., 0.],\n",
       "        [0., 0., 1., 0.],\n",
       "        [0., 0., 0., 0.],\n",
       "        [0., 0., 0., 0.],\n",
       "        [0., 0., 1., 0.],\n",
       "        [0., 0., 1., 0.],\n",
       "        [0., 0., 0., 0.],\n",
       "        [0., 0., 1., 0.],\n",
       "        [1., 0., 0., 0.],\n",
       "        [0., 0., 0., 0.],\n",
       "        [0., 0., 0., 0.],\n",
       "        [0., 0., 0., 0.]], device='cuda:0')"
      ]
     },
     "execution_count": 57,
     "metadata": {},
     "output_type": "execute_result"
    }
   ],
   "source": [
    "# Посмотрим на маски классов\n",
    "labels"
   ]
  },
  {
   "cell_type": "code",
   "execution_count": 58,
   "metadata": {
    "executionInfo": {
     "elapsed": 25,
     "status": "ok",
     "timestamp": 1717682241768,
     "user": {
      "displayName": "Igor Astashov",
      "userId": "07071031154975841447"
     },
     "user_tz": -420
    },
    "id": "9upgmrh31JD1"
   },
   "outputs": [],
   "source": [
    "# Обнулим градиенты\n",
    "optimizer_ft.zero_grad()"
   ]
  },
  {
   "cell_type": "code",
   "execution_count": 59,
   "metadata": {
    "colab": {
     "base_uri": "https://localhost:8080/"
    },
    "executionInfo": {
     "elapsed": 24,
     "status": "ok",
     "timestamp": 1717682246995,
     "user": {
      "displayName": "Igor Astashov",
      "userId": "07071031154975841447"
     },
     "user_tz": -420
    },
    "id": "p-pOTvo66HKS",
    "outputId": "44147c55-9712-4654-ac92-b9f54d9e9d28"
   },
   "outputs": [
    {
     "name": "stdout",
     "output_type": "stream",
     "text": [
      "tensor([[0.4098, 0.5830, 0.3538, 0.5981],\n",
      "        [0.3880, 0.4875, 0.3891, 0.6264],\n",
      "        [0.3654, 0.3373, 0.4530, 0.5552],\n",
      "        [0.3496, 0.7236, 0.6072, 0.5115],\n",
      "        [0.4292, 0.3061, 0.4183, 0.6146],\n",
      "        [0.3108, 0.5672, 0.4770, 0.5450],\n",
      "        [0.4154, 0.5564, 0.4424, 0.5710],\n",
      "        [0.4012, 0.2315, 0.4425, 0.6177],\n",
      "        [0.2292, 0.5136, 0.4409, 0.5952],\n",
      "        [0.2456, 0.4152, 0.4495, 0.6576],\n",
      "        [0.2759, 0.3986, 0.2256, 0.4736],\n",
      "        [0.3049, 0.3561, 0.5359, 0.6817],\n",
      "        [0.3687, 0.4156, 0.4221, 0.5373],\n",
      "        [0.2852, 0.4821, 0.5384, 0.5732],\n",
      "        [0.2600, 0.4384, 0.6629, 0.5832],\n",
      "        [0.5304, 0.3543, 0.3387, 0.5867]], device='cuda:0',\n",
      "       grad_fn=<SigmoidBackward0>)\n",
      "torch.Size([16, 4])\n"
     ]
    }
   ],
   "source": [
    "# Выполняем прогноз модели\n",
    "# Включаем режим отслеживания градиентов для последующего бэкпропа\n",
    "with torch.set_grad_enabled(True):\n",
    "    outputs = model(inputs)\n",
    "    print(outputs)\n",
    "    print(outputs.shape)"
   ]
  },
  {
   "cell_type": "code",
   "execution_count": 60,
   "metadata": {
    "colab": {
     "base_uri": "https://localhost:8080/"
    },
    "executionInfo": {
     "elapsed": 20,
     "status": "ok",
     "timestamp": 1717682246996,
     "user": {
      "displayName": "Igor Astashov",
      "userId": "07071031154975841447"
     },
     "user_tz": -420
    },
    "id": "gC_FHHo76W1P",
    "outputId": "fbaeb548-4a7c-418c-dfbb-9efb3aa281b6"
   },
   "outputs": [
    {
     "name": "stdout",
     "output_type": "stream",
     "text": [
      "tensor([[0, 1, 0, 1],\n",
      "        [0, 0, 0, 1],\n",
      "        [0, 0, 0, 1],\n",
      "        [0, 1, 1, 1],\n",
      "        [0, 0, 0, 1],\n",
      "        [0, 1, 0, 1],\n",
      "        [0, 1, 0, 1],\n",
      "        [0, 0, 0, 1],\n",
      "        [0, 1, 0, 1],\n",
      "        [0, 0, 0, 1],\n",
      "        [0, 0, 0, 0],\n",
      "        [0, 0, 1, 1],\n",
      "        [0, 0, 0, 1],\n",
      "        [0, 0, 1, 1],\n",
      "        [0, 0, 1, 1],\n",
      "        [1, 0, 0, 1]], device='cuda:0')\n",
      "torch.Size([16, 4])\n"
     ]
    }
   ],
   "source": [
    "# Бинаризируем с порогом 0.5\n",
    "preds = (outputs > 0.5).long()\n",
    "print(preds)\n",
    "print(preds.shape)"
   ]
  },
  {
   "cell_type": "code",
   "execution_count": 61,
   "metadata": {},
   "outputs": [
    {
     "data": {
      "text/plain": [
       "(tensor([[0.4098, 0.5830, 0.3538, 0.5981],\n",
       "         [0.3880, 0.4875, 0.3891, 0.6264],\n",
       "         [0.3654, 0.3373, 0.4530, 0.5552],\n",
       "         [0.3496, 0.7236, 0.6072, 0.5115],\n",
       "         [0.4292, 0.3061, 0.4183, 0.6146],\n",
       "         [0.3108, 0.5672, 0.4770, 0.5450],\n",
       "         [0.4154, 0.5564, 0.4424, 0.5710],\n",
       "         [0.4012, 0.2315, 0.4425, 0.6177],\n",
       "         [0.2292, 0.5136, 0.4409, 0.5952],\n",
       "         [0.2456, 0.4152, 0.4495, 0.6576],\n",
       "         [0.2759, 0.3986, 0.2256, 0.4736],\n",
       "         [0.3049, 0.3561, 0.5359, 0.6817],\n",
       "         [0.3687, 0.4156, 0.4221, 0.5373],\n",
       "         [0.2852, 0.4821, 0.5384, 0.5732],\n",
       "         [0.2600, 0.4384, 0.6629, 0.5832],\n",
       "         [0.5304, 0.3543, 0.3387, 0.5867]], device='cuda:0',\n",
       "        grad_fn=<SigmoidBackward0>),\n",
       " tensor([[0., 0., 0., 0.],\n",
       "         [0., 0., 0., 0.],\n",
       "         [0., 0., 1., 0.],\n",
       "         [0., 0., 1., 0.],\n",
       "         [0., 0., 0., 0.],\n",
       "         [0., 0., 1., 0.],\n",
       "         [0., 0., 0., 0.],\n",
       "         [0., 0., 0., 0.],\n",
       "         [0., 0., 1., 0.],\n",
       "         [0., 0., 1., 0.],\n",
       "         [0., 0., 0., 0.],\n",
       "         [0., 0., 1., 0.],\n",
       "         [1., 0., 0., 0.],\n",
       "         [0., 0., 0., 0.],\n",
       "         [0., 0., 0., 0.],\n",
       "         [0., 0., 0., 0.]], device='cuda:0'))"
      ]
     },
     "execution_count": 61,
     "metadata": {},
     "output_type": "execute_result"
    }
   ],
   "source": [
    "outputs, labels"
   ]
  },
  {
   "cell_type": "code",
   "execution_count": 62,
   "metadata": {},
   "outputs": [
    {
     "data": {
      "text/plain": [
       "(torch.Size([16, 4]), torch.Size([16, 4]))"
      ]
     },
     "execution_count": 62,
     "metadata": {},
     "output_type": "execute_result"
    }
   ],
   "source": [
    "# Проверим размерность\n",
    "outputs.shape, labels.shape"
   ]
  },
  {
   "cell_type": "code",
   "execution_count": 63,
   "metadata": {
    "colab": {
     "base_uri": "https://localhost:8080/"
    },
    "executionInfo": {
     "elapsed": 16,
     "status": "ok",
     "timestamp": 1717682246996,
     "user": {
      "displayName": "Igor Astashov",
      "userId": "07071031154975841447"
     },
     "user_tz": -420
    },
    "id": "rHaRCjcW6HNG",
    "outputId": "5b7c1477-547a-403c-c477-59a72fd2e183"
   },
   "outputs": [
    {
     "name": "stdout",
     "output_type": "stream",
     "text": [
      "tensor([[0.5273, 0.8747, 0.4367, 0.9115],\n",
      "        [0.4910, 0.6684, 0.4928, 0.9847],\n",
      "        [0.4547, 0.4114, 0.7918, 0.8102],\n",
      "        [0.4302, 1.2860, 0.4988, 0.7164],\n",
      "        [0.5607, 0.3655, 0.5417, 0.9536],\n",
      "        [0.3723, 0.8375, 0.7401, 0.7874],\n",
      "        [0.5369, 0.8128, 0.5840, 0.8463],\n",
      "        [0.5128, 0.2634, 0.5844, 0.9614],\n",
      "        [0.2603, 0.7207, 0.8189, 0.9042],\n",
      "        [0.2819, 0.5366, 0.7997, 1.0719],\n",
      "        [0.3228, 0.5085, 0.2557, 0.6417],\n",
      "        [0.3637, 0.4402, 0.6239, 1.1448],\n",
      "        [0.9979, 0.5372, 0.5483, 0.7707],\n",
      "        [0.3358, 0.6580, 0.7730, 0.8515],\n",
      "        [0.3011, 0.5770, 1.0874, 0.8751],\n",
      "        [0.7559, 0.4374, 0.4135, 0.8835]], device='cuda:0',\n",
      "       grad_fn=<BinaryCrossEntropyBackward0>)\n"
     ]
    }
   ],
   "source": [
    "# Вычислим среднюю потерю BCELoss по батчу без усреднения см. доку\n",
    "# https://pytorch.org/docs/stable/generated/torch.nn.BCELoss.html\n",
    "loss = criterion(outputs, labels)\n",
    "print(loss)"
   ]
  },
  {
   "cell_type": "code",
   "execution_count": 64,
   "metadata": {},
   "outputs": [
    {
     "data": {
      "text/plain": [
       "tensor([0.6875, 0.6592, 0.6170, 0.7329, 0.6054, 0.6843, 0.6950, 0.5805, 0.6761,\n",
       "        0.6725, 0.4321, 0.6432, 0.7135, 0.6546, 0.7102, 0.6226],\n",
       "       device='cuda:0', grad_fn=<MeanBackward1>)"
      ]
     },
     "execution_count": 64,
     "metadata": {},
     "output_type": "execute_result"
    }
   ],
   "source": [
    "# Усредняем потери по классам для каждого изображения\n",
    "mean_losses_per_image = loss.mean(dim=1)\n",
    "mean_losses_per_image"
   ]
  },
  {
   "cell_type": "code",
   "execution_count": 65,
   "metadata": {},
   "outputs": [
    {
     "data": {
      "text/plain": [
       "tensor(0.6492, device='cuda:0', grad_fn=<MeanBackward0>)"
      ]
     },
     "execution_count": 65,
     "metadata": {},
     "output_type": "execute_result"
    }
   ],
   "source": [
    "# Усредняем по всем изображениям в батче\n",
    "mean_loss = mean_losses_per_image.mean()\n",
    "mean_loss"
   ]
  },
  {
   "cell_type": "code",
   "execution_count": 66,
   "metadata": {
    "executionInfo": {
     "elapsed": 13,
     "status": "ok",
     "timestamp": 1717682246996,
     "user": {
      "displayName": "Igor Astashov",
      "userId": "07071031154975841447"
     },
     "user_tz": -420
    },
    "id": "e4RKLUuV1yMQ"
   },
   "outputs": [],
   "source": [
    "# Вычислим градиенты ф. п. ко всем параметрам модели (backprop)\n",
    "mean_loss.backward()\n",
    "\n",
    "# Обновим параметры модели на основе вычисленных градиентов\n",
    "optimizer_ft.step()"
   ]
  },
  {
   "cell_type": "code",
   "execution_count": 67,
   "metadata": {},
   "outputs": [
    {
     "data": {
      "text/plain": [
       "torch.Size([16, 3, 256, 320])"
      ]
     },
     "execution_count": 67,
     "metadata": {},
     "output_type": "execute_result"
    }
   ],
   "source": [
    "inputs.size()"
   ]
  },
  {
   "cell_type": "code",
   "execution_count": 68,
   "metadata": {
    "colab": {
     "base_uri": "https://localhost:8080/"
    },
    "executionInfo": {
     "elapsed": 13,
     "status": "ok",
     "timestamp": 1717682246996,
     "user": {
      "displayName": "Igor Astashov",
      "userId": "07071031154975841447"
     },
     "user_tz": -420
    },
    "id": "UCOxgSBl7DNL",
    "outputId": "85e2004b-e936-4584-dd8f-fb40d01fb920"
   },
   "outputs": [
    {
     "data": {
      "text/plain": [
       "10.38646125793457"
      ]
     },
     "execution_count": 68,
     "metadata": {},
     "output_type": "execute_result"
    }
   ],
   "source": [
    "# Вычислим общую потерю батча и добавим к потерям всех батчей\n",
    "running_loss += mean_loss.item() * inputs.size(0)\n",
    "running_loss"
   ]
  },
  {
   "cell_type": "code",
   "execution_count": 69,
   "metadata": {
    "colab": {
     "base_uri": "https://localhost:8080/"
    },
    "executionInfo": {
     "elapsed": 11,
     "status": "ok",
     "timestamp": 1717682246997,
     "user": {
      "displayName": "Igor Astashov",
      "userId": "07071031154975841447"
     },
     "user_tz": -420
    },
    "id": "iMknY_3g_U8U",
    "outputId": "9ec81fb9-4835-4735-c4c8-e76ec511ea02"
   },
   "outputs": [
    {
     "data": {
      "text/plain": [
       "{'train': 10054, 'val': 12570}"
      ]
     },
     "execution_count": 69,
     "metadata": {},
     "output_type": "execute_result"
    }
   ],
   "source": [
    "# Размер датасета\n",
    "dataset_sizes"
   ]
  },
  {
   "cell_type": "code",
   "execution_count": 70,
   "metadata": {
    "colab": {
     "base_uri": "https://localhost:8080/"
    },
    "executionInfo": {
     "elapsed": 9,
     "status": "ok",
     "timestamp": 1717682246997,
     "user": {
      "displayName": "Igor Astashov",
      "userId": "07071031154975841447"
     },
     "user_tz": -420
    },
    "id": "Hj74MrAV7DQJ",
    "outputId": "6fbfb190-a984-47d4-c3bc-b7b6d5ca922f"
   },
   "outputs": [
    {
     "data": {
      "text/plain": [
       "0.00103306756096425"
      ]
     },
     "execution_count": 70,
     "metadata": {},
     "output_type": "execute_result"
    }
   ],
   "source": [
    "# Средняя потеря на один объект (изображение)\n",
    "# Когда накопится ошибка по всем батчам\n",
    "epoch_loss_train = running_loss / dataset_sizes['train']\n",
    "epoch_loss_train"
   ]
  },
  {
   "cell_type": "markdown",
   "metadata": {
    "id": "JxDL7NC2_3CD"
   },
   "source": [
    "Валидация"
   ]
  },
  {
   "cell_type": "code",
   "execution_count": 71,
   "metadata": {
    "executionInfo": {
     "elapsed": 6,
     "status": "ok",
     "timestamp": 1717682246997,
     "user": {
      "displayName": "Igor Astashov",
      "userId": "07071031154975841447"
     },
     "user_tz": -420
    },
    "id": "EuCuAK6w_vtq"
   },
   "outputs": [],
   "source": [
    "# Режим валидации\n",
    "model.eval()\n",
    "\n",
    "running_loss = 0.0"
   ]
  },
  {
   "cell_type": "code",
   "execution_count": 72,
   "metadata": {
    "executionInfo": {
     "elapsed": 45,
     "status": "ok",
     "timestamp": 1717682247680,
     "user": {
      "displayName": "Igor Astashov",
      "userId": "07071031154975841447"
     },
     "user_tz": -420
    },
    "id": "bu6dZxfE_yh2"
   },
   "outputs": [],
   "source": [
    "pred, true = [], []"
   ]
  },
  {
   "cell_type": "code",
   "execution_count": 73,
   "metadata": {
    "executionInfo": {
     "elapsed": 44,
     "status": "ok",
     "timestamp": 1717682247686,
     "user": {
      "displayName": "Igor Astashov",
      "userId": "07071031154975841447"
     },
     "user_tz": -420
    },
    "id": "s9m1R6zI_yk8"
   },
   "outputs": [],
   "source": [
    "# Батч из одного элемена для валидации\n",
    "for inputs, labels in dataloaders['val']:\n",
    "    inputs = inputs[0].to(device)\n",
    "    labels = labels[0].to(device)\n",
    "    break"
   ]
  },
  {
   "cell_type": "code",
   "execution_count": 74,
   "metadata": {
    "colab": {
     "base_uri": "https://localhost:8080/"
    },
    "executionInfo": {
     "elapsed": 44,
     "status": "ok",
     "timestamp": 1717682247687,
     "user": {
      "displayName": "Igor Astashov",
      "userId": "07071031154975841447"
     },
     "user_tz": -420
    },
    "id": "_yvGxpYA_yoT",
    "outputId": "a5b0c04f-5482-4a1e-a84d-583be9b6b059"
   },
   "outputs": [
    {
     "data": {
      "text/plain": [
       "(torch.Size([5, 3, 256, 320]), torch.Size([5, 4]))"
      ]
     },
     "execution_count": 74,
     "metadata": {},
     "output_type": "execute_result"
    }
   ],
   "source": [
    "# Посмотрим на размерность\n",
    "inputs.shape, labels.shape"
   ]
  },
  {
   "cell_type": "code",
   "execution_count": 75,
   "metadata": {
    "colab": {
     "base_uri": "https://localhost:8080/"
    },
    "executionInfo": {
     "elapsed": 35,
     "status": "ok",
     "timestamp": 1717682247687,
     "user": {
      "displayName": "Igor Astashov",
      "userId": "07071031154975841447"
     },
     "user_tz": -420
    },
    "id": "kNghZEIe_yrB",
    "outputId": "291b88dc-5efb-4a92-c5af-d70b7620ab6b"
   },
   "outputs": [
    {
     "data": {
      "text/plain": [
       "tensor([[1., 0., 0., 0.],\n",
       "        [1., 0., 0., 0.],\n",
       "        [1., 0., 0., 0.],\n",
       "        [0., 0., 0., 0.],\n",
       "        [0., 0., 0., 0.]], device='cuda:0')"
      ]
     },
     "execution_count": 75,
     "metadata": {},
     "output_type": "execute_result"
    }
   ],
   "source": [
    "# Паосмотрим на маски каждого класса в разрезе участков\n",
    "labels"
   ]
  },
  {
   "cell_type": "code",
   "execution_count": 76,
   "metadata": {
    "colab": {
     "base_uri": "https://localhost:8080/"
    },
    "executionInfo": {
     "elapsed": 37,
     "status": "ok",
     "timestamp": 1717682247694,
     "user": {
      "displayName": "Igor Astashov",
      "userId": "07071031154975841447"
     },
     "user_tz": -420
    },
    "id": "Kgv9sZPL_yuJ",
    "outputId": "9c9b5a2e-b294-4f12-94fb-633072d996d3"
   },
   "outputs": [
    {
     "name": "stdout",
     "output_type": "stream",
     "text": [
      "tensor([[0.3785, 0.3976, 0.7229, 0.4928],\n",
      "        [0.3194, 0.3625, 0.6444, 0.5175],\n",
      "        [0.3676, 0.3924, 0.5635, 0.5089],\n",
      "        [0.3484, 0.3703, 0.5370, 0.5844],\n",
      "        [0.3475, 0.4426, 0.5178, 0.5109]], device='cuda:0')\n",
      "torch.Size([5, 4])\n"
     ]
    }
   ],
   "source": [
    "# Вычилим прогнозы для участка и его каждого класса без подсчета градиента\n",
    "with torch.no_grad():\n",
    "    outputs = model(inputs)\n",
    "\n",
    "print(outputs)\n",
    "print(outputs.shape)"
   ]
  },
  {
   "cell_type": "code",
   "execution_count": 77,
   "metadata": {
    "colab": {
     "base_uri": "https://localhost:8080/"
    },
    "executionInfo": {
     "elapsed": 11,
     "status": "ok",
     "timestamp": 1717682248781,
     "user": {
      "displayName": "Igor Astashov",
      "userId": "07071031154975841447"
     },
     "user_tz": -420
    },
    "id": "M_vG1Dpb_nLx",
    "outputId": "76e670a4-f577-4eff-aaca-7d8595435353"
   },
   "outputs": [
    {
     "name": "stdout",
     "output_type": "stream",
     "text": [
      "tensor([[0, 0, 1, 0],\n",
      "        [0, 0, 1, 1],\n",
      "        [0, 0, 1, 1],\n",
      "        [0, 0, 1, 1],\n",
      "        [0, 0, 1, 1]], device='cuda:0')\n"
     ]
    }
   ],
   "source": [
    "# Бинаризируем порог по границе 0.5\n",
    "preds = (outputs > 0.5).long()\n",
    "print(preds)"
   ]
  },
  {
   "cell_type": "code",
   "execution_count": 78,
   "metadata": {
    "colab": {
     "base_uri": "https://localhost:8080/"
    },
    "executionInfo": {
     "elapsed": 9,
     "status": "ok",
     "timestamp": 1717682248782,
     "user": {
      "displayName": "Igor Astashov",
      "userId": "07071031154975841447"
     },
     "user_tz": -420
    },
    "id": "wwN3ZeAH_nO3",
    "outputId": "931d4074-fe1d-416d-e770-d3a4d13fac6b"
   },
   "outputs": [
    {
     "name": "stdout",
     "output_type": "stream",
     "text": [
      "tensor([[0.9716, 0.5068, 1.2833, 0.6789],\n",
      "        [1.1414, 0.4501, 1.0339, 0.7287],\n",
      "        [1.0007, 0.4983, 0.8290, 0.7111],\n",
      "        [0.4284, 0.4625, 0.7700, 0.8780],\n",
      "        [0.4269, 0.5845, 0.7295, 0.7152]], device='cuda:0')\n"
     ]
    }
   ],
   "source": [
    "# Вычислим среднюю потерю BCELoss по батчу (по 5 участкам изображения)\n",
    "loss = criterion(outputs, labels)\n",
    "print(loss)"
   ]
  },
  {
   "cell_type": "code",
   "execution_count": 79,
   "metadata": {},
   "outputs": [
    {
     "data": {
      "text/plain": [
       "tensor([0.8601, 0.8385, 0.7598, 0.6347, 0.6140], device='cuda:0')"
      ]
     },
     "execution_count": 79,
     "metadata": {},
     "output_type": "execute_result"
    }
   ],
   "source": [
    "# Усредняем потери по классам для каждого участка изображения\n",
    "mean_losses_per_image = loss.mean(dim=1)\n",
    "mean_losses_per_image"
   ]
  },
  {
   "cell_type": "code",
   "execution_count": 80,
   "metadata": {},
   "outputs": [
    {
     "data": {
      "text/plain": [
       "tensor(0.7414, device='cuda:0')"
      ]
     },
     "execution_count": 80,
     "metadata": {},
     "output_type": "execute_result"
    }
   ],
   "source": [
    "# Усредняем по всем изображениям в батче (одного целого изображения)\n",
    "mean_loss = mean_losses_per_image.mean()\n",
    "mean_loss"
   ]
  },
  {
   "cell_type": "code",
   "execution_count": 81,
   "metadata": {
    "colab": {
     "base_uri": "https://localhost:8080/"
    },
    "executionInfo": {
     "elapsed": 7,
     "status": "ok",
     "timestamp": 1717682248782,
     "user": {
      "displayName": "Igor Astashov",
      "userId": "07071031154975841447"
     },
     "user_tz": -420
    },
    "id": "FL4kpYPp4qPJ",
    "outputId": "630736d1-87a6-410d-8e83-7535729c2bfe"
   },
   "outputs": [
    {
     "name": "stdout",
     "output_type": "stream",
     "text": [
      "3.707231879234314\n"
     ]
    }
   ],
   "source": [
    "# Вычислим общую потерю батча и добавим к потерям всех батчей\n",
    "running_loss += mean_loss.item() * inputs.size(0)\n",
    "print(running_loss)"
   ]
  },
  {
   "cell_type": "code",
   "execution_count": 82,
   "metadata": {
    "colab": {
     "base_uri": "https://localhost:8080/"
    },
    "executionInfo": {
     "elapsed": 4,
     "status": "ok",
     "timestamp": 1717682250329,
     "user": {
      "displayName": "Igor Astashov",
      "userId": "07071031154975841447"
     },
     "user_tz": -420
    },
    "id": "Y3vlQATkD3C4",
    "outputId": "cec64ae6-68ef-4855-e4eb-39c373331272"
   },
   "outputs": [
    {
     "data": {
      "text/plain": [
       "([array([1., 0., 0., 0.], dtype=float32),\n",
       "  array([1., 0., 0., 0.], dtype=float32),\n",
       "  array([1., 0., 0., 0.], dtype=float32),\n",
       "  array([0., 0., 0., 0.], dtype=float32),\n",
       "  array([0., 0., 0., 0.], dtype=float32)],\n",
       " [array([0, 0, 1, 0], dtype=int64),\n",
       "  array([0, 0, 1, 1], dtype=int64),\n",
       "  array([0, 0, 1, 1], dtype=int64),\n",
       "  array([0, 0, 1, 1], dtype=int64),\n",
       "  array([0, 0, 1, 1], dtype=int64)])"
      ]
     },
     "execution_count": 82,
     "metadata": {},
     "output_type": "execute_result"
    }
   ],
   "source": [
    "# Сохраним предсказания и истинные метки в список\n",
    "# Перенесем на cpu\n",
    "true.extend(labels.data.cpu().numpy())\n",
    "pred.extend(preds.data.cpu().numpy())\n",
    "true, pred"
   ]
  },
  {
   "cell_type": "code",
   "execution_count": 83,
   "metadata": {
    "colab": {
     "base_uri": "https://localhost:8080/"
    },
    "executionInfo": {
     "elapsed": 9,
     "status": "ok",
     "timestamp": 1717682251220,
     "user": {
      "displayName": "Igor Astashov",
      "userId": "07071031154975841447"
     },
     "user_tz": -420
    },
    "id": "wEzCLHTLGcxL",
    "outputId": "30431b55-0a4d-4f09-9b0a-0499484d1ff1"
   },
   "outputs": [
    {
     "name": "stdout",
     "output_type": "stream",
     "text": [
      "{'train': 10054, 'val': 12570}\n"
     ]
    },
    {
     "data": {
      "text/plain": [
       "0.00029492695936629386"
      ]
     },
     "execution_count": 83,
     "metadata": {},
     "output_type": "execute_result"
    }
   ],
   "source": [
    "print(dataset_sizes)\n",
    "\n",
    "# Средняя потеря на один объект (изображение)\n",
    "# Когда накопится running_loss по всем изображениям\n",
    "epoch_loss_val = running_loss / dataset_sizes['val']\n",
    "epoch_loss_val"
   ]
  },
  {
   "cell_type": "code",
   "execution_count": 84,
   "metadata": {
    "colab": {
     "base_uri": "https://localhost:8080/"
    },
    "executionInfo": {
     "elapsed": 7,
     "status": "ok",
     "timestamp": 1717682251221,
     "user": {
      "displayName": "Igor Astashov",
      "userId": "07071031154975841447"
     },
     "user_tz": -420
    },
    "id": "C6AXIOVkGc0D",
    "outputId": "8744fb32-8552-460b-bded-3c6406d5c7dd"
   },
   "outputs": [
    {
     "name": "stdout",
     "output_type": "stream",
     "text": [
      "train loss: 0.0010 val loss: 0.0003\n"
     ]
    }
   ],
   "source": [
    "# Сравним потери на одно изображение для трейна и валидации\n",
    "print('train loss: {:.4f} val loss: {:.4f}'.format(epoch_loss_train, epoch_loss_val))"
   ]
  },
  {
   "cell_type": "code",
   "execution_count": 85,
   "metadata": {
    "colab": {
     "base_uri": "https://localhost:8080/"
    },
    "executionInfo": {
     "elapsed": 6,
     "status": "ok",
     "timestamp": 1717682252200,
     "user": {
      "displayName": "Igor Astashov",
      "userId": "07071031154975841447"
     },
     "user_tz": -420
    },
    "id": "FAxprmgFGc24",
    "outputId": "eda72261-4f15-43a3-c81d-d60bb23da22b"
   },
   "outputs": [
    {
     "name": "stdout",
     "output_type": "stream",
     "text": [
      "true: \n",
      "[[1. 0. 0. 0.]\n",
      " [1. 0. 0. 0.]\n",
      " [1. 0. 0. 0.]\n",
      " [0. 0. 0. 0.]\n",
      " [0. 0. 0. 0.]], \n",
      "pred: \n",
      "[[0 0 1 0]\n",
      " [0 0 1 1]\n",
      " [0 0 1 1]\n",
      " [0 0 1 1]\n",
      " [0 0 1 1]]\n"
     ]
    }
   ],
   "source": [
    "# Выведем предсказания и действительные метки\n",
    "pred = np.array(pred)\n",
    "true = np.array(true)\n",
    "\n",
    "print(f'true: \\n{true}, \\npred: \\n{pred}')"
   ]
  },
  {
   "cell_type": "code",
   "execution_count": 86,
   "metadata": {
    "colab": {
     "base_uri": "https://localhost:8080/"
    },
    "executionInfo": {
     "elapsed": 6,
     "status": "ok",
     "timestamp": 1717682252929,
     "user": {
      "displayName": "Igor Astashov",
      "userId": "07071031154975841447"
     },
     "user_tz": -420
    },
    "id": "VheaOv1zG9_j",
    "outputId": "57d55a17-92b2-4829-862f-3a06ba3159cd"
   },
   "outputs": [
    {
     "name": "stdout",
     "output_type": "stream",
     "text": [
      "f1_mean: 0.000, \n",
      "f1: [0.0, 0.0, 0.0, 0.0], \n",
      "presicion: [0.0, 0.0, 0.0, 0.0], \n",
      "recall: [0.0, 0.0, 0.0, 0.0], \n",
      "acc: [0.4, 1.0, 0.0, 0.2] "
     ]
    },
    {
     "data": {
      "text/plain": [
       "0.0"
      ]
     },
     "execution_count": 86,
     "metadata": {},
     "output_type": "execute_result"
    }
   ],
   "source": [
    "# Посчитаем основные метрики\n",
    "metrics_val = get_metrics(true, pred)\n",
    "metrics_val"
   ]
  },
  {
   "cell_type": "markdown",
   "metadata": {},
   "source": [
    "### 8.1 Класс обучения"
   ]
  },
  {
   "cell_type": "code",
   "execution_count": 59,
   "metadata": {
    "executionInfo": {
     "elapsed": 877,
     "status": "ok",
     "timestamp": 1717680504404,
     "user": {
      "displayName": "Igor Astashov",
      "userId": "07071031154975841447"
     },
     "user_tz": -420
    },
    "id": "MOehe1Xd4ixC"
   },
   "outputs": [],
   "source": [
    "def train_model(model, criterion, optimizer, dataloaders, dataset_sizes,\n",
    "                scheduler, device, num_epochs=25, early_stop_patience=15):\n",
    "    # Временная отметка\n",
    "    since = time.time()\n",
    "\n",
    "    # Глубокая копия весов модели\n",
    "    best_model_wts = copy.deepcopy(model.state_dict())\n",
    "\n",
    "    # Переменная лучшей метрики\n",
    "    best_metrics = 0.0\n",
    "\n",
    "    # Счетчик ранней остановки\n",
    "    early_stoping = 0\n",
    "\n",
    "    for epoch in tqdm(range(num_epochs)):\n",
    "        print('Epoch {}/{}'.format(epoch, num_epochs - 1))\n",
    "        print('-' * 10)\n",
    "\n",
    "        # Переведем модель в режим обучения\n",
    "        model.train()\n",
    "        running_loss = 0.0\n",
    "\n",
    "        # Обучение\n",
    "        # Число батчей для обучения\n",
    "        num_batches_to_process_test = dataloaders['train'].__len__()\n",
    "        \n",
    "        for i, (inputs, labels) in enumerate(dataloaders['train']):\n",
    "            if i >= num_batches_to_process_test:\n",
    "                break\n",
    "            inputs = inputs.to(device)\n",
    "            labels = labels.to(device)\n",
    "\n",
    "            # Обнулим градиенты\n",
    "            optimizer.zero_grad()\n",
    "\n",
    "            # Режим отслеживания градиентов для последующего бэкпропа\n",
    "            with torch.set_grad_enabled(True):\n",
    "                outputs = model(inputs)\n",
    "\n",
    "                # Бинаризируем по порогу 0.5\n",
    "                preds = (outputs > 0.5).long()\n",
    "\n",
    "                # Вычислим среднюю потерю BCELoss по батчу без усреднения см. доку\n",
    "                # https://pytorch.org/docs/stable/generated/torch.nn.BCELoss.html\n",
    "                loss = criterion(outputs, labels)\n",
    "\n",
    "                # Усредняем потери классов для каждого изображения\n",
    "                mean_losses_per_image = loss.mean(dim=1)\n",
    "\n",
    "                # Усредняем по всем изображениям в батче\n",
    "                mean_loss = mean_losses_per_image.mean()\n",
    "\n",
    "                # Вычислим градиенты ф. п. ко всем параметрам модели (backprop)\n",
    "                mean_loss.backward()\n",
    "\n",
    "                # Обновим параметры модели на основе вычисленных градиентов\n",
    "                optimizer.step()\n",
    "\n",
    "            # Вычислим общую потерю батча и добавим к потерям всех батчей\n",
    "            running_loss += mean_loss.item() * inputs.size(0)\n",
    "\n",
    "        # Средняя потеря на один объект (изображение)\n",
    "        epoch_loss_train = running_loss / dataset_sizes['train']\n",
    "\n",
    "        # Валидация\n",
    "        model.eval()\n",
    "\n",
    "        running_loss = 0.0\n",
    "\n",
    "        pred, true = [], []\n",
    "\n",
    "        # Число батчей для валидации\n",
    "        num_batches_to_process_val = dataloaders['val'].__len__()\n",
    "        \n",
    "        for i, (inputs, labels) in enumerate(dataloaders['val']):\n",
    "            if i >= num_batches_to_process_val:\n",
    "                break\n",
    "            inputs = inputs[0].to(device)\n",
    "            labels = labels[0].to(device)\n",
    "\n",
    "            # Прогнозы для участка и его каждого класса без подсчета градиента\n",
    "            with torch.no_grad():\n",
    "                outputs = model(inputs)\n",
    "\n",
    "                # Бинаризируем порог по границе 0.5\n",
    "                preds = (outputs > 0.5).long()\n",
    "\n",
    "                # Вычислим среднюю потерю BCELoss по батчу без усреднения\n",
    "                loss = criterion(outputs, labels)\n",
    "\n",
    "                # Усредняем потери классов для каждого участка изображения\n",
    "                mean_losses_per_image = loss.mean(dim=1)\n",
    "\n",
    "                # Усредняем по всем изображениям в батче (одного целого изображения)\n",
    "                mean_loss = mean_losses_per_image.mean()\n",
    "\n",
    "            # Вычислим общую потерю батча и добавим к потерям всех батчей\n",
    "            running_loss += mean_loss.item() * inputs.size(0)\n",
    "\n",
    "            # Сохраним предсказания и истинные метки в список\n",
    "            true.extend(labels.data.cpu().numpy())\n",
    "            pred.extend(preds.data.cpu().numpy())\n",
    "\n",
    "        # Средняя потеря на один объект (изображение)\n",
    "        epoch_loss_val = running_loss / dataset_sizes['val']\n",
    "\n",
    "        # Выведем потери на одно изображение для трейна и валидации\n",
    "        print('train loss: {:.4f} val loss: {:.4f}'.format(epoch_loss_train, epoch_loss_val))\n",
    "\n",
    "        # Предсказания и действительные метки\n",
    "        pred = np.array(pred)\n",
    "        true = np.array(true)\n",
    "\n",
    "        # Посчитаем основные метрики\n",
    "        metrics_val = get_metrics(true, pred)\n",
    "\n",
    "        # Будем сохранять каждую эпоху веса модели если метрика лучше предыдущей\n",
    "        if metrics_val > best_metrics:\n",
    "            print('*')\n",
    "            best_metrics = metrics_val # Смотрим по f1\n",
    "\n",
    "            # Делаем глубокое копирование словаря с парметрами модели\n",
    "            best_model_wts = copy.deepcopy(model.state_dict())\n",
    "            torch.save(best_model_wts, PATH_WEIGTS)\n",
    "            early_stoping = 0\n",
    "        else:\n",
    "            print('-')\n",
    "            # Если модель не улучшает скор на эпохе то знач. счетчика += 1\n",
    "            early_stoping += 1\n",
    "\n",
    "        # Условие ранней остановки\n",
    "        if early_stoping > early_stop_patience:\n",
    "            break\n",
    "\n",
    "        # Шаг шедуллера для отслеживания метрики см. EARLY_STOP_PATIENCE\n",
    "        scheduler.step(metrics_val)\n",
    "\n",
    "        # Запишем логи\n",
    "        with open('./weights_and_logs/logs_3weigthted.txt','a') as f:\n",
    "            f.write('''train_loss: {:.4f} val_loss: {:.4f} val_metrics: {:.4f}\\n'''.format(epoch_loss_train,\n",
    "                                                                                           epoch_loss_val,\n",
    "                                                                                           metrics_val))\n",
    "    # Подсчитаем время выполнения\n",
    "    time_elapsed = time.time() - since\n",
    "    print('Training complete in {:.0f}m {:.0f}s'.format(\n",
    "        time_elapsed // 60, time_elapsed % 60))\n",
    "    print('Best val metrics: {:4f}'.format(best_metrics))\n",
    "\n",
    "    # Загрузим веса лучшей модели\n",
    "    model.load_state_dict(best_model_wts)\n",
    "    return model"
   ]
  },
  {
   "cell_type": "markdown",
   "metadata": {
    "id": "TPtNN_Udupv_"
   },
   "source": [
    "## 9 Параметры обучения"
   ]
  },
  {
   "cell_type": "code",
   "execution_count": 60,
   "metadata": {
    "colab": {
     "base_uri": "https://localhost:8080/",
     "height": 211
    },
    "executionInfo": {
     "elapsed": 7,
     "status": "error",
     "timestamp": 1717680506919,
     "user": {
      "displayName": "Igor Astashov",
      "userId": "07071031154975841447"
     },
     "user_tz": -420
    },
    "id": "qxI-Z2L0YR1x",
    "outputId": "bbe0388c-7732-44c6-ecf1-d85b199ed514"
   },
   "outputs": [],
   "source": [
    "# Путь логов для сохранения модели\n",
    "file_weigts_name = '2-stage-mclass-model3-weighted_fold_%d.h5'%NUM_FOLD\n",
    "PATH_WEIGTS = os.path.join(os.path.join(os.path.dirname(notebook_path), 'weights_and_logs'),  file_weigts_name)\n",
    "\n",
    "\n",
    "# Определим основные параметры обучения\n",
    "LR = 4e-4\n",
    "REDUCE_LR_FACTOR = 0.25\n",
    "REDUCE_LR_PATIENCE = 7\n",
    "REDUCE_LR_MIN = 1e-6\n",
    "\n",
    "# Поскольку у нас значительный дисбаланс классов, используем weighted loss\n",
    "num_samples = sum([897, 247, 5150, 801]) # Число дефектов каждого класса\n",
    "class_weights = torch.tensor([num_samples / 897,\n",
    "                              num_samples / 247,\n",
    "                              num_samples / 5150,\n",
    "                              num_samples / 801]).to(device)\n",
    "\n",
    "criterion = torch.nn.BCELoss(weight=class_weights, reduction='none')\n",
    "optimizer_ft = torch.optim.Adam(model.parameters(), lr=LR)\n",
    "lr_scheduler = torch.optim.lr_scheduler.ReduceLROnPlateau(optimizer_ft, mode='max',\n",
    "                                                                  factor=REDUCE_LR_FACTOR,\n",
    "                                                                  patience=REDUCE_LR_PATIENCE,\n",
    "                                                                  min_lr=REDUCE_LR_MIN\n",
    "                                                                    )"
   ]
  },
  {
   "cell_type": "markdown",
   "metadata": {
    "id": "T1TcdITfLRFO"
   },
   "source": [
    "## 10 Запуск обучения"
   ]
  },
  {
   "cell_type": "code",
   "execution_count": 61,
   "metadata": {
    "colab": {
     "base_uri": "https://localhost:8080/",
     "height": 408
    },
    "executionInfo": {
     "elapsed": 57767,
     "status": "error",
     "timestamp": 1717679218571,
     "user": {
      "displayName": "Igor Astashov",
      "userId": "07071031154975841447"
     },
     "user_tz": -420
    },
    "id": "h-vcn59aiDiE",
    "outputId": "2010cfe9-f37a-41bc-b179-f509ba959eed",
    "scrolled": true
   },
   "outputs": [
    {
     "name": "stderr",
     "output_type": "stream",
     "text": [
      "  0%|          | 0/100 [00:00<?, ?it/s]"
     ]
    },
    {
     "name": "stdout",
     "output_type": "stream",
     "text": [
      "Epoch 0/99\n",
      "----------\n"
     ]
    },
    {
     "name": "stderr",
     "output_type": "stream",
     "text": [
      "  1%|          | 1/100 [03:59<6:35:41, 239.82s/it]"
     ]
    },
    {
     "name": "stdout",
     "output_type": "stream",
     "text": [
      "train loss: 0.9996 val loss: 0.5240\n",
      "f1_mean: 0.436, \n",
      "f1: [0.021, 0.304, 0.761, 0.657], \n",
      "presicion: [0.75, 0.21, 0.827, 0.932], \n",
      "recall: [0.01, 0.553, 0.705, 0.508], \n",
      "acc: [0.977, 0.991, 0.919, 0.984] *\n",
      "Epoch 1/99\n",
      "----------\n"
     ]
    },
    {
     "name": "stderr",
     "output_type": "stream",
     "text": [
      "  2%|▏         | 2/100 [07:53<6:25:20, 235.92s/it]"
     ]
    },
    {
     "name": "stdout",
     "output_type": "stream",
     "text": [
      "train loss: 0.6074 val loss: 0.3800\n",
      "f1_mean: 0.669, \n",
      "f1: [0.622, 0.511, 0.77, 0.774], \n",
      "presicion: [0.627, 0.383, 0.823, 0.916], \n",
      "recall: [0.618, 0.766, 0.724, 0.67], \n",
      "acc: [0.983, 0.995, 0.921, 0.988] *\n",
      "Epoch 2/99\n",
      "----------\n"
     ]
    },
    {
     "name": "stderr",
     "output_type": "stream",
     "text": [
      "  3%|▎         | 3/100 [11:46<6:19:54, 234.99s/it]"
     ]
    },
    {
     "name": "stdout",
     "output_type": "stream",
     "text": [
      "train loss: 0.5747 val loss: 0.3799\n",
      "f1_mean: 0.606, \n",
      "f1: [0.667, 0.259, 0.74, 0.757], \n",
      "presicion: [0.693, 1.0, 0.857, 0.907], \n",
      "recall: [0.642, 0.149, 0.652, 0.649], \n",
      "acc: [0.985, 0.997, 0.916, 0.988] -\n",
      "Epoch 3/99\n",
      "----------\n"
     ]
    },
    {
     "name": "stderr",
     "output_type": "stream",
     "text": [
      "  4%|▍         | 4/100 [15:39<6:14:37, 234.14s/it]"
     ]
    },
    {
     "name": "stdout",
     "output_type": "stream",
     "text": [
      "train loss: 0.5914 val loss: 0.3961\n",
      "f1_mean: 0.537, \n",
      "f1: [0.631, 0.0, 0.777, 0.739], \n",
      "presicion: [0.538, 0.0, 0.757, 0.773], \n",
      "recall: [0.764, 0.0, 0.798, 0.707], \n",
      "acc: [0.98, 0.996, 0.916, 0.985] -\n",
      "Epoch 4/99\n",
      "----------\n"
     ]
    },
    {
     "name": "stderr",
     "output_type": "stream",
     "text": [
      "  5%|▌         | 5/100 [19:33<6:10:18, 233.88s/it]"
     ]
    },
    {
     "name": "stdout",
     "output_type": "stream",
     "text": [
      "train loss: 0.5248 val loss: 0.3285\n",
      "f1_mean: 0.716, \n",
      "f1: [0.661, 0.654, 0.77, 0.777], \n",
      "presicion: [0.574, 0.596, 0.832, 0.923], \n",
      "recall: [0.778, 0.723, 0.717, 0.67], \n",
      "acc: [0.982, 0.997, 0.921, 0.988] *\n",
      "Epoch 5/99\n",
      "----------\n"
     ]
    },
    {
     "name": "stderr",
     "output_type": "stream",
     "text": [
      "  6%|▌         | 6/100 [23:26<6:05:59, 233.61s/it]"
     ]
    },
    {
     "name": "stdout",
     "output_type": "stream",
     "text": [
      "train loss: 0.5201 val loss: 0.4762\n",
      "f1_mean: 0.644, \n",
      "f1: [0.602, 0.533, 0.771, 0.668], \n",
      "presicion: [0.479, 0.409, 0.769, 0.946], \n",
      "recall: [0.809, 0.766, 0.773, 0.516], \n",
      "acc: [0.975, 0.995, 0.916, 0.985] -\n",
      "Epoch 6/99\n",
      "----------\n"
     ]
    },
    {
     "name": "stderr",
     "output_type": "stream",
     "text": [
      "  7%|▋         | 7/100 [27:19<6:01:56, 233.52s/it]"
     ]
    },
    {
     "name": "stdout",
     "output_type": "stream",
     "text": [
      "train loss: 0.4827 val loss: 0.3487\n",
      "f1_mean: 0.673, \n",
      "f1: [0.586, 0.508, 0.779, 0.819], \n",
      "presicion: [0.887, 0.405, 0.829, 0.891], \n",
      "recall: [0.438, 0.681, 0.735, 0.758], \n",
      "acc: [0.986, 0.995, 0.923, 0.99] -\n",
      "Epoch 7/99\n",
      "----------\n"
     ]
    },
    {
     "name": "stderr",
     "output_type": "stream",
     "text": [
      "  8%|▊         | 8/100 [31:13<5:58:12, 233.61s/it]"
     ]
    },
    {
     "name": "stdout",
     "output_type": "stream",
     "text": [
      "train loss: 0.4363 val loss: 0.3674\n",
      "f1_mean: 0.696, \n",
      "f1: [0.71, 0.488, 0.809, 0.777], \n",
      "presicion: [0.647, 0.345, 0.847, 0.887], \n",
      "recall: [0.788, 0.83, 0.775, 0.691], \n",
      "acc: [0.985, 0.993, 0.933, 0.988] -\n",
      "Epoch 8/99\n",
      "----------\n"
     ]
    },
    {
     "name": "stderr",
     "output_type": "stream",
     "text": [
      "  9%|▉         | 9/100 [35:06<5:53:59, 233.40s/it]"
     ]
    },
    {
     "name": "stdout",
     "output_type": "stream",
     "text": [
      "train loss: 0.4380 val loss: 0.3136\n",
      "f1_mean: 0.728, \n",
      "f1: [0.71, 0.645, 0.796, 0.762], \n",
      "presicion: [0.727, 0.652, 0.809, 0.833], \n",
      "recall: [0.694, 0.638, 0.784, 0.702], \n",
      "acc: [0.987, 0.997, 0.926, 0.987] *\n",
      "Epoch 9/99\n",
      "----------\n"
     ]
    },
    {
     "name": "stderr",
     "output_type": "stream",
     "text": [
      " 10%|█         | 10/100 [38:59<5:49:49, 233.22s/it]"
     ]
    },
    {
     "name": "stdout",
     "output_type": "stream",
     "text": [
      "train loss: 0.4263 val loss: 0.3593\n",
      "f1_mean: 0.705, \n",
      "f1: [0.714, 0.561, 0.797, 0.749], \n",
      "presicion: [0.638, 0.435, 0.899, 0.659], \n",
      "recall: [0.809, 0.787, 0.716, 0.867], \n",
      "acc: [0.985, 0.995, 0.933, 0.983] -\n",
      "Epoch 10/99\n",
      "----------\n"
     ]
    },
    {
     "name": "stderr",
     "output_type": "stream",
     "text": [
      " 11%|█         | 11/100 [42:52<5:45:58, 233.24s/it]"
     ]
    },
    {
     "name": "stdout",
     "output_type": "stream",
     "text": [
      "train loss: 0.3985 val loss: 0.3101\n",
      "f1_mean: 0.734, \n",
      "f1: [0.765, 0.513, 0.819, 0.837], \n",
      "presicion: [0.868, 0.367, 0.782, 0.826], \n",
      "recall: [0.684, 0.851, 0.86, 0.848], \n",
      "acc: [0.99, 0.994, 0.93, 0.99] *\n",
      "Epoch 11/99\n",
      "----------\n"
     ]
    },
    {
     "name": "stderr",
     "output_type": "stream",
     "text": [
      " 12%|█▏        | 12/100 [46:45<5:42:11, 233.32s/it]"
     ]
    },
    {
     "name": "stdout",
     "output_type": "stream",
     "text": [
      "train loss: 0.3536 val loss: 0.3298\n",
      "f1_mean: 0.717, \n",
      "f1: [0.669, 0.565, 0.818, 0.815], \n",
      "presicion: [0.631, 0.429, 0.835, 0.798], \n",
      "recall: [0.712, 0.83, 0.802, 0.832], \n",
      "acc: [0.984, 0.995, 0.934, 0.989] -\n",
      "Epoch 12/99\n",
      "----------\n"
     ]
    },
    {
     "name": "stderr",
     "output_type": "stream",
     "text": [
      " 13%|█▎        | 13/100 [50:39<5:38:18, 233.31s/it]"
     ]
    },
    {
     "name": "stdout",
     "output_type": "stream",
     "text": [
      "train loss: 0.3866 val loss: 0.2784\n",
      "f1_mean: 0.780, \n",
      "f1: [0.796, 0.727, 0.834, 0.761], \n",
      "presicion: [0.793, 0.692, 0.82, 0.938], \n",
      "recall: [0.799, 0.766, 0.849, 0.641], \n",
      "acc: [0.991, 0.998, 0.938, 0.988] *\n",
      "Epoch 13/99\n",
      "----------\n"
     ]
    },
    {
     "name": "stderr",
     "output_type": "stream",
     "text": [
      " 14%|█▍        | 14/100 [54:31<5:34:10, 233.14s/it]"
     ]
    },
    {
     "name": "stdout",
     "output_type": "stream",
     "text": [
      "train loss: 0.3670 val loss: 0.2618\n",
      "f1_mean: 0.793, \n",
      "f1: [0.755, 0.758, 0.83, 0.831], \n",
      "presicion: [0.786, 0.75, 0.816, 0.901], \n",
      "recall: [0.726, 0.766, 0.846, 0.771], \n",
      "acc: [0.989, 0.998, 0.937, 0.991] *\n",
      "Epoch 14/99\n",
      "----------\n"
     ]
    },
    {
     "name": "stderr",
     "output_type": "stream",
     "text": [
      " 15%|█▌        | 15/100 [58:24<5:30:13, 233.10s/it]"
     ]
    },
    {
     "name": "stdout",
     "output_type": "stream",
     "text": [
      "train loss: 0.3868 val loss: 0.2896\n",
      "f1_mean: 0.758, \n",
      "f1: [0.754, 0.661, 0.806, 0.81], \n",
      "presicion: [0.758, 0.549, 0.851, 0.876], \n",
      "recall: [0.75, 0.83, 0.766, 0.753], \n",
      "acc: [0.989, 0.997, 0.932, 0.989] -\n",
      "Epoch 15/99\n",
      "----------\n"
     ]
    },
    {
     "name": "stderr",
     "output_type": "stream",
     "text": [
      " 16%|█▌        | 16/100 [1:02:17<5:26:07, 232.95s/it]"
     ]
    },
    {
     "name": "stdout",
     "output_type": "stream",
     "text": [
      "train loss: 0.3714 val loss: 0.2788\n",
      "f1_mean: 0.773, \n",
      "f1: [0.786, 0.674, 0.824, 0.809], \n",
      "presicion: [0.809, 0.744, 0.815, 0.889], \n",
      "recall: [0.764, 0.617, 0.833, 0.742], \n",
      "acc: [0.99, 0.998, 0.935, 0.989] -\n",
      "Epoch 16/99\n",
      "----------\n"
     ]
    },
    {
     "name": "stderr",
     "output_type": "stream",
     "text": [
      " 17%|█▋        | 17/100 [1:06:10<5:22:16, 232.97s/it]"
     ]
    },
    {
     "name": "stdout",
     "output_type": "stream",
     "text": [
      "train loss: 0.3354 val loss: 0.2651\n",
      "f1_mean: 0.750, \n",
      "f1: [0.705, 0.692, 0.822, 0.782], \n",
      "presicion: [0.917, 0.871, 0.826, 0.934], \n",
      "recall: [0.573, 0.574, 0.818, 0.673], \n",
      "acc: [0.989, 0.998, 0.935, 0.989] -\n",
      "Epoch 17/99\n",
      "----------\n"
     ]
    },
    {
     "name": "stderr",
     "output_type": "stream",
     "text": [
      " 18%|█▊        | 18/100 [1:10:03<5:18:24, 232.98s/it]"
     ]
    },
    {
     "name": "stdout",
     "output_type": "stream",
     "text": [
      "train loss: 0.3334 val loss: 0.2856\n",
      "f1_mean: 0.749, \n",
      "f1: [0.764, 0.681, 0.825, 0.727], \n",
      "presicion: [0.764, 0.681, 0.828, 0.961], \n",
      "recall: [0.764, 0.681, 0.823, 0.585], \n",
      "acc: [0.989, 0.998, 0.936, 0.987] -\n",
      "Epoch 18/99\n",
      "----------\n"
     ]
    },
    {
     "name": "stderr",
     "output_type": "stream",
     "text": [
      " 19%|█▉        | 19/100 [1:13:56<5:14:29, 232.96s/it]"
     ]
    },
    {
     "name": "stdout",
     "output_type": "stream",
     "text": [
      "train loss: 0.3308 val loss: 0.2773\n",
      "f1_mean: 0.766, \n",
      "f1: [0.716, 0.69, 0.829, 0.829], \n",
      "presicion: [0.69, 0.58, 0.837, 0.895], \n",
      "recall: [0.743, 0.851, 0.821, 0.771], \n",
      "acc: [0.986, 0.997, 0.938, 0.99] -\n",
      "Epoch 19/99\n",
      "----------\n"
     ]
    },
    {
     "name": "stderr",
     "output_type": "stream",
     "text": [
      " 20%|██        | 20/100 [1:17:49<5:10:43, 233.05s/it]"
     ]
    },
    {
     "name": "stdout",
     "output_type": "stream",
     "text": [
      "train loss: 0.3484 val loss: 0.2886\n",
      "f1_mean: 0.742, \n",
      "f1: [0.685, 0.629, 0.811, 0.843], \n",
      "presicion: [0.577, 0.667, 0.855, 0.881], \n",
      "recall: [0.844, 0.596, 0.772, 0.809], \n",
      "acc: [0.982, 0.997, 0.934, 0.991] -\n",
      "Epoch 20/99\n",
      "----------\n"
     ]
    },
    {
     "name": "stderr",
     "output_type": "stream",
     "text": [
      " 21%|██        | 21/100 [1:21:42<5:06:53, 233.08s/it]"
     ]
    },
    {
     "name": "stdout",
     "output_type": "stream",
     "text": [
      "train loss: 0.3243 val loss: 0.2575\n",
      "f1_mean: 0.781, \n",
      "f1: [0.801, 0.71, 0.819, 0.794], \n",
      "presicion: [0.773, 0.717, 0.864, 0.913], \n",
      "recall: [0.83, 0.702, 0.778, 0.702], \n",
      "acc: [0.991, 0.998, 0.937, 0.989] -\n",
      "Epoch 21/99\n",
      "----------\n"
     ]
    },
    {
     "name": "stderr",
     "output_type": "stream",
     "text": [
      " 22%|██▏       | 22/100 [1:25:35<5:03:00, 233.08s/it]"
     ]
    },
    {
     "name": "stdout",
     "output_type": "stream",
     "text": [
      "train loss: 0.2712 val loss: 0.2612\n",
      "f1_mean: 0.766, \n",
      "f1: [0.804, 0.615, 0.829, 0.814], \n",
      "presicion: [0.867, 0.482, 0.879, 0.837], \n",
      "recall: [0.75, 0.851, 0.785, 0.793], \n",
      "acc: [0.992, 0.996, 0.941, 0.989] -\n",
      "Epoch 22/99\n",
      "----------\n"
     ]
    },
    {
     "name": "stderr",
     "output_type": "stream",
     "text": [
      " 23%|██▎       | 23/100 [1:29:28<4:58:58, 232.96s/it]"
     ]
    },
    {
     "name": "stdout",
     "output_type": "stream",
     "text": [
      "train loss: 0.2552 val loss: 0.2245\n",
      "f1_mean: 0.790, \n",
      "f1: [0.836, 0.645, 0.843, 0.836], \n",
      "presicion: [0.878, 0.519, 0.878, 0.899], \n",
      "recall: [0.799, 0.851, 0.81, 0.782], \n",
      "acc: [0.993, 0.996, 0.944, 0.991] -\n",
      "Epoch 23/99\n",
      "----------\n"
     ]
    },
    {
     "name": "stderr",
     "output_type": "stream",
     "text": [
      " 24%|██▍       | 24/100 [1:33:21<4:55:12, 233.05s/it]"
     ]
    },
    {
     "name": "stdout",
     "output_type": "stream",
     "text": [
      "train loss: 0.2366 val loss: 0.2018\n",
      "f1_mean: 0.829, \n",
      "f1: [0.828, 0.796, 0.844, 0.847], \n",
      "presicion: [0.813, 0.804, 0.862, 0.856], \n",
      "recall: [0.844, 0.787, 0.828, 0.838], \n",
      "acc: [0.992, 0.998, 0.944, 0.991] *\n",
      "Epoch 24/99\n",
      "----------\n"
     ]
    },
    {
     "name": "stderr",
     "output_type": "stream",
     "text": [
      " 25%|██▌       | 25/100 [1:37:14<4:51:04, 232.86s/it]"
     ]
    },
    {
     "name": "stdout",
     "output_type": "stream",
     "text": [
      "train loss: 0.2202 val loss: 0.2123\n",
      "f1_mean: 0.818, \n",
      "f1: [0.812, 0.755, 0.851, 0.853], \n",
      "presicion: [0.774, 0.725, 0.864, 0.881], \n",
      "recall: [0.854, 0.787, 0.839, 0.827], \n",
      "acc: [0.991, 0.998, 0.946, 0.991] -\n",
      "Epoch 25/99\n",
      "----------\n"
     ]
    },
    {
     "name": "stderr",
     "output_type": "stream",
     "text": [
      " 26%|██▌       | 26/100 [1:41:07<4:47:15, 232.92s/it]"
     ]
    },
    {
     "name": "stdout",
     "output_type": "stream",
     "text": [
      "train loss: 0.2175 val loss: 0.2225\n",
      "f1_mean: 0.799, \n",
      "f1: [0.813, 0.684, 0.849, 0.851], \n",
      "presicion: [0.797, 0.571, 0.855, 0.894], \n",
      "recall: [0.83, 0.851, 0.844, 0.811], \n",
      "acc: [0.991, 0.997, 0.945, 0.991] -\n",
      "Epoch 26/99\n",
      "----------\n"
     ]
    },
    {
     "name": "stderr",
     "output_type": "stream",
     "text": [
      " 27%|██▋       | 27/100 [1:44:59<4:43:14, 232.81s/it]"
     ]
    },
    {
     "name": "stdout",
     "output_type": "stream",
     "text": [
      "train loss: 0.2172 val loss: 0.1987\n",
      "f1_mean: 0.828, \n",
      "f1: [0.807, 0.796, 0.851, 0.858], \n",
      "presicion: [0.776, 0.804, 0.876, 0.851], \n",
      "recall: [0.84, 0.787, 0.828, 0.864], \n",
      "acc: [0.991, 0.998, 0.947, 0.991] -\n",
      "Epoch 27/99\n",
      "----------\n"
     ]
    },
    {
     "name": "stderr",
     "output_type": "stream",
     "text": [
      " 28%|██▊       | 28/100 [1:48:52<4:39:23, 232.82s/it]"
     ]
    },
    {
     "name": "stdout",
     "output_type": "stream",
     "text": [
      "train loss: 0.2098 val loss: 0.1996\n",
      "f1_mean: 0.827, \n",
      "f1: [0.828, 0.783, 0.847, 0.848], \n",
      "presicion: [0.837, 0.8, 0.88, 0.865], \n",
      "recall: [0.819, 0.766, 0.817, 0.832], \n",
      "acc: [0.992, 0.998, 0.946, 0.991] -\n",
      "Epoch 28/99\n",
      "----------\n"
     ]
    },
    {
     "name": "stderr",
     "output_type": "stream",
     "text": [
      " 29%|██▉       | 29/100 [1:52:45<4:35:33, 232.86s/it]"
     ]
    },
    {
     "name": "stdout",
     "output_type": "stream",
     "text": [
      "train loss: 0.2095 val loss: 0.2009\n",
      "f1_mean: 0.827, \n",
      "f1: [0.811, 0.791, 0.851, 0.856], \n",
      "presicion: [0.775, 0.818, 0.868, 0.9], \n",
      "recall: [0.851, 0.766, 0.836, 0.816], \n",
      "acc: [0.991, 0.998, 0.946, 0.992] -\n",
      "Epoch 29/99\n",
      "----------\n"
     ]
    },
    {
     "name": "stderr",
     "output_type": "stream",
     "text": [
      " 30%|███       | 30/100 [1:56:38<4:31:36, 232.81s/it]"
     ]
    },
    {
     "name": "stdout",
     "output_type": "stream",
     "text": [
      "train loss: 0.2049 val loss: 0.2006\n",
      "f1_mean: 0.827, \n",
      "f1: [0.822, 0.784, 0.847, 0.853], \n",
      "presicion: [0.783, 0.76, 0.88, 0.89], \n",
      "recall: [0.865, 0.809, 0.816, 0.819], \n",
      "acc: [0.991, 0.998, 0.946, 0.992] -\n",
      "Epoch 30/99\n",
      "----------\n"
     ]
    },
    {
     "name": "stderr",
     "output_type": "stream",
     "text": [
      " 31%|███       | 31/100 [2:00:31<4:27:53, 232.95s/it]"
     ]
    },
    {
     "name": "stdout",
     "output_type": "stream",
     "text": [
      "train loss: 0.1972 val loss: 0.2126\n",
      "f1_mean: 0.810, \n",
      "f1: [0.84, 0.763, 0.851, 0.787], \n",
      "presicion: [0.831, 0.74, 0.892, 0.912], \n",
      "recall: [0.851, 0.787, 0.812, 0.691], \n",
      "acc: [0.993, 0.998, 0.948, 0.989] -\n",
      "Epoch 31/99\n",
      "----------\n"
     ]
    },
    {
     "name": "stderr",
     "output_type": "stream",
     "text": [
      " 32%|███▏      | 32/100 [2:04:25<4:24:10, 233.10s/it]"
     ]
    },
    {
     "name": "stdout",
     "output_type": "stream",
     "text": [
      "train loss: 0.1674 val loss: 0.2094\n",
      "f1_mean: 0.822, \n",
      "f1: [0.839, 0.779, 0.855, 0.814], \n",
      "presicion: [0.821, 0.771, 0.851, 0.941], \n",
      "recall: [0.858, 0.787, 0.859, 0.718], \n",
      "acc: [0.992, 0.998, 0.947, 0.99] -\n",
      "Epoch 32/99\n",
      "----------\n"
     ]
    },
    {
     "name": "stderr",
     "output_type": "stream",
     "text": [
      " 33%|███▎      | 33/100 [2:08:18<4:20:27, 233.25s/it]"
     ]
    },
    {
     "name": "stdout",
     "output_type": "stream",
     "text": [
      "train loss: 0.1763 val loss: 0.1970\n",
      "f1_mean: 0.828, \n",
      "f1: [0.829, 0.779, 0.854, 0.848], \n",
      "presicion: [0.853, 0.771, 0.882, 0.901], \n",
      "recall: [0.806, 0.787, 0.828, 0.801], \n",
      "acc: [0.992, 0.998, 0.948, 0.991] -\n",
      "Epoch 33/99\n",
      "----------\n"
     ]
    },
    {
     "name": "stderr",
     "output_type": "stream",
     "text": [
      " 34%|███▍      | 34/100 [2:12:11<4:16:28, 233.16s/it]"
     ]
    },
    {
     "name": "stdout",
     "output_type": "stream",
     "text": [
      "train loss: 0.1657 val loss: 0.2037\n",
      "f1_mean: 0.835, \n",
      "f1: [0.835, 0.8, 0.856, 0.849], \n",
      "presicion: [0.804, 0.792, 0.858, 0.904], \n",
      "recall: [0.868, 0.809, 0.854, 0.801], \n",
      "acc: [0.992, 0.998, 0.947, 0.991] *\n",
      "Epoch 34/99\n",
      "----------\n"
     ]
    },
    {
     "name": "stderr",
     "output_type": "stream",
     "text": [
      " 35%|███▌      | 35/100 [2:16:05<4:12:37, 233.20s/it]"
     ]
    },
    {
     "name": "stdout",
     "output_type": "stream",
     "text": [
      "train loss: 0.1772 val loss: 0.2014\n",
      "f1_mean: 0.831, \n",
      "f1: [0.836, 0.779, 0.854, 0.857], \n",
      "presicion: [0.813, 0.771, 0.867, 0.915], \n",
      "recall: [0.861, 0.787, 0.842, 0.806], \n",
      "acc: [0.992, 0.998, 0.947, 0.992] -\n",
      "Epoch 35/99\n",
      "----------\n"
     ]
    },
    {
     "name": "stderr",
     "output_type": "stream",
     "text": [
      " 36%|███▌      | 36/100 [2:19:57<4:08:36, 233.07s/it]"
     ]
    },
    {
     "name": "stdout",
     "output_type": "stream",
     "text": [
      "train loss: 0.1462 val loss: 0.1980\n",
      "f1_mean: 0.834, \n",
      "f1: [0.833, 0.795, 0.854, 0.852], \n",
      "presicion: [0.797, 0.854, 0.86, 0.895], \n",
      "recall: [0.872, 0.745, 0.848, 0.814], \n",
      "acc: [0.992, 0.999, 0.947, 0.992] -\n",
      "Epoch 36/99\n",
      "----------\n"
     ]
    },
    {
     "name": "stderr",
     "output_type": "stream",
     "text": [
      " 37%|███▋      | 37/100 [2:23:51<4:04:46, 233.12s/it]"
     ]
    },
    {
     "name": "stdout",
     "output_type": "stream",
     "text": [
      "train loss: 0.1542 val loss: 0.1958\n",
      "f1_mean: 0.842, \n",
      "f1: [0.837, 0.822, 0.854, 0.855], \n",
      "presicion: [0.82, 0.86, 0.832, 0.9], \n",
      "recall: [0.854, 0.787, 0.877, 0.814], \n",
      "acc: [0.992, 0.999, 0.945, 0.992] *\n",
      "Epoch 37/99\n",
      "----------\n"
     ]
    },
    {
     "name": "stderr",
     "output_type": "stream",
     "text": [
      " 38%|███▊      | 38/100 [2:27:43<4:00:50, 233.08s/it]"
     ]
    },
    {
     "name": "stdout",
     "output_type": "stream",
     "text": [
      "train loss: 0.1650 val loss: 0.2001\n",
      "f1_mean: 0.833, \n",
      "f1: [0.813, 0.804, 0.855, 0.859], \n",
      "presicion: [0.759, 0.822, 0.874, 0.869], \n",
      "recall: [0.875, 0.787, 0.838, 0.848], \n",
      "acc: [0.991, 0.999, 0.948, 0.992] -\n",
      "Epoch 38/99\n",
      "----------\n"
     ]
    },
    {
     "name": "stderr",
     "output_type": "stream",
     "text": [
      " 39%|███▉      | 39/100 [2:31:37<3:57:03, 233.18s/it]"
     ]
    },
    {
     "name": "stdout",
     "output_type": "stream",
     "text": [
      "train loss: 0.1630 val loss: 0.1939\n",
      "f1_mean: 0.834, \n",
      "f1: [0.839, 0.787, 0.855, 0.856], \n",
      "presicion: [0.818, 0.833, 0.87, 0.92], \n",
      "recall: [0.861, 0.745, 0.841, 0.801], \n",
      "acc: [0.992, 0.998, 0.948, 0.992] -\n",
      "Epoch 39/99\n",
      "----------\n"
     ]
    },
    {
     "name": "stderr",
     "output_type": "stream",
     "text": [
      " 40%|████      | 40/100 [2:35:30<3:53:06, 233.11s/it]"
     ]
    },
    {
     "name": "stdout",
     "output_type": "stream",
     "text": [
      "train loss: 0.1627 val loss: 0.1914\n",
      "f1_mean: 0.839, \n",
      "f1: [0.847, 0.787, 0.855, 0.866], \n",
      "presicion: [0.828, 0.833, 0.88, 0.882], \n",
      "recall: [0.868, 0.745, 0.832, 0.851], \n",
      "acc: [0.993, 0.998, 0.948, 0.992] -\n",
      "Epoch 40/99\n",
      "----------\n"
     ]
    },
    {
     "name": "stderr",
     "output_type": "stream",
     "text": [
      " 41%|████      | 41/100 [2:39:23<3:49:10, 233.06s/it]"
     ]
    },
    {
     "name": "stdout",
     "output_type": "stream",
     "text": [
      "train loss: 0.1514 val loss: 0.1916\n",
      "f1_mean: 0.837, \n",
      "f1: [0.84, 0.791, 0.858, 0.861], \n",
      "presicion: [0.814, 0.818, 0.878, 0.904], \n",
      "recall: [0.868, 0.766, 0.839, 0.822], \n",
      "acc: [0.992, 0.998, 0.949, 0.992] -\n",
      "Epoch 41/99\n",
      "----------\n"
     ]
    },
    {
     "name": "stderr",
     "output_type": "stream",
     "text": [
      " 42%|████▏     | 42/100 [2:43:16<3:45:11, 232.96s/it]"
     ]
    },
    {
     "name": "stdout",
     "output_type": "stream",
     "text": [
      "train loss: 0.1527 val loss: 0.1895\n",
      "f1_mean: 0.838, \n",
      "f1: [0.832, 0.8, 0.86, 0.861], \n",
      "presicion: [0.828, 0.837, 0.878, 0.901], \n",
      "recall: [0.837, 0.766, 0.842, 0.824], \n",
      "acc: [0.992, 0.999, 0.949, 0.992] -\n",
      "Epoch 42/99\n",
      "----------\n"
     ]
    },
    {
     "name": "stderr",
     "output_type": "stream",
     "text": [
      " 43%|████▎     | 43/100 [2:47:09<3:41:24, 233.06s/it]"
     ]
    },
    {
     "name": "stdout",
     "output_type": "stream",
     "text": [
      "train loss: 0.1620 val loss: 0.2023\n",
      "f1_mean: 0.832, \n",
      "f1: [0.824, 0.787, 0.856, 0.86], \n",
      "presicion: [0.778, 0.787, 0.864, 0.872], \n",
      "recall: [0.875, 0.787, 0.849, 0.848], \n",
      "acc: [0.991, 0.998, 0.948, 0.992] -\n",
      "Epoch 43/99\n",
      "----------\n"
     ]
    },
    {
     "name": "stderr",
     "output_type": "stream",
     "text": [
      " 44%|████▍     | 44/100 [2:51:02<3:37:31, 233.07s/it]"
     ]
    },
    {
     "name": "stdout",
     "output_type": "stream",
     "text": [
      "train loss: 0.1564 val loss: 0.1958\n",
      "f1_mean: 0.841, \n",
      "f1: [0.841, 0.809, 0.858, 0.856], \n",
      "presicion: [0.804, 0.809, 0.868, 0.877], \n",
      "recall: [0.882, 0.809, 0.848, 0.835], \n",
      "acc: [0.992, 0.999, 0.948, 0.992] -\n",
      "Epoch 44/99\n",
      "----------\n"
     ]
    },
    {
     "name": "stderr",
     "output_type": "stream",
     "text": [
      " 45%|████▌     | 45/100 [2:54:55<3:33:45, 233.18s/it]"
     ]
    },
    {
     "name": "stdout",
     "output_type": "stream",
     "text": [
      "train loss: 0.1454 val loss: 0.1929\n",
      "f1_mean: 0.847, \n",
      "f1: [0.843, 0.817, 0.857, 0.869], \n",
      "presicion: [0.804, 0.826, 0.883, 0.88], \n",
      "recall: [0.885, 0.809, 0.834, 0.859], \n",
      "acc: [0.992, 0.999, 0.949, 0.992] *\n",
      "Epoch 45/99\n",
      "----------\n"
     ]
    },
    {
     "name": "stderr",
     "output_type": "stream",
     "text": [
      " 46%|████▌     | 46/100 [2:58:49<3:29:59, 233.32s/it]"
     ]
    },
    {
     "name": "stdout",
     "output_type": "stream",
     "text": [
      "train loss: 0.1683 val loss: 0.1997\n",
      "f1_mean: 0.834, \n",
      "f1: [0.833, 0.791, 0.857, 0.854], \n",
      "presicion: [0.789, 0.818, 0.859, 0.844], \n",
      "recall: [0.882, 0.766, 0.856, 0.864], \n",
      "acc: [0.992, 0.998, 0.948, 0.991] -\n",
      "Epoch 46/99\n",
      "----------\n"
     ]
    },
    {
     "name": "stderr",
     "output_type": "stream",
     "text": [
      " 47%|████▋     | 47/100 [3:02:43<3:26:13, 233.46s/it]"
     ]
    },
    {
     "name": "stdout",
     "output_type": "stream",
     "text": [
      "train loss: 0.1476 val loss: 0.1904\n",
      "f1_mean: 0.845, \n",
      "f1: [0.86, 0.8, 0.854, 0.865], \n",
      "presicion: [0.856, 0.837, 0.846, 0.904], \n",
      "recall: [0.865, 0.766, 0.863, 0.83], \n",
      "acc: [0.994, 0.999, 0.946, 0.992] -\n",
      "Epoch 47/99\n",
      "----------\n"
     ]
    },
    {
     "name": "stderr",
     "output_type": "stream",
     "text": [
      " 48%|████▊     | 48/100 [3:06:36<3:22:19, 233.45s/it]"
     ]
    },
    {
     "name": "stdout",
     "output_type": "stream",
     "text": [
      "train loss: 0.1581 val loss: 0.1855\n",
      "f1_mean: 0.842, \n",
      "f1: [0.847, 0.791, 0.857, 0.873], \n",
      "presicion: [0.837, 0.818, 0.879, 0.91], \n",
      "recall: [0.858, 0.766, 0.837, 0.838], \n",
      "acc: [0.993, 0.998, 0.949, 0.993] -\n",
      "Epoch 48/99\n",
      "----------\n"
     ]
    },
    {
     "name": "stderr",
     "output_type": "stream",
     "text": [
      " 49%|████▉     | 49/100 [3:10:30<3:18:28, 233.49s/it]"
     ]
    },
    {
     "name": "stdout",
     "output_type": "stream",
     "text": [
      "train loss: 0.1485 val loss: 0.1955\n",
      "f1_mean: 0.841, \n",
      "f1: [0.845, 0.8, 0.856, 0.864], \n",
      "presicion: [0.847, 0.792, 0.862, 0.914], \n",
      "recall: [0.844, 0.809, 0.851, 0.819], \n",
      "acc: [0.993, 0.998, 0.947, 0.992] -\n",
      "Epoch 49/99\n",
      "----------\n"
     ]
    },
    {
     "name": "stderr",
     "output_type": "stream",
     "text": [
      " 50%|█████     | 50/100 [3:14:23<3:14:33, 233.47s/it]"
     ]
    },
    {
     "name": "stdout",
     "output_type": "stream",
     "text": [
      "train loss: 0.1463 val loss: 0.1903\n",
      "f1_mean: 0.842, \n",
      "f1: [0.855, 0.8, 0.852, 0.86], \n",
      "presicion: [0.849, 0.837, 0.885, 0.88], \n",
      "recall: [0.861, 0.766, 0.821, 0.84], \n",
      "acc: [0.993, 0.999, 0.948, 0.992] -\n",
      "Epoch 50/99\n",
      "----------\n"
     ]
    },
    {
     "name": "stderr",
     "output_type": "stream",
     "text": [
      " 51%|█████     | 51/100 [3:18:16<3:10:29, 233.26s/it]"
     ]
    },
    {
     "name": "stdout",
     "output_type": "stream",
     "text": [
      "train loss: 0.1659 val loss: 0.1934\n",
      "f1_mean: 0.837, \n",
      "f1: [0.839, 0.791, 0.858, 0.86], \n",
      "presicion: [0.81, 0.818, 0.877, 0.861], \n",
      "recall: [0.872, 0.766, 0.839, 0.859], \n",
      "acc: [0.992, 0.998, 0.949, 0.992] -\n",
      "Epoch 51/99\n",
      "----------\n"
     ]
    },
    {
     "name": "stderr",
     "output_type": "stream",
     "text": [
      " 52%|█████▏    | 52/100 [3:22:09<3:06:36, 233.26s/it]"
     ]
    },
    {
     "name": "stdout",
     "output_type": "stream",
     "text": [
      "train loss: 0.1429 val loss: 0.1927\n",
      "f1_mean: 0.838, \n",
      "f1: [0.844, 0.791, 0.855, 0.863], \n",
      "presicion: [0.832, 0.818, 0.877, 0.89], \n",
      "recall: [0.858, 0.766, 0.834, 0.838], \n",
      "acc: [0.993, 0.998, 0.948, 0.992] -\n",
      "Epoch 52/99\n",
      "----------\n"
     ]
    },
    {
     "name": "stderr",
     "output_type": "stream",
     "text": [
      " 53%|█████▎    | 53/100 [3:26:03<3:02:46, 233.34s/it]"
     ]
    },
    {
     "name": "stdout",
     "output_type": "stream",
     "text": [
      "train loss: 0.1439 val loss: 0.1957\n",
      "f1_mean: 0.831, \n",
      "f1: [0.844, 0.758, 0.858, 0.862], \n",
      "presicion: [0.825, 0.75, 0.865, 0.914], \n",
      "recall: [0.865, 0.766, 0.851, 0.816], \n",
      "acc: [0.993, 0.998, 0.948, 0.992] -\n",
      "Epoch 53/99\n",
      "----------\n"
     ]
    },
    {
     "name": "stderr",
     "output_type": "stream",
     "text": [
      " 54%|█████▍    | 54/100 [3:29:56<2:58:47, 233.20s/it]"
     ]
    },
    {
     "name": "stdout",
     "output_type": "stream",
     "text": [
      "train loss: 0.1407 val loss: 0.1940\n",
      "f1_mean: 0.840, \n",
      "f1: [0.838, 0.791, 0.858, 0.872], \n",
      "presicion: [0.801, 0.818, 0.859, 0.901], \n",
      "recall: [0.878, 0.766, 0.857, 0.846], \n",
      "acc: [0.992, 0.998, 0.948, 0.993] -\n",
      "Epoch 54/99\n",
      "----------\n"
     ]
    },
    {
     "name": "stderr",
     "output_type": "stream",
     "text": [
      " 55%|█████▌    | 55/100 [3:33:49<2:54:51, 233.14s/it]"
     ]
    },
    {
     "name": "stdout",
     "output_type": "stream",
     "text": [
      "train loss: 0.1456 val loss: 0.1943\n",
      "f1_mean: 0.842, \n",
      "f1: [0.845, 0.8, 0.856, 0.867], \n",
      "presicion: [0.812, 0.837, 0.865, 0.893], \n",
      "recall: [0.882, 0.766, 0.848, 0.843], \n",
      "acc: [0.993, 0.999, 0.948, 0.992] -\n",
      "Epoch 55/99\n",
      "----------\n"
     ]
    },
    {
     "name": "stderr",
     "output_type": "stream",
     "text": [
      " 56%|█████▌    | 56/100 [3:37:41<2:50:51, 232.98s/it]"
     ]
    },
    {
     "name": "stdout",
     "output_type": "stream",
     "text": [
      "train loss: 0.1557 val loss: 0.1925\n",
      "f1_mean: 0.840, \n",
      "f1: [0.844, 0.791, 0.856, 0.867], \n",
      "presicion: [0.816, 0.818, 0.837, 0.895], \n",
      "recall: [0.875, 0.766, 0.875, 0.84], \n",
      "acc: [0.993, 0.998, 0.946, 0.992] -\n",
      "Epoch 56/99\n",
      "----------\n"
     ]
    },
    {
     "name": "stderr",
     "output_type": "stream",
     "text": [
      " 57%|█████▋    | 57/100 [3:41:33<2:46:45, 232.68s/it]"
     ]
    },
    {
     "name": "stdout",
     "output_type": "stream",
     "text": [
      "train loss: 0.1504 val loss: 0.1881\n",
      "f1_mean: 0.845, \n",
      "f1: [0.856, 0.791, 0.858, 0.873], \n",
      "presicion: [0.837, 0.818, 0.87, 0.908], \n",
      "recall: [0.875, 0.766, 0.846, 0.84], \n",
      "acc: [0.993, 0.998, 0.948, 0.993] -\n",
      "Epoch 57/99\n",
      "----------\n"
     ]
    },
    {
     "name": "stderr",
     "output_type": "stream",
     "text": [
      " 58%|█████▊    | 58/100 [3:45:26<2:42:54, 232.73s/it]"
     ]
    },
    {
     "name": "stdout",
     "output_type": "stream",
     "text": [
      "train loss: 0.1378 val loss: 0.1904\n",
      "f1_mean: 0.843, \n",
      "f1: [0.848, 0.8, 0.853, 0.871], \n",
      "presicion: [0.833, 0.837, 0.88, 0.903], \n",
      "recall: [0.865, 0.766, 0.828, 0.84], \n",
      "acc: [0.993, 0.999, 0.948, 0.993] -\n",
      "Epoch 58/99\n",
      "----------\n"
     ]
    },
    {
     "name": "stderr",
     "output_type": "stream",
     "text": [
      " 59%|█████▉    | 59/100 [3:49:19<2:39:07, 232.88s/it]"
     ]
    },
    {
     "name": "stdout",
     "output_type": "stream",
     "text": [
      "train loss: 0.1432 val loss: 0.1921\n",
      "f1_mean: 0.844, \n",
      "f1: [0.849, 0.8, 0.857, 0.868], \n",
      "presicion: [0.828, 0.837, 0.881, 0.898], \n",
      "recall: [0.872, 0.766, 0.834, 0.84], \n",
      "acc: [0.993, 0.999, 0.949, 0.992] -\n",
      "Epoch 59/99\n",
      "----------\n"
     ]
    },
    {
     "name": "stderr",
     "output_type": "stream",
     "text": [
      " 60%|██████    | 60/100 [3:53:12<2:35:11, 232.80s/it]"
     ]
    },
    {
     "name": "stdout",
     "output_type": "stream",
     "text": [
      "train loss: 0.1209 val loss: 0.1878\n",
      "f1_mean: 0.844, \n",
      "f1: [0.858, 0.795, 0.857, 0.866], \n",
      "presicion: [0.845, 0.854, 0.872, 0.902], \n",
      "recall: [0.872, 0.745, 0.841, 0.832], \n",
      "acc: [0.993, 0.999, 0.948, 0.992] -\n",
      "Epoch 60/99\n",
      "----------\n"
     ]
    },
    {
     "name": "stderr",
     "output_type": "stream",
     "text": [
      " 60%|██████    | 60/100 [3:57:05<2:38:03, 237.08s/it]"
     ]
    },
    {
     "name": "stdout",
     "output_type": "stream",
     "text": [
      "train loss: 0.1449 val loss: 0.1910\n",
      "f1_mean: 0.841, \n",
      "f1: [0.843, 0.791, 0.858, 0.871], \n",
      "presicion: [0.804, 0.818, 0.852, 0.891], \n",
      "recall: [0.885, 0.766, 0.864, 0.851], \n",
      "acc: [0.992, 0.998, 0.947, 0.992] -\n",
      "Training complete in 237m 5s\n",
      "Best val metrics: 0.846500\n"
     ]
    },
    {
     "name": "stderr",
     "output_type": "stream",
     "text": [
      "\n"
     ]
    }
   ],
   "source": [
    "EPOCHS = 100\n",
    "EARLY_STOP_PATIENCE = 15\n",
    "\n",
    "model = train_model(model, criterion, optimizer_ft, dataloaders,\n",
    "                        dataset_sizes, lr_scheduler, device,\n",
    "                        num_epochs=EPOCHS, early_stop_patience=EARLY_STOP_PATIENCE)"
   ]
  },
  {
   "cell_type": "markdown",
   "metadata": {},
   "source": [
    "## 11 Результаты"
   ]
  },
  {
   "cell_type": "code",
   "execution_count": 6,
   "metadata": {},
   "outputs": [],
   "source": [
    "with open(os.path.join(os.path.join(os.path.dirname(notebook_path), 'weights_and_logs'), \n",
    "                       '2-stage-mclass-logs3-weigthted.txt'),'r') as f:\n",
    "    logs = f.read()\n",
    "\n",
    "logs = logs.split('\\n')\n",
    "\n",
    "metrics_4 = [float(x.split(' ')[-1]) for x in logs[:-1]]\n",
    "train_loss_4 = [float(x.split(' ')[1]) for x in logs[:-1]]\n",
    "val_loss_4 = [float(x.split(' ')[3]) for x in logs[:-1]]"
   ]
  },
  {
   "cell_type": "code",
   "execution_count": 12,
   "metadata": {},
   "outputs": [
    {
     "data": {
      "image/png": "[encoded data removed]",
      "text/plain": [
       "<Figure size 1400x300 with 2 Axes>"
      ]
     },
     "metadata": {},
     "output_type": "display_data"
    }
   ],
   "source": [
    "# Визуализация потерь и f1-мера\n",
    "plt.figure(figsize=(14, 3))\n",
    "\n",
    "# График f1 - метрики\n",
    "plt.subplot(1, 2, 1)\n",
    "plt.plot(metrics_4, '.-', label='f1-мера на валидации', color='blue')\n",
    "plt.xlabel('Эпоха')\n",
    "plt.ylabel('f1-мера')\n",
    "plt.title('f1-мера по эпохам')\n",
    "plt.legend()\n",
    "plt.grid(True)\n",
    "\n",
    "# График потерь\n",
    "plt.subplot(1, 2, 2)\n",
    "plt.plot(train_loss_4, '.-', label='тест', color='orange')\n",
    "plt.plot(val_loss_4, '.-', label='валидация', color='red')\n",
    "plt.xlabel('Эпоха')\n",
    "plt.ylabel('Потери')\n",
    "plt.title('Потери на обучении и валидации по эпохам')\n",
    "plt.legend()\n",
    "plt.grid(True)\n",
    "\n",
    "plt.tight_layout()\n",
    "plt.show()"
   ]
  },
  {
   "cell_type": "markdown",
   "metadata": {},
   "source": [
    "__Модель: `efficientnet_b0`/ f1 среднее по четырем классам на валидации 45 эпохи: `0.847`. Модель предсказывала наличие или отсутствия четырех классов дефектов на изображении.__\n",
    "\n",
    "\n",
    "```\n",
    "train loss: 0.1454 val loss: 0.1929\n",
    "f1_mean: 0.847, \n",
    "f1: [0.843, 0.817, 0.857, 0.869], \n",
    "presicion: [0.804, 0.826, 0.883, 0.88], \n",
    "recall: [0.885, 0.809, 0.834, 0.859], \n",
    "acc: [0.992, 0.999, 0.949, 0.992] *\n",
    "Epoch 45/99\n",
    "```\n",
    "\n",
    "class_weights = [ 7.9097, 28.7247,  1.3777,  8.8577]\n",
    "\n",
    "EPOCHS = 100\n",
    "\n",
    "EARLY_STOP_PATIENCE = 15\n",
    "\n",
    "BCELoss(weight=class_weights, reduction='none'),\n",
    "\n",
    "Adam(4e-4),\n",
    "\n",
    "ReduceLROnPlateau(REDUCE_LR_FACTOR = 0.25, REDUCE_LR_PATIENCE = 7, REDUCE_LR_MIN = 1e-6)"
   ]
  },
  {
   "cell_type": "markdown",
   "metadata": {},
   "source": [
    "**Интерпретация результатов:**\n",
    "\n",
    "- Средний F1-скор (f1_mean: 0.847): Не плохое значение, учитывая сбалансированную точность и полноту для всех классов.\n",
    "\n",
    "- F1-меры для каждого класса:\n",
    "\n",
    "```\n",
    "Класс 1: 0.843\n",
    "Класс 2: 0.817\n",
    "Класс 3: 0.857\n",
    "Класс 4: 0.869"
   ]
  },
  {
   "cell_type": "markdown",
   "metadata": {},
   "source": [
    "- ~Попробовать: ResNet, EfficientNet-B7, ResNet + Attention (CBAM), ViT и ансамблирование.~"
   ]
  },
  {
   "cell_type": "code",
   "execution_count": null,
   "metadata": {},
   "outputs": [],
   "source": []
  }
 ],
 "metadata": {
  "accelerator": "GPU",
  "colab": {
   "authorship_tag": "ABX9TyMq5U5JusYnjyzNK43bPXBq",
   "gpuType": "T4",
   "provenance": [],
   "toc_visible": true
  },
  "kernelspec": {
   "display_name": "Python 3 (ipykernel)",
   "language": "python",
   "name": "python3"
  },
  "language_info": {
   "codemirror_mode": {
    "name": "ipython",
    "version": 3
   },
   "file_extension": ".py",
   "mimetype": "text/x-python",
   "name": "python",
   "nbconvert_exporter": "python",
   "pygments_lexer": "ipython3",
   "version": "3.11.9"
  }
 },
 "nbformat": 4,
 "nbformat_minor": 4
}
